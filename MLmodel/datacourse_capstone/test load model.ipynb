{
 "cells": [
  {
   "cell_type": "code",
   "execution_count": 1,
   "metadata": {},
   "outputs": [],
   "source": [
    "import requests\n",
    "import dill\n",
    "from bs4 import BeautifulSoup\n",
    "from datetime import datetime\n",
    "import simplejson as json\n",
    "import pandas as pd\n",
    "import numpy as np\n",
    "from urllib.parse import quote\n",
    "from urllib.request import urlopen\n",
    "import spotipy\n",
    "import time\n",
    "import re"
   ]
  },
  {
   "cell_type": "code",
   "execution_count": 2,
   "metadata": {},
   "outputs": [],
   "source": [
    "from spotipy.oauth2 import SpotifyClientCredentials\n",
    "client_credentials_manager = spotipy.oauth2.SpotifyClientCredentials('d6967ce2057448d4aab3ad9898119c97',  'ad7f82cc26a64f1595b6b3c4cd917243')\n",
    "spotify = spotipy.Spotify(client_credentials_manager=client_credentials_manager)"
   ]
  },
  {
   "cell_type": "code",
   "execution_count": 3,
   "metadata": {},
   "outputs": [],
   "source": [
    "import dill\n",
    "model = dill.load(open('model.pkd', 'rb'))"
   ]
  },
  {
   "cell_type": "code",
   "execution_count": 12,
   "metadata": {},
   "outputs": [],
   "source": [
    "import heapq\n",
    "def hit_song_predictor(album, model):\n",
    "    X, y = album.train_X_y()\n",
    "    y_est = model.predict(X)\n",
    "    indices = np.arange(album.total_tracks)[y_est]\n",
    "    hit_list = album.tracks_df[[ 'track_number',  'name']].values[indices]\n",
    "\n",
    "    y_est_prob_mtx = model.predict_proba(X)\n",
    "    y_est_prob_mtx[:, 0] = np.arange(album.total_tracks)\n",
    "    indices = np.array(heapq.nlargest(3, y_est_prob_mtx, key=lambda x: x[1]))[:,0].astype(int)\n",
    "    \n",
    "    top_three = album.tracks_df[[ 'track_number',  'name']].values[indices] \n",
    "        \n",
    "    return hit_list, top_three"
   ]
  },
  {
   "cell_type": "code",
   "execution_count": 5,
   "metadata": {},
   "outputs": [],
   "source": [
    "from sklearn.preprocessing import PolynomialFeatures, MinMaxScaler\n",
    "\n",
    "class Album(object):\n",
    "    def __init__(self, album_json):\n",
    "        self.id, self.name, self.genres, self.popularity, self.total_tracks, self.artists_list = [album_json[k] for k in ['id', 'name', 'genres', 'popularity', 'total_tracks', 'artists_list']]\n",
    "        self.tracks_df = pd.read_json(album_json['tracks_info'], orient='split')\n",
    "\n",
    "    def unit_transf(self):\n",
    "        self.tracks_df['tempo'] = self.tracks_df['tempo'] / 60\n",
    "        self.tracks_df['duration_ms'] = self.tracks_df['duration_ms'] / 1000 / 60\n",
    "        self.tracks_df['loudness'] = self.tracks_df['loudness'] / 10\n",
    "        self.tracks_df['ordering'] = MinMaxScaler().fit_transform(self.tracks_df['track_number'].values.reshape(-1,1)) - 0.5\n",
    "        self.tracks_df['total_tracks'] = self.total_tracks\n",
    "        \n",
    "    def classification_label(self):\n",
    "        self.tracks_df['label'] = self.tracks_df['popularity'] >= self.popularity\n",
    "        return self.tracks_df['label'].values\n",
    "        \n",
    "    def train_X_y(self):\n",
    "        self.unit_transf()        \n",
    "        X = self.tracks_df[['mode', 'tempo', 'duration_ms', 'ordering', 'acousticness', 'danceability', 'energy', 'liveness', 'speechiness','valence']].values\n",
    "        y = self.classification_label()\n",
    "        return X, y"
   ]
  },
  {
   "cell_type": "code",
   "execution_count": 6,
   "metadata": {},
   "outputs": [],
   "source": [
    "def strip_Feat(artists):\n",
    "    pos = artists.find('Featuring')\n",
    "    if pos == -1:\n",
    "        return artists\n",
    "    else:\n",
    "        return artists[:pos].strip()\n",
    "    \n",
    "def get_track_artists(year, domain = 'https://www.billboard.com/charts/year-end/'):\n",
    "    path = domain + str(year) + '/hot-100-songs'\n",
    "    response = requests.get(path)\n",
    "    soup = BeautifulSoup(response.text, \"lxml\")\n",
    "\n",
    "    parents = soup.findAll(class_=r'ye-chart-item__text')\n",
    "\n",
    "    track_artists = []\n",
    "    for parent in parents:\n",
    "        track = parent.find('div',attrs={'class':'ye-chart-item__title'}).get_text().strip()\n",
    "        artists = parent.find('div',attrs={'class':'ye-chart-item__artist'}).get_text().strip()\n",
    "        track_artists.append((track, artists))\n",
    "    return track_artists\n",
    "\n",
    "\n",
    "def get_album_artists(year, domain='https://www.billboard.com/archive/charts/'):\n",
    "    response = requests.get(domain + str(year) + \"/top-album-sales\")\n",
    "    soup = BeautifulSoup(response.text, \"lxml\")\n",
    "    table = soup.find('table',attrs={'class':'archive-table'}).findAll('tr')[1:]\n",
    "\n",
    "    album_artists=[]\n",
    "    for tr in table:\n",
    "        td = tr.findAll('td')\n",
    "        try:\n",
    "            album_artists.append((td[-2].get_text(),td[-1].get_text()))\n",
    "        except:\n",
    "            pass\n",
    "    return album_artists\n",
    "\n",
    "def get_track_artists_arxiv(year, domain='https://www.billboard.com/archive/charts/'):\n",
    "    path = domain + str(year) + '/hot-100'\n",
    "    response = requests.get(path)\n",
    "    soup = BeautifulSoup(response.text, \"lxml\")\n",
    "\n",
    "    table = soup.find('table',attrs={'class':'archive-table'}).findAll('tr')[1:]\n",
    "\n",
    "    track_artists=[]\n",
    "    for tr in table:\n",
    "        td = tr.findAll('td')\n",
    "        try:\n",
    "            track_artists.append((td[-2].get_text(),td[-1].get_text()))\n",
    "        except:\n",
    "            pass\n",
    "    return track_artists\n",
    "\n",
    "def get_album_id_from_track(track, artists):\n",
    "    try:\n",
    "        track = track.replace(\"'\",'')\n",
    "        artists = \", \".join(re.split(r' & | x | X | With | with ', artists))\n",
    "        q = 'track:' + track + ' artist:' + artists\n",
    "        result = spotify.search(q, limit=1)\n",
    "        the_first_album = result['tracks']['items'][0]['album']\n",
    "        album_id = the_first_album.get('id')\n",
    "        return album_id\n",
    "    except:\n",
    "#         try:\n",
    "#             artists = ' '.join(artists.split(' x '))\n",
    "#             artists = ' '.join(artists.split(' X '))\n",
    "#             q = track + ' ' + artists\n",
    "#             result = spotify.search(q, limit=1)\n",
    "#             the_first_album = result['tracks']['items'][0]['album']\n",
    "#             album_id = the_first_album.get('id')\n",
    "#             return album_id\n",
    "#         except:\n",
    "        return track, artists\n",
    "\n",
    "def get_album_id_from_album(album, artists):\n",
    "\n",
    "    try:\n",
    "        album = album.replace(\"'\",'')        \n",
    "        artists = \", \".join(re.split(r' & | x | X | With | with ', artists))\n",
    "        q = 'album:' + album + ' artist:' + artists\n",
    "        result = spotify.search(q, type='album', limit=1)\n",
    "        the_first_album = result['albums']['items'][0]\n",
    "        album_id = the_first_album.get('id')\n",
    "        return album_id\n",
    "    \n",
    "    except:\n",
    "#         try:\n",
    "#             q =  album\n",
    "#             result = spotify.search(q, type='album', limit=1)\n",
    "#             the_first_album = result['albums']['items'][0]\n",
    "#             album_id = the_first_album.get('id')\n",
    "#             return album_id\n",
    "#         except:\n",
    "        return album, artists\n",
    "\n",
    "def get_albums_id_list(year, get_album_id_func, scraping_func):\n",
    "    albums_id = []    \n",
    "\n",
    "\n",
    "    trackOrAlbum_artists = scraping_func(year)\n",
    "    for trackOrAlbum, artists in trackOrAlbum_artists:\n",
    "        albums_id.append(get_album_id_func(trackOrAlbum,strip_Feat(artists)))\n",
    "        \n",
    "    return albums_id\n",
    "\n",
    "def album_json(album_id):\n",
    "\n",
    "    d = spotify.album(album_id)\n",
    "    subkeys = ['id', 'name', 'genres',  'popularity', 'total_tracks']\n",
    "\n",
    "    subkeys = ['id', 'name', 'genres',  'popularity', 'total_tracks']\n",
    "    \n",
    "    album_info = {k: d[k] for k in subkeys if k in d}\n",
    "    tracks = d['tracks']['items']\n",
    "    tracks_id = [t['id'] for t in tracks]\n",
    "    tracks_df_json = pd.DataFrame(audio_features(tracks_id),columns=['id',  'track_number', 'popularity','name', 'duration_ms', 'tempo','time_signature', 'key',\n",
    "       'valence', 'mode', 'acousticness', 'danceability', 'energy', \n",
    "       'instrumentalness',  'liveness', 'loudness', 'speechiness']).to_json(orient='split')\n",
    "    album_info.update({'artists_list': [a['name'] for a in d['artists']], 'tracks_info': tracks_df_json })\n",
    "    \n",
    "    return album_info\n",
    "\n",
    "def track_json(track_id):\n",
    "    d = spotify.track(track_id)\n",
    "    subkeys = ['id', 'popularity', 'name', 'track_number']\n",
    "    subdict = {k: d[k] for k in subkeys if k in d}\n",
    "    return subdict\n",
    "\n",
    "\n",
    "def audio_feature_decorator(spotify_audio_features_func):\n",
    "\n",
    "    def wrapper_func(track_id_list):\n",
    "        subkeys = ['danceability', 'energy', 'key', 'loudness', 'mode', 'speechiness', 'acousticness', 'instrumentalness', 'liveness', 'valence', 'tempo', 'duration_ms', 'time_signature']\n",
    "        \n",
    "        \n",
    "        features_list = spotify_audio_features_func(track_id_list)\n",
    "        \n",
    "        my_features_list = []\n",
    "        for i, features in enumerate(features_list):\n",
    "            sub_features = {k: features[k] for k in subkeys if k in features}\n",
    "            other_info = track_json(track_id_list[i])\n",
    "            other_info.update(sub_features)\n",
    "            \n",
    "            my_features_list.append(other_info)\n",
    "            \n",
    "        return my_features_list\n",
    "    \n",
    "    return wrapper_func\n",
    "\n",
    "@audio_feature_decorator\n",
    "def audio_features(track_id_list):\n",
    "    return spotify.audio_features(track_id_list)\n"
   ]
  },
  {
   "cell_type": "code",
   "execution_count": 55,
   "metadata": {},
   "outputs": [],
   "source": [
    "album_id = get_album_id_from_album('Ricky Sings Again', 'Ricky Nelson')"
   ]
  },
  {
   "cell_type": "code",
   "execution_count": 56,
   "metadata": {},
   "outputs": [],
   "source": [
    "abj = album_json(album_id)\n",
    "a = Album(abj)"
   ]
  },
  {
   "cell_type": "code",
   "execution_count": 57,
   "metadata": {},
   "outputs": [],
   "source": [
    "X, y = a.train_X_y()"
   ]
  },
  {
   "cell_type": "code",
   "execution_count": 13,
   "metadata": {},
   "outputs": [],
   "source": [
    "hit_ls, top_three = hit_song_predictor(a, model)"
   ]
  },
  {
   "cell_type": "code",
   "execution_count": 40,
   "metadata": {},
   "outputs": [],
   "source": [
    "def track_print(ls):\n",
    "    string = \"\"\n",
    "    for n, t in ls:\n",
    "        string += (str(n) + '. ' + t ) + '\\n'\n",
    "    \n",
    "    return string[:-2] "
   ]
  },
  {
   "cell_type": "code",
   "execution_count": 41,
   "metadata": {},
   "outputs": [
    {
     "data": {
      "text/plain": [
       "''"
      ]
     },
     "execution_count": 41,
     "metadata": {},
     "output_type": "execute_result"
    }
   ],
   "source": [
    "track_print(hit_ls)"
   ]
  },
  {
   "cell_type": "code",
   "execution_count": 53,
   "metadata": {},
   "outputs": [
    {
     "data": {
      "text/plain": [
       "'3. Believe What You Say - Remastered\\n7. Old Enough To Love - Remastered\\n2. One Of These Mornings - Remastere'"
      ]
     },
     "execution_count": 53,
     "metadata": {},
     "output_type": "execute_result"
    }
   ],
   "source": [
    "track_print(top_three)"
   ]
  },
  {
   "cell_type": "code",
   "execution_count": 60,
   "metadata": {},
   "outputs": [
    {
     "data": {
      "text/html": [
       "<style  type=\"text/css\" >\n",
       "    #T_fa8c10b4_87f0_11e9_bdad_8438355d3b84row0_col0 {\n",
       "            background-color:  #ffc3ce;\n",
       "        }    #T_fa8c10b4_87f0_11e9_bdad_8438355d3b84row0_col1 {\n",
       "            background-color:  #ffd4dc;\n",
       "        }    #T_fa8c10b4_87f0_11e9_bdad_8438355d3b84row0_col2 {\n",
       "            background-color:  #ffc0cb;\n",
       "        }    #T_fa8c10b4_87f0_11e9_bdad_8438355d3b84row0_col3 {\n",
       "            background-color:  #ffe2e7;\n",
       "        }    #T_fa8c10b4_87f0_11e9_bdad_8438355d3b84row1_col0 {\n",
       "            background-color:  #ffd4db;\n",
       "        }    #T_fa8c10b4_87f0_11e9_bdad_8438355d3b84row1_col1 {\n",
       "            background-color:  #ffccd5;\n",
       "        }    #T_fa8c10b4_87f0_11e9_bdad_8438355d3b84row1_col2 {\n",
       "            background-color:  #ffc8d2;\n",
       "        }    #T_fa8c10b4_87f0_11e9_bdad_8438355d3b84row1_col3 {\n",
       "            background-color:  #ffe4e9;\n",
       "        }    #T_fa8c10b4_87f0_11e9_bdad_8438355d3b84row2_col0 {\n",
       "            background-color:  #ffc8d2;\n",
       "        }    #T_fa8c10b4_87f0_11e9_bdad_8438355d3b84row2_col1 {\n",
       "            background-color:  #ffd0d8;\n",
       "        }    #T_fa8c10b4_87f0_11e9_bdad_8438355d3b84row2_col2 {\n",
       "            background-color:  #ffc0cb;\n",
       "        }    #T_fa8c10b4_87f0_11e9_bdad_8438355d3b84row2_col3 {\n",
       "            background-color:  #ffe3e8;\n",
       "        }    #T_fa8c10b4_87f0_11e9_bdad_8438355d3b84row3_col0 {\n",
       "            background-color:  #ffc2cd;\n",
       "        }    #T_fa8c10b4_87f0_11e9_bdad_8438355d3b84row3_col1 {\n",
       "            background-color:  #ffdce2;\n",
       "        }    #T_fa8c10b4_87f0_11e9_bdad_8438355d3b84row3_col2 {\n",
       "            background-color:  #ffdee4;\n",
       "        }    #T_fa8c10b4_87f0_11e9_bdad_8438355d3b84row3_col3 {\n",
       "            background-color:  #ffe0e6;\n",
       "        }    #T_fa8c10b4_87f0_11e9_bdad_8438355d3b84row4_col0 {\n",
       "            background-color:  #ffcad3;\n",
       "        }    #T_fa8c10b4_87f0_11e9_bdad_8438355d3b84row4_col1 {\n",
       "            background-color:  #ffd2da;\n",
       "        }    #T_fa8c10b4_87f0_11e9_bdad_8438355d3b84row4_col2 {\n",
       "            background-color:  #ffdbe1;\n",
       "        }    #T_fa8c10b4_87f0_11e9_bdad_8438355d3b84row4_col3 {\n",
       "            background-color:  #ffc7d1;\n",
       "        }    #T_fa8c10b4_87f0_11e9_bdad_8438355d3b84row5_col0 {\n",
       "            background-color:  #ffc4ce;\n",
       "        }    #T_fa8c10b4_87f0_11e9_bdad_8438355d3b84row5_col1 {\n",
       "            background-color:  #ffe0e6;\n",
       "        }    #T_fa8c10b4_87f0_11e9_bdad_8438355d3b84row5_col2 {\n",
       "            background-color:  #ffd8df;\n",
       "        }    #T_fa8c10b4_87f0_11e9_bdad_8438355d3b84row5_col3 {\n",
       "            background-color:  #ffc9d2;\n",
       "        }    #T_fa8c10b4_87f0_11e9_bdad_8438355d3b84row6_col0 {\n",
       "            background-color:  #ffc8d2;\n",
       "        }    #T_fa8c10b4_87f0_11e9_bdad_8438355d3b84row6_col1 {\n",
       "            background-color:  #ffced7;\n",
       "        }    #T_fa8c10b4_87f0_11e9_bdad_8438355d3b84row6_col2 {\n",
       "            background-color:  #ffcfd8;\n",
       "        }    #T_fa8c10b4_87f0_11e9_bdad_8438355d3b84row6_col3 {\n",
       "            background-color:  #ffe1e6;\n",
       "        }    #T_fa8c10b4_87f0_11e9_bdad_8438355d3b84row7_col0 {\n",
       "            background-color:  #ffe3e8;\n",
       "        }    #T_fa8c10b4_87f0_11e9_bdad_8438355d3b84row7_col1 {\n",
       "            background-color:  #ffd7de;\n",
       "        }    #T_fa8c10b4_87f0_11e9_bdad_8438355d3b84row7_col2 {\n",
       "            background-color:  #ffd1d9;\n",
       "        }    #T_fa8c10b4_87f0_11e9_bdad_8438355d3b84row7_col3 {\n",
       "            background-color:  #ffdde3;\n",
       "        }    #T_fa8c10b4_87f0_11e9_bdad_8438355d3b84row8_col0 {\n",
       "            background-color:  #ffd1d9;\n",
       "        }    #T_fa8c10b4_87f0_11e9_bdad_8438355d3b84row8_col1 {\n",
       "            background-color:  #ffcdd6;\n",
       "        }    #T_fa8c10b4_87f0_11e9_bdad_8438355d3b84row8_col2 {\n",
       "            background-color:  #ffd1d9;\n",
       "        }    #T_fa8c10b4_87f0_11e9_bdad_8438355d3b84row8_col3 {\n",
       "            background-color:  #ffc0cb;\n",
       "        }    #T_fa8c10b4_87f0_11e9_bdad_8438355d3b84row9_col0 {\n",
       "            background-color:  #ffe0e5;\n",
       "        }    #T_fa8c10b4_87f0_11e9_bdad_8438355d3b84row9_col1 {\n",
       "            background-color:  #ffd5dd;\n",
       "        }    #T_fa8c10b4_87f0_11e9_bdad_8438355d3b84row9_col2 {\n",
       "            background-color:  #ffc7d1;\n",
       "        }    #T_fa8c10b4_87f0_11e9_bdad_8438355d3b84row9_col3 {\n",
       "            background-color:  #ffe5e9;\n",
       "        }    #T_fa8c10b4_87f0_11e9_bdad_8438355d3b84row10_col0 {\n",
       "            background-color:  #ffe5ea;\n",
       "        }    #T_fa8c10b4_87f0_11e9_bdad_8438355d3b84row10_col1 {\n",
       "            background-color:  #ffe5ea;\n",
       "        }    #T_fa8c10b4_87f0_11e9_bdad_8438355d3b84row10_col2 {\n",
       "            background-color:  #ffdce2;\n",
       "        }    #T_fa8c10b4_87f0_11e9_bdad_8438355d3b84row10_col3 {\n",
       "            background-color:  #ffe2e7;\n",
       "        }    #T_fa8c10b4_87f0_11e9_bdad_8438355d3b84row11_col0 {\n",
       "            background-color:  #ffccd5;\n",
       "        }    #T_fa8c10b4_87f0_11e9_bdad_8438355d3b84row11_col1 {\n",
       "            background-color:  #ffcad3;\n",
       "        }    #T_fa8c10b4_87f0_11e9_bdad_8438355d3b84row11_col2 {\n",
       "            background-color:  #ffd9e0;\n",
       "        }    #T_fa8c10b4_87f0_11e9_bdad_8438355d3b84row11_col3 {\n",
       "            background-color:  #ffe4e9;\n",
       "        }    #T_fa8c10b4_87f0_11e9_bdad_8438355d3b84row12_col0 {\n",
       "            background-color:  #ffcad3;\n",
       "        }    #T_fa8c10b4_87f0_11e9_bdad_8438355d3b84row12_col1 {\n",
       "            background-color:  #ffced7;\n",
       "        }    #T_fa8c10b4_87f0_11e9_bdad_8438355d3b84row12_col2 {\n",
       "            background-color:  #ffc8d2;\n",
       "        }    #T_fa8c10b4_87f0_11e9_bdad_8438355d3b84row12_col3 {\n",
       "            background-color:  #ffe5ea;\n",
       "        }    #T_fa8c10b4_87f0_11e9_bdad_8438355d3b84row13_col0 {\n",
       "            background-color:  #ffced6;\n",
       "        }    #T_fa8c10b4_87f0_11e9_bdad_8438355d3b84row13_col1 {\n",
       "            background-color:  #ffcdd6;\n",
       "        }    #T_fa8c10b4_87f0_11e9_bdad_8438355d3b84row13_col2 {\n",
       "            background-color:  #ffdfe5;\n",
       "        }    #T_fa8c10b4_87f0_11e9_bdad_8438355d3b84row13_col3 {\n",
       "            background-color:  #ffe3e8;\n",
       "        }    #T_fa8c10b4_87f0_11e9_bdad_8438355d3b84row14_col0 {\n",
       "            background-color:  #ffe5e9;\n",
       "        }    #T_fa8c10b4_87f0_11e9_bdad_8438355d3b84row14_col1 {\n",
       "            background-color:  #ffc0cb;\n",
       "        }    #T_fa8c10b4_87f0_11e9_bdad_8438355d3b84row14_col2 {\n",
       "            background-color:  #ffdce2;\n",
       "        }    #T_fa8c10b4_87f0_11e9_bdad_8438355d3b84row14_col3 {\n",
       "            background-color:  #ffd5dc;\n",
       "        }    #T_fa8c10b4_87f0_11e9_bdad_8438355d3b84row15_col0 {\n",
       "            background-color:  #ffc0cb;\n",
       "        }    #T_fa8c10b4_87f0_11e9_bdad_8438355d3b84row15_col1 {\n",
       "            background-color:  #ffdde3;\n",
       "        }    #T_fa8c10b4_87f0_11e9_bdad_8438355d3b84row15_col2 {\n",
       "            background-color:  #ffe5ea;\n",
       "        }    #T_fa8c10b4_87f0_11e9_bdad_8438355d3b84row15_col3 {\n",
       "            background-color:  #ffdfe5;\n",
       "        }    #T_fa8c10b4_87f0_11e9_bdad_8438355d3b84row16_col0 {\n",
       "            background-color:  #ffd7de;\n",
       "        }    #T_fa8c10b4_87f0_11e9_bdad_8438355d3b84row16_col1 {\n",
       "            background-color:  #ffd8df;\n",
       "        }    #T_fa8c10b4_87f0_11e9_bdad_8438355d3b84row16_col2 {\n",
       "            background-color:  #ffced7;\n",
       "        }    #T_fa8c10b4_87f0_11e9_bdad_8438355d3b84row16_col3 {\n",
       "            background-color:  #ffe2e7;\n",
       "        }</style>  \n",
       "<table id=\"T_fa8c10b4_87f0_11e9_bdad_8438355d3b84\" > \n",
       "<thead>    <tr> \n",
       "        <th class=\"blank level0\" ></th> \n",
       "        <th class=\"col_heading level0 col0\" >acousticness</th> \n",
       "        <th class=\"col_heading level0 col1\" >danceability</th> \n",
       "        <th class=\"col_heading level0 col2\" >energy</th> \n",
       "        <th class=\"col_heading level0 col3\" >liveness</th> \n",
       "    </tr>    <tr> \n",
       "        <th class=\"index_name level0\" >track_number</th> \n",
       "        <th class=\"blank\" ></th> \n",
       "        <th class=\"blank\" ></th> \n",
       "        <th class=\"blank\" ></th> \n",
       "        <th class=\"blank\" ></th> \n",
       "    </tr></thead> \n",
       "<tbody>    <tr> \n",
       "        <th id=\"T_fa8c10b4_87f0_11e9_bdad_8438355d3b84level0_row0\" class=\"row_heading level0 row0\" >1</th> \n",
       "        <td id=\"T_fa8c10b4_87f0_11e9_bdad_8438355d3b84row0_col0\" class=\"data row0 col0\" >0.787</td> \n",
       "        <td id=\"T_fa8c10b4_87f0_11e9_bdad_8438355d3b84row0_col1\" class=\"data row0 col1\" >0.614</td> \n",
       "        <td id=\"T_fa8c10b4_87f0_11e9_bdad_8438355d3b84row0_col2\" class=\"data row0 col2\" >0.789</td> \n",
       "        <td id=\"T_fa8c10b4_87f0_11e9_bdad_8438355d3b84row0_col3\" class=\"data row0 col3\" >0.0938</td> \n",
       "    </tr>    <tr> \n",
       "        <th id=\"T_fa8c10b4_87f0_11e9_bdad_8438355d3b84level0_row1\" class=\"row_heading level0 row1\" >2</th> \n",
       "        <td id=\"T_fa8c10b4_87f0_11e9_bdad_8438355d3b84row1_col0\" class=\"data row1 col0\" >0.441</td> \n",
       "        <td id=\"T_fa8c10b4_87f0_11e9_bdad_8438355d3b84row1_col1\" class=\"data row1 col1\" >0.715</td> \n",
       "        <td id=\"T_fa8c10b4_87f0_11e9_bdad_8438355d3b84row1_col2\" class=\"data row1 col2\" >0.626</td> \n",
       "        <td id=\"T_fa8c10b4_87f0_11e9_bdad_8438355d3b84row1_col3\" class=\"data row1 col3\" >0.0737</td> \n",
       "    </tr>    <tr> \n",
       "        <th id=\"T_fa8c10b4_87f0_11e9_bdad_8438355d3b84level0_row2\" class=\"row_heading level0 row2\" >3</th> \n",
       "        <td id=\"T_fa8c10b4_87f0_11e9_bdad_8438355d3b84row2_col0\" class=\"data row2 col0\" >0.677</td> \n",
       "        <td id=\"T_fa8c10b4_87f0_11e9_bdad_8438355d3b84row2_col1\" class=\"data row2 col1\" >0.663</td> \n",
       "        <td id=\"T_fa8c10b4_87f0_11e9_bdad_8438355d3b84row2_col2\" class=\"data row2 col2\" >0.796</td> \n",
       "        <td id=\"T_fa8c10b4_87f0_11e9_bdad_8438355d3b84row2_col3\" class=\"data row2 col3\" >0.0817</td> \n",
       "    </tr>    <tr> \n",
       "        <th id=\"T_fa8c10b4_87f0_11e9_bdad_8438355d3b84level0_row3\" class=\"row_heading level0 row3\" >4</th> \n",
       "        <td id=\"T_fa8c10b4_87f0_11e9_bdad_8438355d3b84row3_col0\" class=\"data row3 col0\" >0.806</td> \n",
       "        <td id=\"T_fa8c10b4_87f0_11e9_bdad_8438355d3b84row3_col1\" class=\"data row3 col1\" >0.509</td> \n",
       "        <td id=\"T_fa8c10b4_87f0_11e9_bdad_8438355d3b84row3_col2\" class=\"data row3 col2\" >0.184</td> \n",
       "        <td id=\"T_fa8c10b4_87f0_11e9_bdad_8438355d3b84row3_col3\" class=\"data row3 col3\" >0.103</td> \n",
       "    </tr>    <tr> \n",
       "        <th id=\"T_fa8c10b4_87f0_11e9_bdad_8438355d3b84level0_row4\" class=\"row_heading level0 row4\" >5</th> \n",
       "        <td id=\"T_fa8c10b4_87f0_11e9_bdad_8438355d3b84row4_col0\" class=\"data row4 col0\" >0.648</td> \n",
       "        <td id=\"T_fa8c10b4_87f0_11e9_bdad_8438355d3b84row4_col1\" class=\"data row4 col1\" >0.646</td> \n",
       "        <td id=\"T_fa8c10b4_87f0_11e9_bdad_8438355d3b84row4_col2\" class=\"data row4 col2\" >0.252</td> \n",
       "        <td id=\"T_fa8c10b4_87f0_11e9_bdad_8438355d3b84row4_col3\" class=\"data row4 col3\" >0.318</td> \n",
       "    </tr>    <tr> \n",
       "        <th id=\"T_fa8c10b4_87f0_11e9_bdad_8438355d3b84level0_row5\" class=\"row_heading level0 row5\" >6</th> \n",
       "        <td id=\"T_fa8c10b4_87f0_11e9_bdad_8438355d3b84row5_col0\" class=\"data row5 col0\" >0.778</td> \n",
       "        <td id=\"T_fa8c10b4_87f0_11e9_bdad_8438355d3b84row5_col1\" class=\"data row5 col1\" >0.46</td> \n",
       "        <td id=\"T_fa8c10b4_87f0_11e9_bdad_8438355d3b84row5_col2\" class=\"data row5 col2\" >0.305</td> \n",
       "        <td id=\"T_fa8c10b4_87f0_11e9_bdad_8438355d3b84row5_col3\" class=\"data row5 col3\" >0.304</td> \n",
       "    </tr>    <tr> \n",
       "        <th id=\"T_fa8c10b4_87f0_11e9_bdad_8438355d3b84level0_row6\" class=\"row_heading level0 row6\" >7</th> \n",
       "        <td id=\"T_fa8c10b4_87f0_11e9_bdad_8438355d3b84row6_col0\" class=\"data row6 col0\" >0.681</td> \n",
       "        <td id=\"T_fa8c10b4_87f0_11e9_bdad_8438355d3b84row6_col1\" class=\"data row6 col1\" >0.693</td> \n",
       "        <td id=\"T_fa8c10b4_87f0_11e9_bdad_8438355d3b84row6_col2\" class=\"data row6 col2\" >0.488</td> \n",
       "        <td id=\"T_fa8c10b4_87f0_11e9_bdad_8438355d3b84row6_col3\" class=\"data row6 col3\" >0.101</td> \n",
       "    </tr>    <tr> \n",
       "        <th id=\"T_fa8c10b4_87f0_11e9_bdad_8438355d3b84level0_row7\" class=\"row_heading level0 row7\" >8</th> \n",
       "        <td id=\"T_fa8c10b4_87f0_11e9_bdad_8438355d3b84row7_col0\" class=\"data row7 col0\" >0.127</td> \n",
       "        <td id=\"T_fa8c10b4_87f0_11e9_bdad_8438355d3b84row7_col1\" class=\"data row7 col1\" >0.58</td> \n",
       "        <td id=\"T_fa8c10b4_87f0_11e9_bdad_8438355d3b84row7_col2\" class=\"data row7 col2\" >0.445</td> \n",
       "        <td id=\"T_fa8c10b4_87f0_11e9_bdad_8438355d3b84row7_col3\" class=\"data row7 col3\" >0.136</td> \n",
       "    </tr>    <tr> \n",
       "        <th id=\"T_fa8c10b4_87f0_11e9_bdad_8438355d3b84level0_row8\" class=\"row_heading level0 row8\" >9</th> \n",
       "        <td id=\"T_fa8c10b4_87f0_11e9_bdad_8438355d3b84row8_col0\" class=\"data row8 col0\" >0.493</td> \n",
       "        <td id=\"T_fa8c10b4_87f0_11e9_bdad_8438355d3b84row8_col1\" class=\"data row8 col1\" >0.703</td> \n",
       "        <td id=\"T_fa8c10b4_87f0_11e9_bdad_8438355d3b84row8_col2\" class=\"data row8 col2\" >0.447</td> \n",
       "        <td id=\"T_fa8c10b4_87f0_11e9_bdad_8438355d3b84row8_col3\" class=\"data row8 col3\" >0.376</td> \n",
       "    </tr>    <tr> \n",
       "        <th id=\"T_fa8c10b4_87f0_11e9_bdad_8438355d3b84level0_row9\" class=\"row_heading level0 row9\" >10</th> \n",
       "        <td id=\"T_fa8c10b4_87f0_11e9_bdad_8438355d3b84row9_col0\" class=\"data row9 col0\" >0.198</td> \n",
       "        <td id=\"T_fa8c10b4_87f0_11e9_bdad_8438355d3b84row9_col1\" class=\"data row9 col1\" >0.599</td> \n",
       "        <td id=\"T_fa8c10b4_87f0_11e9_bdad_8438355d3b84row9_col2\" class=\"data row9 col2\" >0.646</td> \n",
       "        <td id=\"T_fa8c10b4_87f0_11e9_bdad_8438355d3b84row9_col3\" class=\"data row9 col3\" >0.0647</td> \n",
       "    </tr>    <tr> \n",
       "        <th id=\"T_fa8c10b4_87f0_11e9_bdad_8438355d3b84level0_row10\" class=\"row_heading level0 row10\" >11</th> \n",
       "        <td id=\"T_fa8c10b4_87f0_11e9_bdad_8438355d3b84row10_col0\" class=\"data row10 col0\" >0.0736</td> \n",
       "        <td id=\"T_fa8c10b4_87f0_11e9_bdad_8438355d3b84row10_col1\" class=\"data row10 col1\" >0.391</td> \n",
       "        <td id=\"T_fa8c10b4_87f0_11e9_bdad_8438355d3b84row10_col2\" class=\"data row10 col2\" >0.23</td> \n",
       "        <td id=\"T_fa8c10b4_87f0_11e9_bdad_8438355d3b84row10_col3\" class=\"data row10 col3\" >0.0875</td> \n",
       "    </tr>    <tr> \n",
       "        <th id=\"T_fa8c10b4_87f0_11e9_bdad_8438355d3b84level0_row11\" class=\"row_heading level0 row11\" >12</th> \n",
       "        <td id=\"T_fa8c10b4_87f0_11e9_bdad_8438355d3b84row11_col0\" class=\"data row11 col0\" >0.6</td> \n",
       "        <td id=\"T_fa8c10b4_87f0_11e9_bdad_8438355d3b84row11_col1\" class=\"data row11 col1\" >0.749</td> \n",
       "        <td id=\"T_fa8c10b4_87f0_11e9_bdad_8438355d3b84row11_col2\" class=\"data row11 col2\" >0.287</td> \n",
       "        <td id=\"T_fa8c10b4_87f0_11e9_bdad_8438355d3b84row11_col3\" class=\"data row11 col3\" >0.072</td> \n",
       "    </tr>    <tr> \n",
       "        <th id=\"T_fa8c10b4_87f0_11e9_bdad_8438355d3b84level0_row12\" class=\"row_heading level0 row12\" >13</th> \n",
       "        <td id=\"T_fa8c10b4_87f0_11e9_bdad_8438355d3b84row12_col0\" class=\"data row12 col0\" >0.646</td> \n",
       "        <td id=\"T_fa8c10b4_87f0_11e9_bdad_8438355d3b84row12_col1\" class=\"data row12 col1\" >0.688</td> \n",
       "        <td id=\"T_fa8c10b4_87f0_11e9_bdad_8438355d3b84row12_col2\" class=\"data row12 col2\" >0.628</td> \n",
       "        <td id=\"T_fa8c10b4_87f0_11e9_bdad_8438355d3b84row12_col3\" class=\"data row12 col3\" >0.0594</td> \n",
       "    </tr>    <tr> \n",
       "        <th id=\"T_fa8c10b4_87f0_11e9_bdad_8438355d3b84level0_row13\" class=\"row_heading level0 row13\" >14</th> \n",
       "        <td id=\"T_fa8c10b4_87f0_11e9_bdad_8438355d3b84row13_col0\" class=\"data row13 col0\" >0.567</td> \n",
       "        <td id=\"T_fa8c10b4_87f0_11e9_bdad_8438355d3b84row13_col1\" class=\"data row13 col1\" >0.709</td> \n",
       "        <td id=\"T_fa8c10b4_87f0_11e9_bdad_8438355d3b84row13_col2\" class=\"data row13 col2\" >0.167</td> \n",
       "        <td id=\"T_fa8c10b4_87f0_11e9_bdad_8438355d3b84row13_col3\" class=\"data row13 col3\" >0.0798</td> \n",
       "    </tr>    <tr> \n",
       "        <th id=\"T_fa8c10b4_87f0_11e9_bdad_8438355d3b84level0_row14\" class=\"row_heading level0 row14\" >15</th> \n",
       "        <td id=\"T_fa8c10b4_87f0_11e9_bdad_8438355d3b84row14_col0\" class=\"data row14 col0\" >0.0908</td> \n",
       "        <td id=\"T_fa8c10b4_87f0_11e9_bdad_8438355d3b84row14_col1\" class=\"data row14 col1\" >0.874</td> \n",
       "        <td id=\"T_fa8c10b4_87f0_11e9_bdad_8438355d3b84row14_col2\" class=\"data row14 col2\" >0.225</td> \n",
       "        <td id=\"T_fa8c10b4_87f0_11e9_bdad_8438355d3b84row14_col3\" class=\"data row14 col3\" >0.201</td> \n",
       "    </tr>    <tr> \n",
       "        <th id=\"T_fa8c10b4_87f0_11e9_bdad_8438355d3b84level0_row15\" class=\"row_heading level0 row15\" >16</th> \n",
       "        <td id=\"T_fa8c10b4_87f0_11e9_bdad_8438355d3b84row15_col0\" class=\"data row15 col0\" >0.852</td> \n",
       "        <td id=\"T_fa8c10b4_87f0_11e9_bdad_8438355d3b84row15_col1\" class=\"data row15 col1\" >0.501</td> \n",
       "        <td id=\"T_fa8c10b4_87f0_11e9_bdad_8438355d3b84row15_col2\" class=\"data row15 col2\" >0.0394</td> \n",
       "        <td id=\"T_fa8c10b4_87f0_11e9_bdad_8438355d3b84row15_col3\" class=\"data row15 col3\" >0.111</td> \n",
       "    </tr>    <tr> \n",
       "        <th id=\"T_fa8c10b4_87f0_11e9_bdad_8438355d3b84level0_row16\" class=\"row_heading level0 row16\" >17</th> \n",
       "        <td id=\"T_fa8c10b4_87f0_11e9_bdad_8438355d3b84row16_col0\" class=\"data row16 col0\" >0.382</td> \n",
       "        <td id=\"T_fa8c10b4_87f0_11e9_bdad_8438355d3b84row16_col1\" class=\"data row16 col1\" >0.56</td> \n",
       "        <td id=\"T_fa8c10b4_87f0_11e9_bdad_8438355d3b84row16_col2\" class=\"data row16 col2\" >0.507</td> \n",
       "        <td id=\"T_fa8c10b4_87f0_11e9_bdad_8438355d3b84row16_col3\" class=\"data row16 col3\" >0.0856</td> \n",
       "    </tr></tbody> \n",
       "</table> "
      ],
      "text/plain": [
       "<pandas.io.formats.style.Styler at 0x1173d5a90>"
      ]
     },
     "execution_count": 60,
     "metadata": {},
     "output_type": "execute_result"
    }
   ],
   "source": [
    "import seaborn as sns\n",
    "\n",
    "cm = sns.light_palette(\"pink\", as_cmap=True)\n",
    "\n",
    "\n",
    "a.tracks_df[['track_number', 'acousticness','danceability','energy','liveness']].set_index('track_number').style.background_gradient(cmap=cm)"
   ]
  },
  {
   "cell_type": "code",
   "execution_count": 61,
   "metadata": {},
   "outputs": [
    {
     "data": {
      "text/plain": [
       "'<style  type=\"text/css\" >\\n    #T_519ca64a_87f9_11e9_844d_8438355d3b84row0_col0 {\\n            background-color:  #ffc3ce;\\n        }    #T_519ca64a_87f9_11e9_844d_8438355d3b84row0_col1 {\\n            background-color:  #ffd4dc;\\n        }    #T_519ca64a_87f9_11e9_844d_8438355d3b84row0_col2 {\\n            background-color:  #ffc0cb;\\n        }    #T_519ca64a_87f9_11e9_844d_8438355d3b84row0_col3 {\\n            background-color:  #ffe2e7;\\n        }    #T_519ca64a_87f9_11e9_844d_8438355d3b84row1_col0 {\\n            background-color:  #ffd4db;\\n        }    #T_519ca64a_87f9_11e9_844d_8438355d3b84row1_col1 {\\n            background-color:  #ffccd5;\\n        }    #T_519ca64a_87f9_11e9_844d_8438355d3b84row1_col2 {\\n            background-color:  #ffc8d2;\\n        }    #T_519ca64a_87f9_11e9_844d_8438355d3b84row1_col3 {\\n            background-color:  #ffe4e9;\\n        }    #T_519ca64a_87f9_11e9_844d_8438355d3b84row2_col0 {\\n            background-color:  #ffc8d2;\\n        }    #T_519ca64a_87f9_11e9_844d_8438355d3b84row2_col1 {\\n            background-color:  #ffd0d8;\\n        }    #T_519ca64a_87f9_11e9_844d_8438355d3b84row2_col2 {\\n            background-color:  #ffc0cb;\\n        }    #T_519ca64a_87f9_11e9_844d_8438355d3b84row2_col3 {\\n            background-color:  #ffe3e8;\\n        }    #T_519ca64a_87f9_11e9_844d_8438355d3b84row3_col0 {\\n            background-color:  #ffc2cd;\\n        }    #T_519ca64a_87f9_11e9_844d_8438355d3b84row3_col1 {\\n            background-color:  #ffdce2;\\n        }    #T_519ca64a_87f9_11e9_844d_8438355d3b84row3_col2 {\\n            background-color:  #ffdee4;\\n        }    #T_519ca64a_87f9_11e9_844d_8438355d3b84row3_col3 {\\n            background-color:  #ffe0e6;\\n        }    #T_519ca64a_87f9_11e9_844d_8438355d3b84row4_col0 {\\n            background-color:  #ffcad3;\\n        }    #T_519ca64a_87f9_11e9_844d_8438355d3b84row4_col1 {\\n            background-color:  #ffd2da;\\n        }    #T_519ca64a_87f9_11e9_844d_8438355d3b84row4_col2 {\\n            background-color:  #ffdbe1;\\n        }    #T_519ca64a_87f9_11e9_844d_8438355d3b84row4_col3 {\\n            background-color:  #ffc7d1;\\n        }    #T_519ca64a_87f9_11e9_844d_8438355d3b84row5_col0 {\\n            background-color:  #ffc4ce;\\n        }    #T_519ca64a_87f9_11e9_844d_8438355d3b84row5_col1 {\\n            background-color:  #ffe0e6;\\n        }    #T_519ca64a_87f9_11e9_844d_8438355d3b84row5_col2 {\\n            background-color:  #ffd8df;\\n        }    #T_519ca64a_87f9_11e9_844d_8438355d3b84row5_col3 {\\n            background-color:  #ffc9d2;\\n        }    #T_519ca64a_87f9_11e9_844d_8438355d3b84row6_col0 {\\n            background-color:  #ffc8d2;\\n        }    #T_519ca64a_87f9_11e9_844d_8438355d3b84row6_col1 {\\n            background-color:  #ffced7;\\n        }    #T_519ca64a_87f9_11e9_844d_8438355d3b84row6_col2 {\\n            background-color:  #ffcfd8;\\n        }    #T_519ca64a_87f9_11e9_844d_8438355d3b84row6_col3 {\\n            background-color:  #ffe1e6;\\n        }    #T_519ca64a_87f9_11e9_844d_8438355d3b84row7_col0 {\\n            background-color:  #ffe3e8;\\n        }    #T_519ca64a_87f9_11e9_844d_8438355d3b84row7_col1 {\\n            background-color:  #ffd7de;\\n        }    #T_519ca64a_87f9_11e9_844d_8438355d3b84row7_col2 {\\n            background-color:  #ffd1d9;\\n        }    #T_519ca64a_87f9_11e9_844d_8438355d3b84row7_col3 {\\n            background-color:  #ffdde3;\\n        }    #T_519ca64a_87f9_11e9_844d_8438355d3b84row8_col0 {\\n            background-color:  #ffd1d9;\\n        }    #T_519ca64a_87f9_11e9_844d_8438355d3b84row8_col1 {\\n            background-color:  #ffcdd6;\\n        }    #T_519ca64a_87f9_11e9_844d_8438355d3b84row8_col2 {\\n            background-color:  #ffd1d9;\\n        }    #T_519ca64a_87f9_11e9_844d_8438355d3b84row8_col3 {\\n            background-color:  #ffc0cb;\\n        }    #T_519ca64a_87f9_11e9_844d_8438355d3b84row9_col0 {\\n            background-color:  #ffe0e5;\\n        }    #T_519ca64a_87f9_11e9_844d_8438355d3b84row9_col1 {\\n            background-color:  #ffd5dd;\\n        }    #T_519ca64a_87f9_11e9_844d_8438355d3b84row9_col2 {\\n            background-color:  #ffc7d1;\\n        }    #T_519ca64a_87f9_11e9_844d_8438355d3b84row9_col3 {\\n            background-color:  #ffe5e9;\\n        }    #T_519ca64a_87f9_11e9_844d_8438355d3b84row10_col0 {\\n            background-color:  #ffe5ea;\\n        }    #T_519ca64a_87f9_11e9_844d_8438355d3b84row10_col1 {\\n            background-color:  #ffe5ea;\\n        }    #T_519ca64a_87f9_11e9_844d_8438355d3b84row10_col2 {\\n            background-color:  #ffdce2;\\n        }    #T_519ca64a_87f9_11e9_844d_8438355d3b84row10_col3 {\\n            background-color:  #ffe2e7;\\n        }    #T_519ca64a_87f9_11e9_844d_8438355d3b84row11_col0 {\\n            background-color:  #ffccd5;\\n        }    #T_519ca64a_87f9_11e9_844d_8438355d3b84row11_col1 {\\n            background-color:  #ffcad3;\\n        }    #T_519ca64a_87f9_11e9_844d_8438355d3b84row11_col2 {\\n            background-color:  #ffd9e0;\\n        }    #T_519ca64a_87f9_11e9_844d_8438355d3b84row11_col3 {\\n            background-color:  #ffe4e9;\\n        }    #T_519ca64a_87f9_11e9_844d_8438355d3b84row12_col0 {\\n            background-color:  #ffcad3;\\n        }    #T_519ca64a_87f9_11e9_844d_8438355d3b84row12_col1 {\\n            background-color:  #ffced7;\\n        }    #T_519ca64a_87f9_11e9_844d_8438355d3b84row12_col2 {\\n            background-color:  #ffc8d2;\\n        }    #T_519ca64a_87f9_11e9_844d_8438355d3b84row12_col3 {\\n            background-color:  #ffe5ea;\\n        }    #T_519ca64a_87f9_11e9_844d_8438355d3b84row13_col0 {\\n            background-color:  #ffced6;\\n        }    #T_519ca64a_87f9_11e9_844d_8438355d3b84row13_col1 {\\n            background-color:  #ffcdd6;\\n        }    #T_519ca64a_87f9_11e9_844d_8438355d3b84row13_col2 {\\n            background-color:  #ffdfe5;\\n        }    #T_519ca64a_87f9_11e9_844d_8438355d3b84row13_col3 {\\n            background-color:  #ffe3e8;\\n        }    #T_519ca64a_87f9_11e9_844d_8438355d3b84row14_col0 {\\n            background-color:  #ffe5e9;\\n        }    #T_519ca64a_87f9_11e9_844d_8438355d3b84row14_col1 {\\n            background-color:  #ffc0cb;\\n        }    #T_519ca64a_87f9_11e9_844d_8438355d3b84row14_col2 {\\n            background-color:  #ffdce2;\\n        }    #T_519ca64a_87f9_11e9_844d_8438355d3b84row14_col3 {\\n            background-color:  #ffd5dc;\\n        }    #T_519ca64a_87f9_11e9_844d_8438355d3b84row15_col0 {\\n            background-color:  #ffc0cb;\\n        }    #T_519ca64a_87f9_11e9_844d_8438355d3b84row15_col1 {\\n            background-color:  #ffdde3;\\n        }    #T_519ca64a_87f9_11e9_844d_8438355d3b84row15_col2 {\\n            background-color:  #ffe5ea;\\n        }    #T_519ca64a_87f9_11e9_844d_8438355d3b84row15_col3 {\\n            background-color:  #ffdfe5;\\n        }    #T_519ca64a_87f9_11e9_844d_8438355d3b84row16_col0 {\\n            background-color:  #ffd7de;\\n        }    #T_519ca64a_87f9_11e9_844d_8438355d3b84row16_col1 {\\n            background-color:  #ffd8df;\\n        }    #T_519ca64a_87f9_11e9_844d_8438355d3b84row16_col2 {\\n            background-color:  #ffced7;\\n        }    #T_519ca64a_87f9_11e9_844d_8438355d3b84row16_col3 {\\n            background-color:  #ffe2e7;\\n        }</style>  \\n<table id=\"T_519ca64a_87f9_11e9_844d_8438355d3b84\" > \\n<thead>    <tr> \\n        <th class=\"blank level0\" ></th> \\n        <th class=\"col_heading level0 col0\" >acousticness</th> \\n        <th class=\"col_heading level0 col1\" >danceability</th> \\n        <th class=\"col_heading level0 col2\" >energy</th> \\n        <th class=\"col_heading level0 col3\" >liveness</th> \\n    </tr>    <tr> \\n        <th class=\"index_name level0\" >track_number</th> \\n        <th class=\"blank\" ></th> \\n        <th class=\"blank\" ></th> \\n        <th class=\"blank\" ></th> \\n        <th class=\"blank\" ></th> \\n    </tr></thead> \\n<tbody>    <tr> \\n        <th id=\"T_519ca64a_87f9_11e9_844d_8438355d3b84level0_row0\" class=\"row_heading level0 row0\" >1</th> \\n        <td id=\"T_519ca64a_87f9_11e9_844d_8438355d3b84row0_col0\" class=\"data row0 col0\" >0.787</td> \\n        <td id=\"T_519ca64a_87f9_11e9_844d_8438355d3b84row0_col1\" class=\"data row0 col1\" >0.614</td> \\n        <td id=\"T_519ca64a_87f9_11e9_844d_8438355d3b84row0_col2\" class=\"data row0 col2\" >0.789</td> \\n        <td id=\"T_519ca64a_87f9_11e9_844d_8438355d3b84row0_col3\" class=\"data row0 col3\" >0.0938</td> \\n    </tr>    <tr> \\n        <th id=\"T_519ca64a_87f9_11e9_844d_8438355d3b84level0_row1\" class=\"row_heading level0 row1\" >2</th> \\n        <td id=\"T_519ca64a_87f9_11e9_844d_8438355d3b84row1_col0\" class=\"data row1 col0\" >0.441</td> \\n        <td id=\"T_519ca64a_87f9_11e9_844d_8438355d3b84row1_col1\" class=\"data row1 col1\" >0.715</td> \\n        <td id=\"T_519ca64a_87f9_11e9_844d_8438355d3b84row1_col2\" class=\"data row1 col2\" >0.626</td> \\n        <td id=\"T_519ca64a_87f9_11e9_844d_8438355d3b84row1_col3\" class=\"data row1 col3\" >0.0737</td> \\n    </tr>    <tr> \\n        <th id=\"T_519ca64a_87f9_11e9_844d_8438355d3b84level0_row2\" class=\"row_heading level0 row2\" >3</th> \\n        <td id=\"T_519ca64a_87f9_11e9_844d_8438355d3b84row2_col0\" class=\"data row2 col0\" >0.677</td> \\n        <td id=\"T_519ca64a_87f9_11e9_844d_8438355d3b84row2_col1\" class=\"data row2 col1\" >0.663</td> \\n        <td id=\"T_519ca64a_87f9_11e9_844d_8438355d3b84row2_col2\" class=\"data row2 col2\" >0.796</td> \\n        <td id=\"T_519ca64a_87f9_11e9_844d_8438355d3b84row2_col3\" class=\"data row2 col3\" >0.0817</td> \\n    </tr>    <tr> \\n        <th id=\"T_519ca64a_87f9_11e9_844d_8438355d3b84level0_row3\" class=\"row_heading level0 row3\" >4</th> \\n        <td id=\"T_519ca64a_87f9_11e9_844d_8438355d3b84row3_col0\" class=\"data row3 col0\" >0.806</td> \\n        <td id=\"T_519ca64a_87f9_11e9_844d_8438355d3b84row3_col1\" class=\"data row3 col1\" >0.509</td> \\n        <td id=\"T_519ca64a_87f9_11e9_844d_8438355d3b84row3_col2\" class=\"data row3 col2\" >0.184</td> \\n        <td id=\"T_519ca64a_87f9_11e9_844d_8438355d3b84row3_col3\" class=\"data row3 col3\" >0.103</td> \\n    </tr>    <tr> \\n        <th id=\"T_519ca64a_87f9_11e9_844d_8438355d3b84level0_row4\" class=\"row_heading level0 row4\" >5</th> \\n        <td id=\"T_519ca64a_87f9_11e9_844d_8438355d3b84row4_col0\" class=\"data row4 col0\" >0.648</td> \\n        <td id=\"T_519ca64a_87f9_11e9_844d_8438355d3b84row4_col1\" class=\"data row4 col1\" >0.646</td> \\n        <td id=\"T_519ca64a_87f9_11e9_844d_8438355d3b84row4_col2\" class=\"data row4 col2\" >0.252</td> \\n        <td id=\"T_519ca64a_87f9_11e9_844d_8438355d3b84row4_col3\" class=\"data row4 col3\" >0.318</td> \\n    </tr>    <tr> \\n        <th id=\"T_519ca64a_87f9_11e9_844d_8438355d3b84level0_row5\" class=\"row_heading level0 row5\" >6</th> \\n        <td id=\"T_519ca64a_87f9_11e9_844d_8438355d3b84row5_col0\" class=\"data row5 col0\" >0.778</td> \\n        <td id=\"T_519ca64a_87f9_11e9_844d_8438355d3b84row5_col1\" class=\"data row5 col1\" >0.46</td> \\n        <td id=\"T_519ca64a_87f9_11e9_844d_8438355d3b84row5_col2\" class=\"data row5 col2\" >0.305</td> \\n        <td id=\"T_519ca64a_87f9_11e9_844d_8438355d3b84row5_col3\" class=\"data row5 col3\" >0.304</td> \\n    </tr>    <tr> \\n        <th id=\"T_519ca64a_87f9_11e9_844d_8438355d3b84level0_row6\" class=\"row_heading level0 row6\" >7</th> \\n        <td id=\"T_519ca64a_87f9_11e9_844d_8438355d3b84row6_col0\" class=\"data row6 col0\" >0.681</td> \\n        <td id=\"T_519ca64a_87f9_11e9_844d_8438355d3b84row6_col1\" class=\"data row6 col1\" >0.693</td> \\n        <td id=\"T_519ca64a_87f9_11e9_844d_8438355d3b84row6_col2\" class=\"data row6 col2\" >0.488</td> \\n        <td id=\"T_519ca64a_87f9_11e9_844d_8438355d3b84row6_col3\" class=\"data row6 col3\" >0.101</td> \\n    </tr>    <tr> \\n        <th id=\"T_519ca64a_87f9_11e9_844d_8438355d3b84level0_row7\" class=\"row_heading level0 row7\" >8</th> \\n        <td id=\"T_519ca64a_87f9_11e9_844d_8438355d3b84row7_col0\" class=\"data row7 col0\" >0.127</td> \\n        <td id=\"T_519ca64a_87f9_11e9_844d_8438355d3b84row7_col1\" class=\"data row7 col1\" >0.58</td> \\n        <td id=\"T_519ca64a_87f9_11e9_844d_8438355d3b84row7_col2\" class=\"data row7 col2\" >0.445</td> \\n        <td id=\"T_519ca64a_87f9_11e9_844d_8438355d3b84row7_col3\" class=\"data row7 col3\" >0.136</td> \\n    </tr>    <tr> \\n        <th id=\"T_519ca64a_87f9_11e9_844d_8438355d3b84level0_row8\" class=\"row_heading level0 row8\" >9</th> \\n        <td id=\"T_519ca64a_87f9_11e9_844d_8438355d3b84row8_col0\" class=\"data row8 col0\" >0.493</td> \\n        <td id=\"T_519ca64a_87f9_11e9_844d_8438355d3b84row8_col1\" class=\"data row8 col1\" >0.703</td> \\n        <td id=\"T_519ca64a_87f9_11e9_844d_8438355d3b84row8_col2\" class=\"data row8 col2\" >0.447</td> \\n        <td id=\"T_519ca64a_87f9_11e9_844d_8438355d3b84row8_col3\" class=\"data row8 col3\" >0.376</td> \\n    </tr>    <tr> \\n        <th id=\"T_519ca64a_87f9_11e9_844d_8438355d3b84level0_row9\" class=\"row_heading level0 row9\" >10</th> \\n        <td id=\"T_519ca64a_87f9_11e9_844d_8438355d3b84row9_col0\" class=\"data row9 col0\" >0.198</td> \\n        <td id=\"T_519ca64a_87f9_11e9_844d_8438355d3b84row9_col1\" class=\"data row9 col1\" >0.599</td> \\n        <td id=\"T_519ca64a_87f9_11e9_844d_8438355d3b84row9_col2\" class=\"data row9 col2\" >0.646</td> \\n        <td id=\"T_519ca64a_87f9_11e9_844d_8438355d3b84row9_col3\" class=\"data row9 col3\" >0.0647</td> \\n    </tr>    <tr> \\n        <th id=\"T_519ca64a_87f9_11e9_844d_8438355d3b84level0_row10\" class=\"row_heading level0 row10\" >11</th> \\n        <td id=\"T_519ca64a_87f9_11e9_844d_8438355d3b84row10_col0\" class=\"data row10 col0\" >0.0736</td> \\n        <td id=\"T_519ca64a_87f9_11e9_844d_8438355d3b84row10_col1\" class=\"data row10 col1\" >0.391</td> \\n        <td id=\"T_519ca64a_87f9_11e9_844d_8438355d3b84row10_col2\" class=\"data row10 col2\" >0.23</td> \\n        <td id=\"T_519ca64a_87f9_11e9_844d_8438355d3b84row10_col3\" class=\"data row10 col3\" >0.0875</td> \\n    </tr>    <tr> \\n        <th id=\"T_519ca64a_87f9_11e9_844d_8438355d3b84level0_row11\" class=\"row_heading level0 row11\" >12</th> \\n        <td id=\"T_519ca64a_87f9_11e9_844d_8438355d3b84row11_col0\" class=\"data row11 col0\" >0.6</td> \\n        <td id=\"T_519ca64a_87f9_11e9_844d_8438355d3b84row11_col1\" class=\"data row11 col1\" >0.749</td> \\n        <td id=\"T_519ca64a_87f9_11e9_844d_8438355d3b84row11_col2\" class=\"data row11 col2\" >0.287</td> \\n        <td id=\"T_519ca64a_87f9_11e9_844d_8438355d3b84row11_col3\" class=\"data row11 col3\" >0.072</td> \\n    </tr>    <tr> \\n        <th id=\"T_519ca64a_87f9_11e9_844d_8438355d3b84level0_row12\" class=\"row_heading level0 row12\" >13</th> \\n        <td id=\"T_519ca64a_87f9_11e9_844d_8438355d3b84row12_col0\" class=\"data row12 col0\" >0.646</td> \\n        <td id=\"T_519ca64a_87f9_11e9_844d_8438355d3b84row12_col1\" class=\"data row12 col1\" >0.688</td> \\n        <td id=\"T_519ca64a_87f9_11e9_844d_8438355d3b84row12_col2\" class=\"data row12 col2\" >0.628</td> \\n        <td id=\"T_519ca64a_87f9_11e9_844d_8438355d3b84row12_col3\" class=\"data row12 col3\" >0.0594</td> \\n    </tr>    <tr> \\n        <th id=\"T_519ca64a_87f9_11e9_844d_8438355d3b84level0_row13\" class=\"row_heading level0 row13\" >14</th> \\n        <td id=\"T_519ca64a_87f9_11e9_844d_8438355d3b84row13_col0\" class=\"data row13 col0\" >0.567</td> \\n        <td id=\"T_519ca64a_87f9_11e9_844d_8438355d3b84row13_col1\" class=\"data row13 col1\" >0.709</td> \\n        <td id=\"T_519ca64a_87f9_11e9_844d_8438355d3b84row13_col2\" class=\"data row13 col2\" >0.167</td> \\n        <td id=\"T_519ca64a_87f9_11e9_844d_8438355d3b84row13_col3\" class=\"data row13 col3\" >0.0798</td> \\n    </tr>    <tr> \\n        <th id=\"T_519ca64a_87f9_11e9_844d_8438355d3b84level0_row14\" class=\"row_heading level0 row14\" >15</th> \\n        <td id=\"T_519ca64a_87f9_11e9_844d_8438355d3b84row14_col0\" class=\"data row14 col0\" >0.0908</td> \\n        <td id=\"T_519ca64a_87f9_11e9_844d_8438355d3b84row14_col1\" class=\"data row14 col1\" >0.874</td> \\n        <td id=\"T_519ca64a_87f9_11e9_844d_8438355d3b84row14_col2\" class=\"data row14 col2\" >0.225</td> \\n        <td id=\"T_519ca64a_87f9_11e9_844d_8438355d3b84row14_col3\" class=\"data row14 col3\" >0.201</td> \\n    </tr>    <tr> \\n        <th id=\"T_519ca64a_87f9_11e9_844d_8438355d3b84level0_row15\" class=\"row_heading level0 row15\" >16</th> \\n        <td id=\"T_519ca64a_87f9_11e9_844d_8438355d3b84row15_col0\" class=\"data row15 col0\" >0.852</td> \\n        <td id=\"T_519ca64a_87f9_11e9_844d_8438355d3b84row15_col1\" class=\"data row15 col1\" >0.501</td> \\n        <td id=\"T_519ca64a_87f9_11e9_844d_8438355d3b84row15_col2\" class=\"data row15 col2\" >0.0394</td> \\n        <td id=\"T_519ca64a_87f9_11e9_844d_8438355d3b84row15_col3\" class=\"data row15 col3\" >0.111</td> \\n    </tr>    <tr> \\n        <th id=\"T_519ca64a_87f9_11e9_844d_8438355d3b84level0_row16\" class=\"row_heading level0 row16\" >17</th> \\n        <td id=\"T_519ca64a_87f9_11e9_844d_8438355d3b84row16_col0\" class=\"data row16 col0\" >0.382</td> \\n        <td id=\"T_519ca64a_87f9_11e9_844d_8438355d3b84row16_col1\" class=\"data row16 col1\" >0.56</td> \\n        <td id=\"T_519ca64a_87f9_11e9_844d_8438355d3b84row16_col2\" class=\"data row16 col2\" >0.507</td> \\n        <td id=\"T_519ca64a_87f9_11e9_844d_8438355d3b84row16_col3\" class=\"data row16 col3\" >0.0856</td> \\n    </tr></tbody> \\n</table> '"
      ]
     },
     "execution_count": 61,
     "metadata": {},
     "output_type": "execute_result"
    }
   ],
   "source": [
    "a.tracks_df[['track_number', 'acousticness','danceability','energy','liveness']].set_index('track_number').style.background_gradient(cmap=cm)._repr_html_()"
   ]
  },
  {
   "cell_type": "code",
   "execution_count": 71,
   "metadata": {},
   "outputs": [
    {
     "data": {
      "text/plain": [
       "'<table border=\"1\" class=\"dataframe\">\\n  <thead>\\n    <tr style=\"text-align: right;\">\\n      <th></th>\\n      <th>0</th>\\n      <th>1</th>\\n    </tr>\\n  </thead>\\n  <tbody>\\n    <tr>\\n      <th>0</th>\\n      <td>3</td>\\n      <td>Believe What You Say - Remastered</td>\\n    </tr>\\n    <tr>\\n      <th>1</th>\\n      <td>7</td>\\n      <td>Old Enough To Love - Remastered</td>\\n    </tr>\\n    <tr>\\n      <th>2</th>\\n      <td>2</td>\\n      <td>One Of These Mornings - Remastered</td>\\n    </tr>\\n  </tbody>\\n</table>'"
      ]
     },
     "execution_count": 71,
     "metadata": {},
     "output_type": "execute_result"
    }
   ],
   "source": [
    "pd.DataFrame(top_three).to_html()"
   ]
  },
  {
   "cell_type": "code",
   "execution_count": 72,
   "metadata": {},
   "outputs": [
    {
     "data": {
      "text/plain": [
       "'<table border=\"1\" class=\"dataframe\">\\n  <tbody>\\n    <tr>\\n      <td>3</td>\\n      <td>Believe What You Say - Remastered</td>\\n    </tr>\\n    <tr>\\n      <td>7</td>\\n      <td>Old Enough To Love - Remastered</td>\\n    </tr>\\n    <tr>\\n      <td>2</td>\\n      <td>One Of These Mornings - Remastered</td>\\n    </tr>\\n  </tbody>\\n</table>'"
      ]
     },
     "execution_count": 72,
     "metadata": {},
     "output_type": "execute_result"
    }
   ],
   "source": [
    "pd.DataFrame(top_three).to_html(index=False, header=False)"
   ]
  },
  {
   "cell_type": "code",
   "execution_count": 70,
   "metadata": {},
   "outputs": [
    {
     "data": {
      "text/plain": [
       "array([[3, 'Believe What You Say - Remastered'],\n",
       "       [7, 'Old Enough To Love - Remastered'],\n",
       "       [2, 'One Of These Mornings - Remastered']], dtype=object)"
      ]
     },
     "execution_count": 70,
     "metadata": {},
     "output_type": "execute_result"
    }
   ],
   "source": [
    "top_three"
   ]
  },
  {
   "cell_type": "code",
   "execution_count": 73,
   "metadata": {},
   "outputs": [
    {
     "data": {
      "text/plain": [
       "'<table border=\"1\" class=\"dataframe\">\\n  <tbody>\\n  </tbody>\\n</table>'"
      ]
     },
     "execution_count": 73,
     "metadata": {},
     "output_type": "execute_result"
    }
   ],
   "source": [
    "pd.DataFrame([]).to_html(index=False, header=False)"
   ]
  },
  {
   "cell_type": "code",
   "execution_count": null,
   "metadata": {},
   "outputs": [],
   "source": []
  }
 ],
 "metadata": {
  "kernelspec": {
   "display_name": "Python 3",
   "language": "python",
   "name": "python3"
  },
  "language_info": {
   "codemirror_mode": {
    "name": "ipython",
    "version": 3
   },
   "file_extension": ".py",
   "mimetype": "text/x-python",
   "name": "python",
   "nbconvert_exporter": "python",
   "pygments_lexer": "ipython3",
   "version": "3.6.5"
  }
 },
 "nbformat": 4,
 "nbformat_minor": 2
}
