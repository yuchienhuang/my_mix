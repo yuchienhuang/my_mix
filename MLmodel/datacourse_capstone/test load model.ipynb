{
 "cells": [
  {
   "cell_type": "code",
   "execution_count": 6,
   "metadata": {},
   "outputs": [],
   "source": [
    "import requests\n",
    "import dill\n",
    "from bs4 import BeautifulSoup\n",
    "from datetime import datetime\n",
    "import simplejson as json\n",
    "import pandas as pd\n",
    "import numpy as np\n",
    "from urllib.parse import quote\n",
    "from urllib.request import urlopen\n",
    "import spotipy\n",
    "import time\n",
    "import re"
   ]
  },
  {
   "cell_type": "code",
   "execution_count": 7,
   "metadata": {},
   "outputs": [],
   "source": [
    "from spotipy.oauth2 import SpotifyClientCredentials\n",
    "client_credentials_manager = spotipy.oauth2.SpotifyClientCredentials('d6967ce2057448d4aab3ad9898119c97',  'ad7f82cc26a64f1595b6b3c4cd917243')\n",
    "spotify = spotipy.Spotify(client_credentials_manager=client_credentials_manager)"
   ]
  },
  {
   "cell_type": "code",
   "execution_count": 2,
   "metadata": {},
   "outputs": [],
   "source": [
    "import dill\n",
    "model = dill.load(open('model.pkd', 'rb'))"
   ]
  },
  {
   "cell_type": "code",
   "execution_count": 21,
   "metadata": {},
   "outputs": [],
   "source": [
    "import heapq\n",
    "def hit_song_predictor(album, model):\n",
    "    X, y = album.train_X_y()\n",
    "    y_est = model.predict(X)\n",
    "    indices = np.arange(album.total_tracks)[y_est]\n",
    "    if len(indices):\n",
    "        return album.tracks_df[[ 'track_number',  'name']].values[indices], True\n",
    "    else:\n",
    "        y_est_prob_mtx = model.predict_proba(X)\n",
    "        y_est_prob_mtx[:, 0] = np.arange(album.total_tracks)\n",
    "        indices = np.array(heapq.nlargest(3, y_est_prob_mtx, key=lambda x: x[1]))[:,0].astype(int)\n",
    "        return album.tracks_df[[ 'track_number',  'name']].values[indices], False"
   ]
  },
  {
   "cell_type": "code",
   "execution_count": 3,
   "metadata": {},
   "outputs": [],
   "source": [
    "from sklearn.preprocessing import PolynomialFeatures, MinMaxScaler\n",
    "\n",
    "class Album(object):\n",
    "    def __init__(self, album_json):\n",
    "        self.id, self.name, self.genres, self.popularity, self.total_tracks, self.artists_list = [album_json[k] for k in ['id', 'name', 'genres', 'popularity', 'total_tracks', 'artists_list']]\n",
    "        self.tracks_df = pd.read_json(album_json['tracks_info'], orient='split')\n",
    "\n",
    "    def unit_transf(self):\n",
    "        self.tracks_df['tempo'] = self.tracks_df['tempo'] / 60\n",
    "        self.tracks_df['duration_ms'] = self.tracks_df['duration_ms'] / 1000 / 60\n",
    "        self.tracks_df['loudness'] = self.tracks_df['loudness'] / 10\n",
    "        self.tracks_df['ordering'] = MinMaxScaler().fit_transform(self.tracks_df['track_number'].values.reshape(-1,1)) - 0.5\n",
    "        self.tracks_df['total_tracks'] = self.total_tracks\n",
    "        \n",
    "    def classification_label(self):\n",
    "        self.tracks_df['label'] = self.tracks_df['popularity'] >= self.popularity\n",
    "        return self.tracks_df['label'].values\n",
    "        \n",
    "    def train_X_y(self):\n",
    "        self.unit_transf()        \n",
    "        X = self.tracks_df[['mode', 'tempo', 'duration_ms', 'ordering', 'acousticness', 'danceability', 'energy', 'liveness', 'speechiness','valence']].values\n",
    "        y = self.classification_label()\n",
    "        return X, y"
   ]
  },
  {
   "cell_type": "code",
   "execution_count": 13,
   "metadata": {},
   "outputs": [],
   "source": [
    "def strip_Feat(artists):\n",
    "    pos = artists.find('Featuring')\n",
    "    if pos == -1:\n",
    "        return artists\n",
    "    else:\n",
    "        return artists[:pos].strip()\n",
    "    \n",
    "def get_track_artists(year, domain = 'https://www.billboard.com/charts/year-end/'):\n",
    "    path = domain + str(year) + '/hot-100-songs'\n",
    "    response = requests.get(path)\n",
    "    soup = BeautifulSoup(response.text, \"lxml\")\n",
    "\n",
    "    parents = soup.findAll(class_=r'ye-chart-item__text')\n",
    "\n",
    "    track_artists = []\n",
    "    for parent in parents:\n",
    "        track = parent.find('div',attrs={'class':'ye-chart-item__title'}).get_text().strip()\n",
    "        artists = parent.find('div',attrs={'class':'ye-chart-item__artist'}).get_text().strip()\n",
    "        track_artists.append((track, artists))\n",
    "    return track_artists\n",
    "\n",
    "\n",
    "def get_album_artists(year, domain='https://www.billboard.com/archive/charts/'):\n",
    "    response = requests.get(domain + str(year) + \"/top-album-sales\")\n",
    "    soup = BeautifulSoup(response.text, \"lxml\")\n",
    "    table = soup.find('table',attrs={'class':'archive-table'}).findAll('tr')[1:]\n",
    "\n",
    "    album_artists=[]\n",
    "    for tr in table:\n",
    "        td = tr.findAll('td')\n",
    "        try:\n",
    "            album_artists.append((td[-2].get_text(),td[-1].get_text()))\n",
    "        except:\n",
    "            pass\n",
    "    return album_artists\n",
    "\n",
    "def get_track_artists_arxiv(year, domain='https://www.billboard.com/archive/charts/'):\n",
    "    path = domain + str(year) + '/hot-100'\n",
    "    response = requests.get(path)\n",
    "    soup = BeautifulSoup(response.text, \"lxml\")\n",
    "\n",
    "    table = soup.find('table',attrs={'class':'archive-table'}).findAll('tr')[1:]\n",
    "\n",
    "    track_artists=[]\n",
    "    for tr in table:\n",
    "        td = tr.findAll('td')\n",
    "        try:\n",
    "            track_artists.append((td[-2].get_text(),td[-1].get_text()))\n",
    "        except:\n",
    "            pass\n",
    "    return track_artists\n",
    "\n",
    "def get_album_id_from_track(track, artists):\n",
    "    try:\n",
    "        track = track.replace(\"'\",'')\n",
    "        artists = \", \".join(re.split(r' & | x | X | With | with ', artists))\n",
    "        q = 'track:' + track + ' artist:' + artists\n",
    "        result = spotify.search(q, limit=1)\n",
    "        the_first_album = result['tracks']['items'][0]['album']\n",
    "        album_id = the_first_album.get('id')\n",
    "        return album_id\n",
    "    except:\n",
    "#         try:\n",
    "#             artists = ' '.join(artists.split(' x '))\n",
    "#             artists = ' '.join(artists.split(' X '))\n",
    "#             q = track + ' ' + artists\n",
    "#             result = spotify.search(q, limit=1)\n",
    "#             the_first_album = result['tracks']['items'][0]['album']\n",
    "#             album_id = the_first_album.get('id')\n",
    "#             return album_id\n",
    "#         except:\n",
    "        return track, artists\n",
    "\n",
    "def get_album_id_from_album(album, artists):\n",
    "\n",
    "    try:\n",
    "        album = album.replace(\"'\",'')        \n",
    "        artists = \", \".join(re.split(r' & | x | X | With | with ', artists))\n",
    "        q = 'album:' + album + ' artist:' + artists\n",
    "        result = spotify.search(q, type='album', limit=1)\n",
    "        the_first_album = result['albums']['items'][0]\n",
    "        album_id = the_first_album.get('id')\n",
    "        return album_id\n",
    "    \n",
    "    except:\n",
    "#         try:\n",
    "#             q =  album\n",
    "#             result = spotify.search(q, type='album', limit=1)\n",
    "#             the_first_album = result['albums']['items'][0]\n",
    "#             album_id = the_first_album.get('id')\n",
    "#             return album_id\n",
    "#         except:\n",
    "        return album, artists\n",
    "\n",
    "def get_albums_id_list(year, get_album_id_func, scraping_func):\n",
    "    albums_id = []    \n",
    "\n",
    "\n",
    "    trackOrAlbum_artists = scraping_func(year)\n",
    "    for trackOrAlbum, artists in trackOrAlbum_artists:\n",
    "        albums_id.append(get_album_id_func(trackOrAlbum,strip_Feat(artists)))\n",
    "        \n",
    "    return albums_id\n",
    "\n",
    "def album_json(album_id):\n",
    "\n",
    "    d = spotify.album(album_id)\n",
    "    subkeys = ['id', 'name', 'genres',  'popularity', 'total_tracks']\n",
    "\n",
    "    subkeys = ['id', 'name', 'genres',  'popularity', 'total_tracks']\n",
    "    \n",
    "    album_info = {k: d[k] for k in subkeys if k in d}\n",
    "    tracks = d['tracks']['items']\n",
    "    tracks_id = [t['id'] for t in tracks]\n",
    "    tracks_df_json = pd.DataFrame(audio_features(tracks_id),columns=['id',  'track_number', 'popularity','name', 'duration_ms', 'tempo','time_signature', 'key',\n",
    "       'valence', 'mode', 'acousticness', 'danceability', 'energy', \n",
    "       'instrumentalness',  'liveness', 'loudness', 'speechiness']).to_json(orient='split')\n",
    "    album_info.update({'artists_list': [a['name'] for a in d['artists']], 'tracks_info': tracks_df_json })\n",
    "    \n",
    "    return album_info\n",
    "\n",
    "def track_json(track_id):\n",
    "    d = spotify.track(track_id)\n",
    "    subkeys = ['id', 'popularity', 'name', 'track_number']\n",
    "    subdict = {k: d[k] for k in subkeys if k in d}\n",
    "    return subdict\n",
    "\n",
    "\n",
    "def audio_feature_decorator(spotify_audio_features_func):\n",
    "\n",
    "    def wrapper_func(track_id_list):\n",
    "        subkeys = ['danceability', 'energy', 'key', 'loudness', 'mode', 'speechiness', 'acousticness', 'instrumentalness', 'liveness', 'valence', 'tempo', 'duration_ms', 'time_signature']\n",
    "        \n",
    "        \n",
    "        features_list = spotify_audio_features_func(track_id_list)\n",
    "        \n",
    "        my_features_list = []\n",
    "        for i, features in enumerate(features_list):\n",
    "            sub_features = {k: features[k] for k in subkeys if k in features}\n",
    "            other_info = track_json(track_id_list[i])\n",
    "            other_info.update(sub_features)\n",
    "            \n",
    "            my_features_list.append(other_info)\n",
    "            \n",
    "        return my_features_list\n",
    "    \n",
    "    return wrapper_func\n",
    "\n",
    "@audio_feature_decorator\n",
    "def audio_features(track_id_list):\n",
    "    return spotify.audio_features(track_id_list)\n"
   ]
  },
  {
   "cell_type": "code",
   "execution_count": null,
   "metadata": {},
   "outputs": [],
   "source": [
    "album_id = get_album_id_from_album('Ricky Sings Again', 'Ricky Nelson')"
   ]
  },
  {
   "cell_type": "code",
   "execution_count": 15,
   "metadata": {},
   "outputs": [],
   "source": [
    "abj = album_json(album_id)\n",
    "a = Album(abj)"
   ]
  },
  {
   "cell_type": "code",
   "execution_count": 17,
   "metadata": {},
   "outputs": [
    {
     "name": "stderr",
     "output_type": "stream",
     "text": [
      "/opt/conda/envs/data3/lib/python3.6/site-packages/sklearn/utils/validation.py:475: DataConversionWarning: Data with input dtype int64 was converted to float64 by MinMaxScaler.\n",
      "  warnings.warn(msg, DataConversionWarning)\n"
     ]
    }
   ],
   "source": [
    "X, y = a.train_X_y()"
   ]
  },
  {
   "cell_type": "code",
   "execution_count": 22,
   "metadata": {},
   "outputs": [
    {
     "name": "stderr",
     "output_type": "stream",
     "text": [
      "/opt/conda/envs/data3/lib/python3.6/site-packages/sklearn/utils/validation.py:475: DataConversionWarning: Data with input dtype int64 was converted to float64 by MinMaxScaler.\n",
      "  warnings.warn(msg, DataConversionWarning)\n",
      "/opt/conda/envs/data3/lib/python3.6/site-packages/sklearn/preprocessing/label.py:151: DeprecationWarning: The truth value of an empty array is ambiguous. Returning False, but in future this will result in an error. Use `array.size > 0` to check that an array is not empty.\n",
      "  if diff:\n"
     ]
    },
    {
     "data": {
      "text/plain": [
       "(array([[3, 'Believe What You Say - Remastered'],\n",
       "        [1, \"It's Late\"],\n",
       "        [12, 'Restless Kid - Remastered']], dtype=object), False)"
      ]
     },
     "execution_count": 22,
     "metadata": {},
     "output_type": "execute_result"
    }
   ],
   "source": [
    "hit_song_predictor(a, model)"
   ]
  },
  {
   "cell_type": "code",
   "execution_count": null,
   "metadata": {},
   "outputs": [],
   "source": []
  }
 ],
 "metadata": {
  "kernelspec": {
   "display_name": "Python 3",
   "language": "python",
   "name": "python3"
  },
  "language_info": {
   "codemirror_mode": {
    "name": "ipython",
    "version": 3
   },
   "file_extension": ".py",
   "mimetype": "text/x-python",
   "name": "python",
   "nbconvert_exporter": "python",
   "pygments_lexer": "ipython3",
   "version": "3.6.2"
  }
 },
 "nbformat": 4,
 "nbformat_minor": 2
}
