{
 "cells": [
  {
   "cell_type": "code",
   "execution_count": 8,
   "metadata": {},
   "outputs": [],
   "source": [
    "import simplejson as json\n",
    "import pandas as pd\n",
    "import numpy as np"
   ]
  },
  {
   "cell_type": "code",
   "execution_count": 84,
   "metadata": {},
   "outputs": [],
   "source": [
    "from xgboost import XGBClassifier\n",
    "from sklearn.model_selection import train_test_split\n",
    "from sklearn.metrics import precision_score"
   ]
  },
  {
   "cell_type": "code",
   "execution_count": 9,
   "metadata": {},
   "outputs": [],
   "source": [
    "def load_files(year):\n",
    "\n",
    "    with open(\"best_seller_albums_v3_year_\" + str(year)) as json_file:  \n",
    "        best_seller_albums_data = json.load(json_file)\n",
    "        best_seller_albums_albums = [Album(d) for d in best_seller_albums_data]\n",
    "\n",
    "    with open(\"top_songs_albums_v3_year_\" + str(year)) as json_file:  \n",
    "        top_songs_albums_data = json.load(json_file)\n",
    "        top_songs_albums_albums = [Album(d) for d in top_songs_albums_data]\n",
    "\n",
    "    return best_seller_albums_albums, top_songs_albums_albums"
   ]
  },
  {
   "cell_type": "code",
   "execution_count": 70,
   "metadata": {},
   "outputs": [],
   "source": [
    "train_list = []\n",
    "for year in range(14,19):    \n",
    "    album_list, song_list = load_files('20' + str(year))\n",
    "    train_list += (album_list + song_list)"
   ]
  },
  {
   "cell_type": "code",
   "execution_count": 77,
   "metadata": {},
   "outputs": [
    {
     "name": "stderr",
     "output_type": "stream",
     "text": [
      "/opt/conda/envs/data3/lib/python3.6/site-packages/sklearn/utils/validation.py:475: DataConversionWarning: Data with input dtype int64 was converted to float64 by MinMaxScaler.\n",
      "  warnings.warn(msg, DataConversionWarning)\n"
     ]
    }
   ],
   "source": [
    "X_ls, y_ls = list(zip(*[a.train_X_y() for a in train_list]))\n",
    "X = np.vstack(X_ls)\n",
    "y = np.hstack(y_ls)"
   ]
  },
  {
   "cell_type": "code",
   "execution_count": 78,
   "metadata": {},
   "outputs": [
    {
     "data": {
      "text/plain": [
       "((8776,), 751)"
      ]
     },
     "execution_count": 78,
     "metadata": {},
     "output_type": "execute_result"
    }
   ],
   "source": [
    "y.shape, np.count_nonzero(y)"
   ]
  },
  {
   "cell_type": "code",
   "execution_count": 79,
   "metadata": {},
   "outputs": [],
   "source": [
    "X_train, X_test, y_train, y_test = train_test_split(X, y, test_size=0.33, random_state=42)"
   ]
  },
  {
   "cell_type": "code",
   "execution_count": 82,
   "metadata": {},
   "outputs": [
    {
     "data": {
      "text/plain": [
       "(((5879,), 518), ((2897,), 233))"
      ]
     },
     "execution_count": 82,
     "metadata": {},
     "output_type": "execute_result"
    }
   ],
   "source": [
    "(y_train.shape, np.count_nonzero(y_train)), (y_test.shape, np.count_nonzero(y_test))"
   ]
  },
  {
   "cell_type": "code",
   "execution_count": 85,
   "metadata": {},
   "outputs": [
    {
     "data": {
      "text/plain": [
       "XGBClassifier(base_score=0.5, booster='gbtree', colsample_bylevel=1,\n",
       "       colsample_bynode=1, colsample_bytree=1, gamma=0, learning_rate=0.1,\n",
       "       max_delta_step=0, max_depth=3, min_child_weight=1, missing=None,\n",
       "       n_estimators=100, n_jobs=1, nthread=None,\n",
       "       objective='binary:logistic', random_state=0, reg_alpha=0,\n",
       "       reg_lambda=1, scale_pos_weight=1, seed=None, silent=None,\n",
       "       subsample=1, verbosity=1)"
      ]
     },
     "execution_count": 85,
     "metadata": {},
     "output_type": "execute_result"
    }
   ],
   "source": [
    "model = XGBClassifier()\n",
    "model.fit(X_train, y_train)"
   ]
  },
  {
   "cell_type": "code",
   "execution_count": 87,
   "metadata": {},
   "outputs": [
    {
     "name": "stdout",
     "output_type": "stream",
     "text": [
      "[0]\tvalidation_0-logloss:0.626001\tvalidation_1-logloss:0.625036\n",
      "[1]\tvalidation_0-logloss:0.571185\tvalidation_1-logloss:0.569424\n"
     ]
    },
    {
     "data": {
      "text/plain": [
       "{'validation_0': {'logloss': [0.626001, 0.571185]},\n",
       " 'validation_1': {'logloss': [0.625036, 0.569424]}}"
      ]
     },
     "execution_count": 87,
     "metadata": {},
     "output_type": "execute_result"
    }
   ],
   "source": [
    "param_dist = {'objective':'binary:logistic', 'n_estimators':2}\n",
    "\n",
    "clf = XGBClassifier(**param_dist)\n",
    "\n",
    "clf.fit(X_train, y_train,\n",
    "        eval_set=[(X_train, y_train), (X_test, y_test)],\n",
    "        eval_metric='logloss',\n",
    "        verbose=True)\n",
    "\n",
    "evals_result = clf.evals_result()\n",
    "evals_result"
   ]
  },
  {
   "cell_type": "code",
   "execution_count": 88,
   "metadata": {},
   "outputs": [
    {
     "name": "stderr",
     "output_type": "stream",
     "text": [
      "/opt/conda/envs/data3/lib/python3.6/site-packages/sklearn/preprocessing/label.py:151: DeprecationWarning: The truth value of an empty array is ambiguous. Returning False, but in future this will result in an error. Use `array.size > 0` to check that an array is not empty.\n",
      "  if diff:\n"
     ]
    }
   ],
   "source": [
    "y_est1 = clf.predict(X_test)"
   ]
  },
  {
   "cell_type": "code",
   "execution_count": 89,
   "metadata": {},
   "outputs": [
    {
     "data": {
      "text/plain": [
       "XGBClassifier(base_score=0.5, booster='gbtree', colsample_bylevel=1,\n",
       "       colsample_bynode=1, colsample_bytree=1, gamma=0, learning_rate=0.1,\n",
       "       max_delta_step=0, max_depth=3, min_child_weight=1, missing=None,\n",
       "       n_estimators=100, n_jobs=8, nthread=None,\n",
       "       objective='binary:logistic', random_state=0, reg_alpha=0,\n",
       "       reg_lambda=1, scale_pos_weight=1, seed=None, silent=None,\n",
       "       subsample=1, verbosity=1)"
      ]
     },
     "execution_count": 89,
     "metadata": {},
     "output_type": "execute_result"
    }
   ],
   "source": [
    "from sklearn.metrics import precision_score\n",
    "import numpy as np\n",
    "\n",
    "def precision_eval(y_pred, dtrain):\n",
    "    y_true = dtrain.get_label()\n",
    "    err = 1-precision_score(y_true, np.round(y_pred))\n",
    "    return 'precision_err', err\n",
    "\n",
    "clf_wine = XGBClassifier(objective='binary:logistic', n_jobs=8)\n",
    "\n",
    "\n",
    "clf_wine.fit(X_train, y_train,eval_metric=precision_eval,verbose=True)"
   ]
  },
  {
   "cell_type": "code",
   "execution_count": 90,
   "metadata": {},
   "outputs": [
    {
     "name": "stderr",
     "output_type": "stream",
     "text": [
      "/opt/conda/envs/data3/lib/python3.6/site-packages/sklearn/preprocessing/label.py:151: DeprecationWarning: The truth value of an empty array is ambiguous. Returning False, but in future this will result in an error. Use `array.size > 0` to check that an array is not empty.\n",
      "  if diff:\n"
     ]
    }
   ],
   "source": [
    "y_est2 = clf_wine.predict(X_test)"
   ]
  },
  {
   "cell_type": "code",
   "execution_count": 100,
   "metadata": {},
   "outputs": [
    {
     "data": {
      "text/plain": [
       "array([[0.962747  , 0.03725303],\n",
       "       [0.9489279 , 0.05107209],\n",
       "       [0.9197687 , 0.08023134],\n",
       "       ...,\n",
       "       [0.9490032 , 0.05099678],\n",
       "       [0.78019834, 0.21980163],\n",
       "       [0.8955257 , 0.10447431]], dtype=float32)"
      ]
     },
     "execution_count": 100,
     "metadata": {},
     "output_type": "execute_result"
    }
   ],
   "source": [
    "clf_wine.predict_proba(X_test)"
   ]
  },
  {
   "cell_type": "code",
   "execution_count": 91,
   "metadata": {},
   "outputs": [
    {
     "data": {
      "text/plain": [
       "0.631578947368421"
      ]
     },
     "execution_count": 91,
     "metadata": {},
     "output_type": "execute_result"
    }
   ],
   "source": [
    "precision_score(y_test, y_est2) "
   ]
  },
  {
   "cell_type": "code",
   "execution_count": 92,
   "metadata": {},
   "outputs": [
    {
     "data": {
      "text/plain": [
       "0.2"
      ]
     },
     "execution_count": 92,
     "metadata": {},
     "output_type": "execute_result"
    }
   ],
   "source": [
    "precision_score(y_test, y_est1)  "
   ]
  },
  {
   "cell_type": "code",
   "execution_count": 98,
   "metadata": {},
   "outputs": [
    {
     "data": {
      "text/plain": [
       "(19, 2897)"
      ]
     },
     "execution_count": 98,
     "metadata": {},
     "output_type": "execute_result"
    }
   ],
   "source": [
    "np.count_nonzero(y_est2), len(y_est2)"
   ]
  },
  {
   "cell_type": "code",
   "execution_count": 99,
   "metadata": {},
   "outputs": [
    {
     "data": {
      "text/plain": [
       "numpy.ndarray"
      ]
     },
     "execution_count": 99,
     "metadata": {},
     "output_type": "execute_result"
    }
   ],
   "source": [
    "type(y_est2)"
   ]
  },
  {
   "cell_type": "code",
   "execution_count": 64,
   "metadata": {},
   "outputs": [],
   "source": [
    "from sklearn.preprocessing import PolynomialFeatures, MinMaxScaler\n",
    "\n",
    "class Album(object):\n",
    "    def __init__(self, album_json):\n",
    "        self.id, self.name, self.genres, self.popularity, self.total_tracks, self.artists_list = [album_json[k] for k in ['id', 'name', 'genres', 'popularity', 'total_tracks', 'artists_list']]\n",
    "        self.tracks_df = pd.read_json(album_json['tracks_info'], orient='split')\n",
    "\n",
    "    def unit_transf(self):\n",
    "        self.tracks_df['tempo'] = self.tracks_df['tempo'] / 60\n",
    "        self.tracks_df['duration_ms'] = self.tracks_df['duration_ms'] / 1000 / 60\n",
    "        self.tracks_df['loudness'] = self.tracks_df['loudness'] / 10\n",
    "        self.tracks_df['ordering'] = MinMaxScaler().fit_transform(self.tracks_df['track_number'].values.reshape(-1,1)) - 0.5\n",
    "        self.tracks_df['total_tracks'] = self.total_tracks\n",
    "        \n",
    "    def classification_label(self):\n",
    "        self.tracks_df['label'] = self.tracks_df['popularity'] >= self.popularity\n",
    "        return self.tracks_df['label'].values\n",
    "        \n",
    "    def train_X_y(self):\n",
    "        self.unit_transf()        \n",
    "        X = self.tracks_df[['mode', 'tempo', 'duration_ms', 'ordering', 'acousticness', 'danceability', 'energy', 'liveness', 'speechiness','valence']].values\n",
    "        y = self.classification_label()\n",
    "        return X, y"
   ]
  },
  {
   "cell_type": "code",
   "execution_count": 32,
   "metadata": {},
   "outputs": [
    {
     "name": "stderr",
     "output_type": "stream",
     "text": [
      "/opt/conda/envs/data3/lib/python3.6/site-packages/sklearn/utils/validation.py:475: DataConversionWarning: Data with input dtype int64 was converted to float64 by MinMaxScaler.\n",
      "  warnings.warn(msg, DataConversionWarning)\n"
     ]
    }
   ],
   "source": [
    "X_train, y_train = a.train_X_y()"
   ]
  },
  {
   "cell_type": "code",
   "execution_count": 35,
   "metadata": {},
   "outputs": [
    {
     "data": {
      "text/plain": [
       "(16, 10)"
      ]
     },
     "execution_count": 35,
     "metadata": {},
     "output_type": "execute_result"
    }
   ],
   "source": []
  },
  {
   "cell_type": "code",
   "execution_count": 101,
   "metadata": {},
   "outputs": [],
   "source": [
    "from sklearn.model_selection import GridSearchCV\n",
    "from sklearn.model_selection import StratifiedKFold"
   ]
  },
  {
   "cell_type": "code",
   "execution_count": 163,
   "metadata": {},
   "outputs": [],
   "source": [
    "import dill\n",
    "dill.dump(grid_search, open('model.pkd', 'wb'))"
   ]
  },
  {
   "cell_type": "code",
   "execution_count": 106,
   "metadata": {},
   "outputs": [
    {
     "data": {
      "text/plain": [
       "GridSearchCV(cv=StratifiedKFold(n_splits=10, random_state=7, shuffle=True),\n",
       "       error_score='raise',\n",
       "       estimator=XGBClassifier(base_score=0.5, booster='gbtree', colsample_bylevel=1,\n",
       "       colsample_bynode=1, colsample_bytree=1, gamma=0, learning_rate=0.1,\n",
       "       max_delta_step=0, max_depth=3, min_child_weight=1, missing=None,\n",
       "       n_estimators=100, n_jobs=8, nthread=None,\n",
       "       objective='binary:logistic', random_state=0, reg_alpha=0,\n",
       "       reg_lambda=1, scale_pos_weight=1, seed=None, silent=None,\n",
       "       subsample=1, verbosity=1),\n",
       "       fit_params=None, iid=True, n_jobs=1,\n",
       "       param_grid={'n_estimators': range(50, 400, 50)},\n",
       "       pre_dispatch='2*n_jobs', refit=True, return_train_score='warn',\n",
       "       scoring='neg_log_loss', verbose=0)"
      ]
     },
     "execution_count": 106,
     "metadata": {},
     "output_type": "execute_result"
    }
   ],
   "source": [
    "model = XGBClassifier(objective='binary:logistic', n_jobs=8)\n",
    "n_estimators = range(50, 400, 50)\n",
    "param_grid = dict(n_estimators=n_estimators)\n",
    "kfold = StratifiedKFold(n_splits=10, shuffle=True, random_state=7)\n",
    "grid_search = GridSearchCV(model, param_grid, scoring=\"neg_log_loss\",  cv=kfold)\n",
    "grid_search.fit(X_train, y_train,eval_metric=precision_eval,verbose=True)"
   ]
  },
  {
   "cell_type": "code",
   "execution_count": 108,
   "metadata": {},
   "outputs": [
    {
     "name": "stderr",
     "output_type": "stream",
     "text": [
      "/opt/conda/envs/data3/lib/python3.6/site-packages/sklearn/preprocessing/label.py:151: DeprecationWarning: The truth value of an empty array is ambiguous. Returning False, but in future this will result in an error. Use `array.size > 0` to check that an array is not empty.\n",
      "  if diff:\n"
     ]
    }
   ],
   "source": [
    "y_est3 = grid_search.predict(X_test)"
   ]
  },
  {
   "cell_type": "code",
   "execution_count": 111,
   "metadata": {},
   "outputs": [
    {
     "data": {
      "text/plain": [
       "(68, 2897)"
      ]
     },
     "execution_count": 111,
     "metadata": {},
     "output_type": "execute_result"
    }
   ],
   "source": [
    "np.count_nonzero(y_est3), len(y_est3)"
   ]
  },
  {
   "cell_type": "code",
   "execution_count": 113,
   "metadata": {},
   "outputs": [
    {
     "data": {
      "text/plain": [
       "0.7941176470588235"
      ]
     },
     "execution_count": 113,
     "metadata": {},
     "output_type": "execute_result"
    }
   ],
   "source": [
    "precision_score(y_test, y_est3) "
   ]
  },
  {
   "cell_type": "code",
   "execution_count": 154,
   "metadata": {},
   "outputs": [],
   "source": [
    "import heapq\n",
    "def hit_song_predictor(album):\n",
    "    X, y = album.train_X_y()\n",
    "    y_est = grid_search.predict(X)\n",
    "    indices = np.arange(album.total_tracks)[y_est]\n",
    "    if len(indices):\n",
    "        return album.tracks_df[[ 'track_number',  'name']].values[indices], True\n",
    "    else:\n",
    "        y_est_prob_mtx = grid_search.predict_proba(X)\n",
    "        y_est_prob_mtx[:, 0] = np.arange(album.total_tracks)\n",
    "        indices = np.array(heapq.nlargest(3, y_est_prob_mtx, key=lambda x: x[1]))[:,0].astype(int)\n",
    "        return album.tracks_df[[ 'track_number',  'name']].values[indices], False"
   ]
  },
  {
   "cell_type": "code",
   "execution_count": 161,
   "metadata": {},
   "outputs": [
    {
     "name": "stdout",
     "output_type": "stream",
     "text": [
      "(array([[5, 'West Coast'],\n",
      "       [11, 'The Other Woman'],\n",
      "       [1, 'Cruel World']], dtype=object), False)\n"
     ]
    },
    {
     "name": "stderr",
     "output_type": "stream",
     "text": [
      "/opt/conda/envs/data3/lib/python3.6/site-packages/sklearn/utils/validation.py:475: DataConversionWarning: Data with input dtype int64 was converted to float64 by MinMaxScaler.\n",
      "  warnings.warn(msg, DataConversionWarning)\n",
      "/opt/conda/envs/data3/lib/python3.6/site-packages/sklearn/preprocessing/label.py:151: DeprecationWarning: The truth value of an empty array is ambiguous. Returning False, but in future this will result in an error. Use `array.size > 0` to check that an array is not empty.\n",
      "  if diff:\n"
     ]
    },
    {
     "data": {
      "text/html": [
       "<div>\n",
       "<style scoped>\n",
       "    .dataframe tbody tr th:only-of-type {\n",
       "        vertical-align: middle;\n",
       "    }\n",
       "\n",
       "    .dataframe tbody tr th {\n",
       "        vertical-align: top;\n",
       "    }\n",
       "\n",
       "    .dataframe thead th {\n",
       "        text-align: right;\n",
       "    }\n",
       "</style>\n",
       "<table border=\"1\" class=\"dataframe\">\n",
       "  <thead>\n",
       "    <tr style=\"text-align: right;\">\n",
       "      <th></th>\n",
       "      <th>id</th>\n",
       "      <th>track_number</th>\n",
       "      <th>popularity</th>\n",
       "      <th>name</th>\n",
       "      <th>duration_ms</th>\n",
       "      <th>tempo</th>\n",
       "      <th>time_signature</th>\n",
       "      <th>key</th>\n",
       "      <th>valence</th>\n",
       "      <th>mode</th>\n",
       "      <th>acousticness</th>\n",
       "      <th>danceability</th>\n",
       "      <th>energy</th>\n",
       "      <th>instrumentalness</th>\n",
       "      <th>liveness</th>\n",
       "      <th>loudness</th>\n",
       "      <th>speechiness</th>\n",
       "      <th>ordering</th>\n",
       "      <th>total_tracks</th>\n",
       "      <th>label</th>\n",
       "    </tr>\n",
       "  </thead>\n",
       "  <tbody>\n",
       "    <tr>\n",
       "      <th>0</th>\n",
       "      <td>6ayKgleoMF26lvU1Z7wVm7</td>\n",
       "      <td>1</td>\n",
       "      <td>58</td>\n",
       "      <td>Cruel World</td>\n",
       "      <td>5.132253e-19</td>\n",
       "      <td>1.571039e-07</td>\n",
       "      <td>4</td>\n",
       "      <td>5</td>\n",
       "      <td>0.1770</td>\n",
       "      <td>0</td>\n",
       "      <td>0.274</td>\n",
       "      <td>0.330</td>\n",
       "      <td>0.507</td>\n",
       "      <td>0.000005</td>\n",
       "      <td>0.1220</td>\n",
       "      <td>-0.000064</td>\n",
       "      <td>0.0339</td>\n",
       "      <td>-0.500000</td>\n",
       "      <td>14</td>\n",
       "      <td>False</td>\n",
       "    </tr>\n",
       "    <tr>\n",
       "      <th>1</th>\n",
       "      <td>1y3r6RXiJZNBV1EI0NggpS</td>\n",
       "      <td>2</td>\n",
       "      <td>65</td>\n",
       "      <td>Ultraviolence</td>\n",
       "      <td>3.234053e-19</td>\n",
       "      <td>1.019316e-07</td>\n",
       "      <td>3</td>\n",
       "      <td>0</td>\n",
       "      <td>0.0899</td>\n",
       "      <td>1</td>\n",
       "      <td>0.278</td>\n",
       "      <td>0.144</td>\n",
       "      <td>0.541</td>\n",
       "      <td>0.000010</td>\n",
       "      <td>0.1010</td>\n",
       "      <td>-0.000071</td>\n",
       "      <td>0.0380</td>\n",
       "      <td>-0.423077</td>\n",
       "      <td>14</td>\n",
       "      <td>False</td>\n",
       "    </tr>\n",
       "    <tr>\n",
       "      <th>2</th>\n",
       "      <td>4VSg5K1hnbmIg4PwRdY6wV</td>\n",
       "      <td>3</td>\n",
       "      <td>64</td>\n",
       "      <td>Shades Of Cool</td>\n",
       "      <td>4.399344e-19</td>\n",
       "      <td>1.773637e-07</td>\n",
       "      <td>3</td>\n",
       "      <td>2</td>\n",
       "      <td>0.0878</td>\n",
       "      <td>0</td>\n",
       "      <td>0.554</td>\n",
       "      <td>0.262</td>\n",
       "      <td>0.482</td>\n",
       "      <td>0.016100</td>\n",
       "      <td>0.2440</td>\n",
       "      <td>-0.000069</td>\n",
       "      <td>0.0302</td>\n",
       "      <td>-0.346154</td>\n",
       "      <td>14</td>\n",
       "      <td>False</td>\n",
       "    </tr>\n",
       "    <tr>\n",
       "      <th>3</th>\n",
       "      <td>1NZs6n6hl8UuMaX0UC0YTz</td>\n",
       "      <td>4</td>\n",
       "      <td>66</td>\n",
       "      <td>Brooklyn Baby</td>\n",
       "      <td>4.522119e-19</td>\n",
       "      <td>1.385635e-07</td>\n",
       "      <td>4</td>\n",
       "      <td>1</td>\n",
       "      <td>0.0949</td>\n",
       "      <td>1</td>\n",
       "      <td>0.542</td>\n",
       "      <td>0.404</td>\n",
       "      <td>0.664</td>\n",
       "      <td>0.004020</td>\n",
       "      <td>0.1100</td>\n",
       "      <td>-0.000067</td>\n",
       "      <td>0.0407</td>\n",
       "      <td>-0.269231</td>\n",
       "      <td>14</td>\n",
       "      <td>False</td>\n",
       "    </tr>\n",
       "    <tr>\n",
       "      <th>4</th>\n",
       "      <td>5Y6nVaayzitvsD5F7nr3DV</td>\n",
       "      <td>5</td>\n",
       "      <td>68</td>\n",
       "      <td>West Coast</td>\n",
       "      <td>3.301955e-19</td>\n",
       "      <td>1.583938e-07</td>\n",
       "      <td>4</td>\n",
       "      <td>6</td>\n",
       "      <td>0.4610</td>\n",
       "      <td>0</td>\n",
       "      <td>0.194</td>\n",
       "      <td>0.527</td>\n",
       "      <td>0.591</td>\n",
       "      <td>0.019400</td>\n",
       "      <td>0.0907</td>\n",
       "      <td>-0.000077</td>\n",
       "      <td>0.0396</td>\n",
       "      <td>-0.192308</td>\n",
       "      <td>14</td>\n",
       "      <td>False</td>\n",
       "    </tr>\n",
       "    <tr>\n",
       "      <th>5</th>\n",
       "      <td>11MyiSGZSYSmhhqwGUTtAq</td>\n",
       "      <td>6</td>\n",
       "      <td>61</td>\n",
       "      <td>Sad Girl</td>\n",
       "      <td>4.086420e-19</td>\n",
       "      <td>1.536510e-07</td>\n",
       "      <td>4</td>\n",
       "      <td>5</td>\n",
       "      <td>0.2580</td>\n",
       "      <td>1</td>\n",
       "      <td>0.539</td>\n",
       "      <td>0.345</td>\n",
       "      <td>0.587</td>\n",
       "      <td>0.073100</td>\n",
       "      <td>0.1190</td>\n",
       "      <td>-0.000083</td>\n",
       "      <td>0.0364</td>\n",
       "      <td>-0.115385</td>\n",
       "      <td>14</td>\n",
       "      <td>False</td>\n",
       "    </tr>\n",
       "    <tr>\n",
       "      <th>6</th>\n",
       "      <td>6PnluwP0fjGnpIBsqTdUTq</td>\n",
       "      <td>7</td>\n",
       "      <td>61</td>\n",
       "      <td>Pretty When You Cry</td>\n",
       "      <td>3.011150e-19</td>\n",
       "      <td>1.407356e-07</td>\n",
       "      <td>4</td>\n",
       "      <td>10</td>\n",
       "      <td>0.1970</td>\n",
       "      <td>0</td>\n",
       "      <td>0.399</td>\n",
       "      <td>0.509</td>\n",
       "      <td>0.547</td>\n",
       "      <td>0.000000</td>\n",
       "      <td>0.2150</td>\n",
       "      <td>-0.000065</td>\n",
       "      <td>0.0417</td>\n",
       "      <td>-0.038462</td>\n",
       "      <td>14</td>\n",
       "      <td>False</td>\n",
       "    </tr>\n",
       "    <tr>\n",
       "      <th>7</th>\n",
       "      <td>7Ms58r8G6Y0r1XLtpwoGxN</td>\n",
       "      <td>8</td>\n",
       "      <td>62</td>\n",
       "      <td>Money Power Glory</td>\n",
       "      <td>3.480967e-19</td>\n",
       "      <td>1.758771e-07</td>\n",
       "      <td>5</td>\n",
       "      <td>8</td>\n",
       "      <td>0.2880</td>\n",
       "      <td>0</td>\n",
       "      <td>0.583</td>\n",
       "      <td>0.349</td>\n",
       "      <td>0.525</td>\n",
       "      <td>0.000000</td>\n",
       "      <td>0.3500</td>\n",
       "      <td>-0.000068</td>\n",
       "      <td>0.0451</td>\n",
       "      <td>0.038462</td>\n",
       "      <td>14</td>\n",
       "      <td>False</td>\n",
       "    </tr>\n",
       "    <tr>\n",
       "      <th>8</th>\n",
       "      <td>70Laus6ozJIHDpfTtUSmAZ</td>\n",
       "      <td>9</td>\n",
       "      <td>59</td>\n",
       "      <td>Fucked My Way Up To The Top</td>\n",
       "      <td>2.729257e-19</td>\n",
       "      <td>1.669740e-07</td>\n",
       "      <td>4</td>\n",
       "      <td>5</td>\n",
       "      <td>0.1820</td>\n",
       "      <td>1</td>\n",
       "      <td>0.601</td>\n",
       "      <td>0.520</td>\n",
       "      <td>0.690</td>\n",
       "      <td>0.201000</td>\n",
       "      <td>0.1370</td>\n",
       "      <td>-0.000059</td>\n",
       "      <td>0.0554</td>\n",
       "      <td>0.115385</td>\n",
       "      <td>14</td>\n",
       "      <td>False</td>\n",
       "    </tr>\n",
       "    <tr>\n",
       "      <th>9</th>\n",
       "      <td>6IfPyMb0Sxptpx6jBUATOS</td>\n",
       "      <td>10</td>\n",
       "      <td>63</td>\n",
       "      <td>Old Money</td>\n",
       "      <td>3.491255e-19</td>\n",
       "      <td>1.390368e-07</td>\n",
       "      <td>1</td>\n",
       "      <td>10</td>\n",
       "      <td>0.1540</td>\n",
       "      <td>0</td>\n",
       "      <td>0.888</td>\n",
       "      <td>0.312</td>\n",
       "      <td>0.168</td>\n",
       "      <td>0.000007</td>\n",
       "      <td>0.1470</td>\n",
       "      <td>-0.000125</td>\n",
       "      <td>0.0332</td>\n",
       "      <td>0.192308</td>\n",
       "      <td>14</td>\n",
       "      <td>False</td>\n",
       "    </tr>\n",
       "    <tr>\n",
       "      <th>10</th>\n",
       "      <td>1KuVEZR4xuQVNr1KkanAV4</td>\n",
       "      <td>11</td>\n",
       "      <td>55</td>\n",
       "      <td>The Other Woman</td>\n",
       "      <td>2.340021e-19</td>\n",
       "      <td>1.436085e-07</td>\n",
       "      <td>4</td>\n",
       "      <td>7</td>\n",
       "      <td>0.1750</td>\n",
       "      <td>0</td>\n",
       "      <td>0.822</td>\n",
       "      <td>0.255</td>\n",
       "      <td>0.468</td>\n",
       "      <td>0.248000</td>\n",
       "      <td>0.3390</td>\n",
       "      <td>-0.000064</td>\n",
       "      <td>0.0317</td>\n",
       "      <td>0.269231</td>\n",
       "      <td>14</td>\n",
       "      <td>False</td>\n",
       "    </tr>\n",
       "    <tr>\n",
       "      <th>11</th>\n",
       "      <td>63hHlajVLQnlFMAqSyePxO</td>\n",
       "      <td>12</td>\n",
       "      <td>59</td>\n",
       "      <td>Black Beauty</td>\n",
       "      <td>4.044920e-19</td>\n",
       "      <td>1.541898e-07</td>\n",
       "      <td>4</td>\n",
       "      <td>5</td>\n",
       "      <td>0.1030</td>\n",
       "      <td>1</td>\n",
       "      <td>0.270</td>\n",
       "      <td>0.320</td>\n",
       "      <td>0.529</td>\n",
       "      <td>0.013600</td>\n",
       "      <td>0.0942</td>\n",
       "      <td>-0.000076</td>\n",
       "      <td>0.0436</td>\n",
       "      <td>0.346154</td>\n",
       "      <td>14</td>\n",
       "      <td>False</td>\n",
       "    </tr>\n",
       "    <tr>\n",
       "      <th>12</th>\n",
       "      <td>0vfPEfQk0ZCHExTZ007Ryr</td>\n",
       "      <td>13</td>\n",
       "      <td>54</td>\n",
       "      <td>Guns And Roses</td>\n",
       "      <td>3.480453e-19</td>\n",
       "      <td>1.400823e-07</td>\n",
       "      <td>4</td>\n",
       "      <td>8</td>\n",
       "      <td>0.3430</td>\n",
       "      <td>0</td>\n",
       "      <td>0.300</td>\n",
       "      <td>0.533</td>\n",
       "      <td>0.666</td>\n",
       "      <td>0.008620</td>\n",
       "      <td>0.1150</td>\n",
       "      <td>-0.000090</td>\n",
       "      <td>0.0448</td>\n",
       "      <td>0.423077</td>\n",
       "      <td>14</td>\n",
       "      <td>False</td>\n",
       "    </tr>\n",
       "    <tr>\n",
       "      <th>13</th>\n",
       "      <td>0iQPnK3bi7O27c5T2HBTdr</td>\n",
       "      <td>14</td>\n",
       "      <td>62</td>\n",
       "      <td>Florida Kilos</td>\n",
       "      <td>3.292695e-19</td>\n",
       "      <td>2.582060e-07</td>\n",
       "      <td>4</td>\n",
       "      <td>0</td>\n",
       "      <td>0.5790</td>\n",
       "      <td>1</td>\n",
       "      <td>0.280</td>\n",
       "      <td>0.266</td>\n",
       "      <td>0.513</td>\n",
       "      <td>0.000060</td>\n",
       "      <td>0.1100</td>\n",
       "      <td>-0.000079</td>\n",
       "      <td>0.0388</td>\n",
       "      <td>0.500000</td>\n",
       "      <td>14</td>\n",
       "      <td>False</td>\n",
       "    </tr>\n",
       "  </tbody>\n",
       "</table>\n",
       "</div>"
      ],
      "text/plain": [
       "                        id  track_number  popularity  \\\n",
       "0   6ayKgleoMF26lvU1Z7wVm7             1          58   \n",
       "1   1y3r6RXiJZNBV1EI0NggpS             2          65   \n",
       "2   4VSg5K1hnbmIg4PwRdY6wV             3          64   \n",
       "3   1NZs6n6hl8UuMaX0UC0YTz             4          66   \n",
       "4   5Y6nVaayzitvsD5F7nr3DV             5          68   \n",
       "5   11MyiSGZSYSmhhqwGUTtAq             6          61   \n",
       "6   6PnluwP0fjGnpIBsqTdUTq             7          61   \n",
       "7   7Ms58r8G6Y0r1XLtpwoGxN             8          62   \n",
       "8   70Laus6ozJIHDpfTtUSmAZ             9          59   \n",
       "9   6IfPyMb0Sxptpx6jBUATOS            10          63   \n",
       "10  1KuVEZR4xuQVNr1KkanAV4            11          55   \n",
       "11  63hHlajVLQnlFMAqSyePxO            12          59   \n",
       "12  0vfPEfQk0ZCHExTZ007Ryr            13          54   \n",
       "13  0iQPnK3bi7O27c5T2HBTdr            14          62   \n",
       "\n",
       "                           name   duration_ms         tempo  time_signature  \\\n",
       "0                   Cruel World  5.132253e-19  1.571039e-07               4   \n",
       "1                 Ultraviolence  3.234053e-19  1.019316e-07               3   \n",
       "2                Shades Of Cool  4.399344e-19  1.773637e-07               3   \n",
       "3                 Brooklyn Baby  4.522119e-19  1.385635e-07               4   \n",
       "4                    West Coast  3.301955e-19  1.583938e-07               4   \n",
       "5                      Sad Girl  4.086420e-19  1.536510e-07               4   \n",
       "6           Pretty When You Cry  3.011150e-19  1.407356e-07               4   \n",
       "7             Money Power Glory  3.480967e-19  1.758771e-07               5   \n",
       "8   Fucked My Way Up To The Top  2.729257e-19  1.669740e-07               4   \n",
       "9                     Old Money  3.491255e-19  1.390368e-07               1   \n",
       "10              The Other Woman  2.340021e-19  1.436085e-07               4   \n",
       "11                 Black Beauty  4.044920e-19  1.541898e-07               4   \n",
       "12               Guns And Roses  3.480453e-19  1.400823e-07               4   \n",
       "13                Florida Kilos  3.292695e-19  2.582060e-07               4   \n",
       "\n",
       "    key  valence  mode  acousticness  danceability  energy  instrumentalness  \\\n",
       "0     5   0.1770     0         0.274         0.330   0.507          0.000005   \n",
       "1     0   0.0899     1         0.278         0.144   0.541          0.000010   \n",
       "2     2   0.0878     0         0.554         0.262   0.482          0.016100   \n",
       "3     1   0.0949     1         0.542         0.404   0.664          0.004020   \n",
       "4     6   0.4610     0         0.194         0.527   0.591          0.019400   \n",
       "5     5   0.2580     1         0.539         0.345   0.587          0.073100   \n",
       "6    10   0.1970     0         0.399         0.509   0.547          0.000000   \n",
       "7     8   0.2880     0         0.583         0.349   0.525          0.000000   \n",
       "8     5   0.1820     1         0.601         0.520   0.690          0.201000   \n",
       "9    10   0.1540     0         0.888         0.312   0.168          0.000007   \n",
       "10    7   0.1750     0         0.822         0.255   0.468          0.248000   \n",
       "11    5   0.1030     1         0.270         0.320   0.529          0.013600   \n",
       "12    8   0.3430     0         0.300         0.533   0.666          0.008620   \n",
       "13    0   0.5790     1         0.280         0.266   0.513          0.000060   \n",
       "\n",
       "    liveness  loudness  speechiness  ordering  total_tracks  label  \n",
       "0     0.1220 -0.000064       0.0339 -0.500000            14  False  \n",
       "1     0.1010 -0.000071       0.0380 -0.423077            14  False  \n",
       "2     0.2440 -0.000069       0.0302 -0.346154            14  False  \n",
       "3     0.1100 -0.000067       0.0407 -0.269231            14  False  \n",
       "4     0.0907 -0.000077       0.0396 -0.192308            14  False  \n",
       "5     0.1190 -0.000083       0.0364 -0.115385            14  False  \n",
       "6     0.2150 -0.000065       0.0417 -0.038462            14  False  \n",
       "7     0.3500 -0.000068       0.0451  0.038462            14  False  \n",
       "8     0.1370 -0.000059       0.0554  0.115385            14  False  \n",
       "9     0.1470 -0.000125       0.0332  0.192308            14  False  \n",
       "10    0.3390 -0.000064       0.0317  0.269231            14  False  \n",
       "11    0.0942 -0.000076       0.0436  0.346154            14  False  \n",
       "12    0.1150 -0.000090       0.0448  0.423077            14  False  \n",
       "13    0.1100 -0.000079       0.0388  0.500000            14  False  "
      ]
     },
     "execution_count": 161,
     "metadata": {},
     "output_type": "execute_result"
    }
   ],
   "source": [
    "a = list_2014[10]\n",
    "print(hit_song_predictor(a))\n",
    "a.tracks_df"
   ]
  },
  {
   "cell_type": "code",
   "execution_count": null,
   "metadata": {},
   "outputs": [],
   "source": []
  },
  {
   "cell_type": "code",
   "execution_count": null,
   "metadata": {},
   "outputs": [],
   "source": []
  }
 ],
 "metadata": {
  "kernelspec": {
   "display_name": "Python 3",
   "language": "python",
   "name": "python3"
  },
  "language_info": {
   "codemirror_mode": {
    "name": "ipython",
    "version": 3
   },
   "file_extension": ".py",
   "mimetype": "text/x-python",
   "name": "python",
   "nbconvert_exporter": "python",
   "pygments_lexer": "ipython3",
   "version": "3.6.2"
  }
 },
 "nbformat": 4,
 "nbformat_minor": 2
}
