{
 "cells": [
  {
   "cell_type": "code",
   "execution_count": 29,
   "metadata": {},
   "outputs": [],
   "source": [
    "import simplejson as json\n",
    "import pandas as pd\n",
    "import numpy as np"
   ]
  },
  {
   "cell_type": "code",
   "execution_count": 30,
   "metadata": {},
   "outputs": [],
   "source": [
    "from xgboost import XGBClassifier\n",
    "from sklearn.model_selection import train_test_split\n",
    "from sklearn.metrics import precision_score"
   ]
  },
  {
   "cell_type": "code",
   "execution_count": 5,
   "metadata": {},
   "outputs": [],
   "source": [
    "def load_files(year):\n",
    "\n",
    "    with open(\"best_seller_albums_v3_year_\" + str(year)) as json_file:  \n",
    "        best_seller_albums_data = json.load(json_file)\n",
    "        best_seller_albums_albums = [Album(d) for d in best_seller_albums_data]\n",
    "\n",
    "    with open(\"top_songs_albums_v3_year_\" + str(year)) as json_file:  \n",
    "        top_songs_albums_data = json.load(json_file)\n",
    "        top_songs_albums_albums = [Album(d) for d in top_songs_albums_data]\n",
    "\n",
    "    return best_seller_albums_albums, top_songs_albums_albums"
   ]
  },
  {
   "cell_type": "code",
   "execution_count": 31,
   "metadata": {},
   "outputs": [],
   "source": [
    "from sklearn.preprocessing import PolynomialFeatures, MinMaxScaler\n",
    "\n",
    "class Album(object):\n",
    "    def __init__(self, album_json):\n",
    "        self.id, self.name, self.genres, self.popularity, self.total_tracks, self.artists_list = [album_json[k] for k in ['id', 'name', 'genres', 'popularity', 'total_tracks', 'artists_list']]\n",
    "        self.tracks_df = pd.read_json(album_json['tracks_info'], orient='split')\n",
    "\n",
    "    def unit_transf(self):\n",
    "        self.tracks_df['tempo'] = self.tracks_df['tempo'] / 60\n",
    "        self.tracks_df['duration_ms'] = self.tracks_df['duration_ms'] / 1000 / 60\n",
    "        self.tracks_df['loudness'] = self.tracks_df['loudness'] / 10\n",
    "        self.tracks_df['ordering'] = MinMaxScaler().fit_transform(self.tracks_df['track_number'].values.reshape(-1,1)) - 0.5\n",
    "        self.tracks_df['total_tracks'] = self.total_tracks\n",
    "        \n",
    "    def classification_label(self):\n",
    "        self.tracks_df['label'] = self.tracks_df['popularity'] >= self.popularity\n",
    "        return self.tracks_df['label'].values\n",
    "        \n",
    "    def train_X_y(self):\n",
    "        self.unit_transf()        \n",
    "        X = self.tracks_df[['mode', 'tempo', 'duration_ms', 'ordering', 'acousticness', 'danceability', 'energy', 'liveness', 'speechiness','valence']].values\n",
    "        y = self.classification_label()\n",
    "        return X, y"
   ]
  },
  {
   "cell_type": "code",
   "execution_count": 32,
   "metadata": {},
   "outputs": [],
   "source": [
    "train_list = []\n",
    "for year in range(14,19):    \n",
    "    album_list, song_list = load_files('20' + str(year))\n",
    "    train_list += (album_list + song_list)"
   ]
  },
  {
   "cell_type": "code",
   "execution_count": 37,
   "metadata": {},
   "outputs": [
    {
     "data": {
      "text/plain": [
       "669"
      ]
     },
     "execution_count": 37,
     "metadata": {},
     "output_type": "execute_result"
    }
   ],
   "source": [
    "len(train_list)"
   ]
  },
  {
   "cell_type": "code",
   "execution_count": 33,
   "metadata": {},
   "outputs": [],
   "source": [
    "X_ls, y_ls = list(zip(*[a.train_X_y() for a in train_list]))\n",
    "X = np.vstack(X_ls)\n",
    "y = np.hstack(y_ls)"
   ]
  },
  {
   "cell_type": "code",
   "execution_count": 34,
   "metadata": {},
   "outputs": [
    {
     "data": {
      "text/plain": [
       "((8776,), 751)"
      ]
     },
     "execution_count": 34,
     "metadata": {},
     "output_type": "execute_result"
    }
   ],
   "source": [
    "y.shape, np.count_nonzero(y)"
   ]
  },
  {
   "cell_type": "code",
   "execution_count": 35,
   "metadata": {},
   "outputs": [],
   "source": [
    "X_train, X_test, y_train, y_test = train_test_split(X, y, test_size=0.33, random_state=42)"
   ]
  },
  {
   "cell_type": "code",
   "execution_count": 36,
   "metadata": {},
   "outputs": [
    {
     "data": {
      "text/plain": [
       "(((5879,), 518), ((2897,), 233))"
      ]
     },
     "execution_count": 36,
     "metadata": {},
     "output_type": "execute_result"
    }
   ],
   "source": [
    "(y_train.shape, np.count_nonzero(y_train)), (y_test.shape, np.count_nonzero(y_test))"
   ]
  },
  {
   "cell_type": "code",
   "execution_count": 10,
   "metadata": {},
   "outputs": [
    {
     "data": {
      "text/plain": [
       "XGBClassifier(base_score=0.5, booster='gbtree', colsample_bylevel=1,\n",
       "              colsample_bynode=1, colsample_bytree=1, gamma=0,\n",
       "              learning_rate=0.1, max_delta_step=0, max_depth=3,\n",
       "              min_child_weight=1, missing=None, n_estimators=100, n_jobs=1,\n",
       "              nthread=None, objective='binary:logistic', random_state=0,\n",
       "              reg_alpha=0, reg_lambda=1, scale_pos_weight=1, seed=None,\n",
       "              silent=None, subsample=1, verbosity=1)"
      ]
     },
     "execution_count": 10,
     "metadata": {},
     "output_type": "execute_result"
    }
   ],
   "source": [
    "model = XGBClassifier()\n",
    "model.fit(X_train, y_train)"
   ]
  },
  {
   "cell_type": "code",
   "execution_count": 11,
   "metadata": {},
   "outputs": [
    {
     "name": "stdout",
     "output_type": "stream",
     "text": [
      "[0]\tvalidation_0-logloss:0.626001\tvalidation_1-logloss:0.625036\n",
      "[1]\tvalidation_0-logloss:0.571185\tvalidation_1-logloss:0.569424\n"
     ]
    },
    {
     "data": {
      "text/plain": [
       "{'validation_0': {'logloss': [0.626001, 0.571185]},\n",
       " 'validation_1': {'logloss': [0.625036, 0.569424]}}"
      ]
     },
     "execution_count": 11,
     "metadata": {},
     "output_type": "execute_result"
    }
   ],
   "source": [
    "param_dist = {'objective':'binary:logistic', 'n_estimators':2}\n",
    "\n",
    "clf = XGBClassifier(**param_dist)\n",
    "\n",
    "clf.fit(X_train, y_train,\n",
    "        eval_set=[(X_train, y_train), (X_test, y_test)],\n",
    "        eval_metric='logloss',\n",
    "        verbose=True)\n",
    "\n",
    "evals_result = clf.evals_result()\n",
    "evals_result"
   ]
  },
  {
   "cell_type": "code",
   "execution_count": 12,
   "metadata": {},
   "outputs": [],
   "source": [
    "y_est1 = clf.predict(X_test)"
   ]
  },
  {
   "cell_type": "code",
   "execution_count": 13,
   "metadata": {},
   "outputs": [
    {
     "data": {
      "text/plain": [
       "XGBClassifier(base_score=0.5, booster='gbtree', colsample_bylevel=1,\n",
       "              colsample_bynode=1, colsample_bytree=1, gamma=0,\n",
       "              learning_rate=0.1, max_delta_step=0, max_depth=3,\n",
       "              min_child_weight=1, missing=None, n_estimators=100, n_jobs=8,\n",
       "              nthread=None, objective='binary:logistic', random_state=0,\n",
       "              reg_alpha=0, reg_lambda=1, scale_pos_weight=1, seed=None,\n",
       "              silent=None, subsample=1, verbosity=1)"
      ]
     },
     "execution_count": 13,
     "metadata": {},
     "output_type": "execute_result"
    }
   ],
   "source": [
    "from sklearn.metrics import precision_score\n",
    "import numpy as np\n",
    "\n",
    "def precision_eval(y_pred, dtrain):\n",
    "    y_true = dtrain.get_label()\n",
    "    err = 1-precision_score(y_true, np.round(y_pred))\n",
    "    return 'precision_err', err\n",
    "\n",
    "clf_wine = XGBClassifier(objective='binary:logistic', n_jobs=8)\n",
    "\n",
    "\n",
    "clf_wine.fit(X_train, y_train,eval_metric=precision_eval,verbose=True)"
   ]
  },
  {
   "cell_type": "code",
   "execution_count": 14,
   "metadata": {},
   "outputs": [],
   "source": [
    "y_est2 = clf_wine.predict(X_test)"
   ]
  },
  {
   "cell_type": "code",
   "execution_count": 15,
   "metadata": {},
   "outputs": [
    {
     "data": {
      "text/plain": [
       "array([[0.962747  , 0.03725303],\n",
       "       [0.9489279 , 0.05107209],\n",
       "       [0.9197687 , 0.08023134],\n",
       "       ...,\n",
       "       [0.9490032 , 0.05099678],\n",
       "       [0.78019834, 0.21980163],\n",
       "       [0.8955257 , 0.10447431]], dtype=float32)"
      ]
     },
     "execution_count": 15,
     "metadata": {},
     "output_type": "execute_result"
    }
   ],
   "source": [
    "clf_wine.predict_proba(X_test)"
   ]
  },
  {
   "cell_type": "code",
   "execution_count": 16,
   "metadata": {},
   "outputs": [
    {
     "data": {
      "text/plain": [
       "0.631578947368421"
      ]
     },
     "execution_count": 16,
     "metadata": {},
     "output_type": "execute_result"
    }
   ],
   "source": [
    "precision_score(y_test, y_est2) "
   ]
  },
  {
   "cell_type": "code",
   "execution_count": 17,
   "metadata": {},
   "outputs": [
    {
     "data": {
      "text/plain": [
       "0.2"
      ]
     },
     "execution_count": 17,
     "metadata": {},
     "output_type": "execute_result"
    }
   ],
   "source": [
    "precision_score(y_test, y_est1)  "
   ]
  },
  {
   "cell_type": "code",
   "execution_count": 18,
   "metadata": {},
   "outputs": [
    {
     "data": {
      "text/plain": [
       "(19, 2897)"
      ]
     },
     "execution_count": 18,
     "metadata": {},
     "output_type": "execute_result"
    }
   ],
   "source": [
    "np.count_nonzero(y_est2), len(y_est2)"
   ]
  },
  {
   "cell_type": "code",
   "execution_count": 19,
   "metadata": {},
   "outputs": [
    {
     "data": {
      "text/plain": [
       "numpy.ndarray"
      ]
     },
     "execution_count": 19,
     "metadata": {},
     "output_type": "execute_result"
    }
   ],
   "source": [
    "type(y_est2)"
   ]
  },
  {
   "cell_type": "code",
   "execution_count": 21,
   "metadata": {},
   "outputs": [],
   "source": [
    "from sklearn.model_selection import GridSearchCV\n",
    "from sklearn.model_selection import StratifiedKFold"
   ]
  },
  {
   "cell_type": "code",
   "execution_count": 22,
   "metadata": {},
   "outputs": [
    {
     "data": {
      "text/plain": [
       "GridSearchCV(cv=StratifiedKFold(n_splits=10, random_state=7, shuffle=True),\n",
       "             error_score='raise-deprecating',\n",
       "             estimator=XGBClassifier(base_score=0.5, booster='gbtree',\n",
       "                                     colsample_bylevel=1, colsample_bynode=1,\n",
       "                                     colsample_bytree=1, gamma=0,\n",
       "                                     learning_rate=0.1, max_delta_step=0,\n",
       "                                     max_depth=3, min_child_weight=1,\n",
       "                                     missing=None, n_estimators=100, n_jobs=8,\n",
       "                                     nthread=None, objective='binary:logistic',\n",
       "                                     random_state=0, reg_alpha=0, reg_lambda=1,\n",
       "                                     scale_pos_weight=1, seed=None, silent=None,\n",
       "                                     subsample=1, verbosity=1),\n",
       "             iid='warn', n_jobs=None,\n",
       "             param_grid={'n_estimators': range(50, 400, 50)},\n",
       "             pre_dispatch='2*n_jobs', refit=True, return_train_score=False,\n",
       "             scoring='neg_log_loss', verbose=0)"
      ]
     },
     "execution_count": 22,
     "metadata": {},
     "output_type": "execute_result"
    }
   ],
   "source": [
    "model = XGBClassifier(objective='binary:logistic', n_jobs=8)\n",
    "n_estimators = range(50, 400, 50)\n",
    "param_grid = dict(n_estimators=n_estimators)\n",
    "kfold = StratifiedKFold(n_splits=10, shuffle=True, random_state=7)\n",
    "grid_search = GridSearchCV(model, param_grid, scoring=\"neg_log_loss\",  cv=kfold)\n",
    "grid_search.fit(X_train, y_train,eval_metric=precision_eval,verbose=True)"
   ]
  },
  {
   "cell_type": "code",
   "execution_count": 23,
   "metadata": {},
   "outputs": [],
   "source": [
    "y_est3 = grid_search.predict(X_test)"
   ]
  },
  {
   "cell_type": "code",
   "execution_count": 24,
   "metadata": {},
   "outputs": [
    {
     "data": {
      "text/plain": [
       "(68, 2897)"
      ]
     },
     "execution_count": 24,
     "metadata": {},
     "output_type": "execute_result"
    }
   ],
   "source": [
    "np.count_nonzero(y_est3), len(y_est3)"
   ]
  },
  {
   "cell_type": "code",
   "execution_count": 25,
   "metadata": {},
   "outputs": [
    {
     "data": {
      "text/plain": [
       "0.7941176470588235"
      ]
     },
     "execution_count": 25,
     "metadata": {},
     "output_type": "execute_result"
    }
   ],
   "source": [
    "precision_score(y_test, y_est3) "
   ]
  },
  {
   "cell_type": "code",
   "execution_count": 28,
   "metadata": {},
   "outputs": [],
   "source": [
    "import dill\n",
    "dill.dump(grid_search, open('model.pkd', 'wb'))"
   ]
  },
  {
   "cell_type": "code",
   "execution_count": 16,
   "metadata": {},
   "outputs": [],
   "source": [
    "import heapq\n",
    "def hit_song_predictor(album):\n",
    "    X, y = album.train_X_y()\n",
    "    y_est = grid_search.predict(X)\n",
    "    indices = np.arange(album.total_tracks)[y_est]\n",
    "    if len(indices):\n",
    "        return album.tracks_df[[ 'track_number',  'name']].values[indices], True\n",
    "    else:\n",
    "        y_est_prob_mtx = grid_search.predict_proba(X)\n",
    "        y_est_prob_mtx[:, 0] = np.arange(album.total_tracks)\n",
    "        indices = np.array(heapq.nlargest(3, y_est_prob_mtx, key=lambda x: x[1]))[:,0].astype(int)\n",
    "        return album.tracks_df[[ 'track_number',  'name']].values[indices], False"
   ]
  },
  {
   "cell_type": "code",
   "execution_count": 22,
   "metadata": {},
   "outputs": [],
   "source": [
    "album_list, song_list = load_files(2014)\n",
    "a = (album_list + song_list)[8]"
   ]
  },
  {
   "cell_type": "code",
   "execution_count": 23,
   "metadata": {},
   "outputs": [
    {
     "data": {
      "text/plain": [
       "('Platinum', ['Miranda Lambert'])"
      ]
     },
     "execution_count": 23,
     "metadata": {},
     "output_type": "execute_result"
    }
   ],
   "source": [
    "a.name, a.artists_list"
   ]
  },
  {
   "cell_type": "code",
   "execution_count": 24,
   "metadata": {},
   "outputs": [
    {
     "data": {
      "text/plain": [
       "(array([[12, \"Somethin' Bad - (Duet with Carrie Underwood)\"]], dtype=object),\n",
       " True)"
      ]
     },
     "execution_count": 24,
     "metadata": {},
     "output_type": "execute_result"
    }
   ],
   "source": [
    "hit_song_predictor(a)"
   ]
  },
  {
   "cell_type": "code",
   "execution_count": 33,
   "metadata": {},
   "outputs": [
    {
     "data": {
      "text/html": [
       "<div>\n",
       "<style scoped>\n",
       "    .dataframe tbody tr th:only-of-type {\n",
       "        vertical-align: middle;\n",
       "    }\n",
       "\n",
       "    .dataframe tbody tr th {\n",
       "        vertical-align: top;\n",
       "    }\n",
       "\n",
       "    .dataframe thead th {\n",
       "        text-align: right;\n",
       "    }\n",
       "</style>\n",
       "<table border=\"1\" class=\"dataframe\">\n",
       "  <thead>\n",
       "    <tr style=\"text-align: right;\">\n",
       "      <th></th>\n",
       "      <th>id</th>\n",
       "      <th>track_number</th>\n",
       "      <th>popularity</th>\n",
       "      <th>name</th>\n",
       "      <th>duration_ms</th>\n",
       "      <th>tempo</th>\n",
       "      <th>time_signature</th>\n",
       "      <th>key</th>\n",
       "      <th>valence</th>\n",
       "      <th>mode</th>\n",
       "      <th>acousticness</th>\n",
       "      <th>danceability</th>\n",
       "      <th>energy</th>\n",
       "      <th>instrumentalness</th>\n",
       "      <th>liveness</th>\n",
       "      <th>loudness</th>\n",
       "      <th>speechiness</th>\n",
       "      <th>ordering</th>\n",
       "      <th>total_tracks</th>\n",
       "      <th>label</th>\n",
       "    </tr>\n",
       "  </thead>\n",
       "  <tbody>\n",
       "    <tr>\n",
       "      <th>0</th>\n",
       "      <td>7rxxROM7x948jnVwD0ORVN</td>\n",
       "      <td>1</td>\n",
       "      <td>38</td>\n",
       "      <td>Walk The Line</td>\n",
       "      <td>3.641350</td>\n",
       "      <td>1.247633</td>\n",
       "      <td>4</td>\n",
       "      <td>7</td>\n",
       "      <td>0.751</td>\n",
       "      <td>1</td>\n",
       "      <td>0.27000</td>\n",
       "      <td>0.515</td>\n",
       "      <td>0.904</td>\n",
       "      <td>0.000000</td>\n",
       "      <td>0.2800</td>\n",
       "      <td>-0.6103</td>\n",
       "      <td>0.3020</td>\n",
       "      <td>-0.500000</td>\n",
       "      <td>12</td>\n",
       "      <td>False</td>\n",
       "    </tr>\n",
       "    <tr>\n",
       "      <th>1</th>\n",
       "      <td>4m2k8jQNbNsAINiip5qKSN</td>\n",
       "      <td>2</td>\n",
       "      <td>36</td>\n",
       "      <td>Don't Need Y'all</td>\n",
       "      <td>3.550267</td>\n",
       "      <td>1.899200</td>\n",
       "      <td>4</td>\n",
       "      <td>4</td>\n",
       "      <td>0.429</td>\n",
       "      <td>0</td>\n",
       "      <td>0.56400</td>\n",
       "      <td>0.798</td>\n",
       "      <td>0.678</td>\n",
       "      <td>0.000013</td>\n",
       "      <td>0.1450</td>\n",
       "      <td>-0.5341</td>\n",
       "      <td>0.2380</td>\n",
       "      <td>-0.409091</td>\n",
       "      <td>12</td>\n",
       "      <td>False</td>\n",
       "    </tr>\n",
       "    <tr>\n",
       "      <th>2</th>\n",
       "      <td>598B7nC3ukFWx5eqv1Ft6i</td>\n",
       "      <td>3</td>\n",
       "      <td>33</td>\n",
       "      <td>100</td>\n",
       "      <td>4.161933</td>\n",
       "      <td>2.499350</td>\n",
       "      <td>4</td>\n",
       "      <td>2</td>\n",
       "      <td>0.574</td>\n",
       "      <td>1</td>\n",
       "      <td>0.01100</td>\n",
       "      <td>0.775</td>\n",
       "      <td>0.714</td>\n",
       "      <td>0.000002</td>\n",
       "      <td>0.0753</td>\n",
       "      <td>-0.5307</td>\n",
       "      <td>0.0566</td>\n",
       "      <td>-0.318182</td>\n",
       "      <td>12</td>\n",
       "      <td>False</td>\n",
       "    </tr>\n",
       "    <tr>\n",
       "      <th>3</th>\n",
       "      <td>4gbfxlzThi6Hi0KnV1wH4t</td>\n",
       "      <td>4</td>\n",
       "      <td>46</td>\n",
       "      <td>Change Your Life</td>\n",
       "      <td>3.679150</td>\n",
       "      <td>2.199633</td>\n",
       "      <td>4</td>\n",
       "      <td>6</td>\n",
       "      <td>0.688</td>\n",
       "      <td>0</td>\n",
       "      <td>0.02080</td>\n",
       "      <td>0.678</td>\n",
       "      <td>0.763</td>\n",
       "      <td>0.000000</td>\n",
       "      <td>0.1170</td>\n",
       "      <td>-0.5590</td>\n",
       "      <td>0.2080</td>\n",
       "      <td>-0.227273</td>\n",
       "      <td>12</td>\n",
       "      <td>False</td>\n",
       "    </tr>\n",
       "    <tr>\n",
       "      <th>4</th>\n",
       "      <td>3H9DlQEsjB0whMWy9g4MCX</td>\n",
       "      <td>5</td>\n",
       "      <td>43</td>\n",
       "      <td>Fancy</td>\n",
       "      <td>3.332300</td>\n",
       "      <td>1.582900</td>\n",
       "      <td>4</td>\n",
       "      <td>10</td>\n",
       "      <td>0.374</td>\n",
       "      <td>0</td>\n",
       "      <td>0.10700</td>\n",
       "      <td>0.911</td>\n",
       "      <td>0.710</td>\n",
       "      <td>0.000000</td>\n",
       "      <td>0.0490</td>\n",
       "      <td>-0.4137</td>\n",
       "      <td>0.0697</td>\n",
       "      <td>-0.136364</td>\n",
       "      <td>12</td>\n",
       "      <td>False</td>\n",
       "    </tr>\n",
       "    <tr>\n",
       "      <th>5</th>\n",
       "      <td>5CRZfDIaFlVMW61WzW2qVu</td>\n",
       "      <td>6</td>\n",
       "      <td>41</td>\n",
       "      <td>New Bitch</td>\n",
       "      <td>3.630783</td>\n",
       "      <td>2.233050</td>\n",
       "      <td>4</td>\n",
       "      <td>8</td>\n",
       "      <td>0.358</td>\n",
       "      <td>1</td>\n",
       "      <td>0.02700</td>\n",
       "      <td>0.583</td>\n",
       "      <td>0.742</td>\n",
       "      <td>0.000000</td>\n",
       "      <td>0.2320</td>\n",
       "      <td>-0.5711</td>\n",
       "      <td>0.1720</td>\n",
       "      <td>-0.045455</td>\n",
       "      <td>12</td>\n",
       "      <td>False</td>\n",
       "    </tr>\n",
       "    <tr>\n",
       "      <th>6</th>\n",
       "      <td>3yx6eryOZgO54bt3B671cn</td>\n",
       "      <td>7</td>\n",
       "      <td>58</td>\n",
       "      <td>Work</td>\n",
       "      <td>3.719950</td>\n",
       "      <td>2.333550</td>\n",
       "      <td>4</td>\n",
       "      <td>7</td>\n",
       "      <td>0.443</td>\n",
       "      <td>1</td>\n",
       "      <td>0.06040</td>\n",
       "      <td>0.697</td>\n",
       "      <td>0.808</td>\n",
       "      <td>0.000000</td>\n",
       "      <td>0.4350</td>\n",
       "      <td>-0.4928</td>\n",
       "      <td>0.1550</td>\n",
       "      <td>0.045455</td>\n",
       "      <td>12</td>\n",
       "      <td>False</td>\n",
       "    </tr>\n",
       "    <tr>\n",
       "      <th>7</th>\n",
       "      <td>0wjP81vqcXgjkCZDdIdwoL</td>\n",
       "      <td>8</td>\n",
       "      <td>36</td>\n",
       "      <td>Impossible Is Nothing</td>\n",
       "      <td>3.175500</td>\n",
       "      <td>1.291100</td>\n",
       "      <td>4</td>\n",
       "      <td>9</td>\n",
       "      <td>0.382</td>\n",
       "      <td>1</td>\n",
       "      <td>0.15600</td>\n",
       "      <td>0.665</td>\n",
       "      <td>0.602</td>\n",
       "      <td>0.000000</td>\n",
       "      <td>0.1110</td>\n",
       "      <td>-0.6656</td>\n",
       "      <td>0.0596</td>\n",
       "      <td>0.136364</td>\n",
       "      <td>12</td>\n",
       "      <td>False</td>\n",
       "    </tr>\n",
       "    <tr>\n",
       "      <th>8</th>\n",
       "      <td>7cwxv3nrySXbOoXr9Xl2F3</td>\n",
       "      <td>9</td>\n",
       "      <td>37</td>\n",
       "      <td>Goddess</td>\n",
       "      <td>3.166950</td>\n",
       "      <td>2.289950</td>\n",
       "      <td>5</td>\n",
       "      <td>1</td>\n",
       "      <td>0.610</td>\n",
       "      <td>1</td>\n",
       "      <td>0.08170</td>\n",
       "      <td>0.516</td>\n",
       "      <td>0.748</td>\n",
       "      <td>0.000003</td>\n",
       "      <td>0.1290</td>\n",
       "      <td>-0.4519</td>\n",
       "      <td>0.3090</td>\n",
       "      <td>0.227273</td>\n",
       "      <td>12</td>\n",
       "      <td>False</td>\n",
       "    </tr>\n",
       "    <tr>\n",
       "      <th>9</th>\n",
       "      <td>7pNC5ZIKtwUK0ReSpM3P9f</td>\n",
       "      <td>10</td>\n",
       "      <td>66</td>\n",
       "      <td>Black Widow</td>\n",
       "      <td>3.490383</td>\n",
       "      <td>2.733183</td>\n",
       "      <td>4</td>\n",
       "      <td>3</td>\n",
       "      <td>0.527</td>\n",
       "      <td>0</td>\n",
       "      <td>0.18100</td>\n",
       "      <td>0.741</td>\n",
       "      <td>0.726</td>\n",
       "      <td>0.000189</td>\n",
       "      <td>0.1110</td>\n",
       "      <td>-0.3770</td>\n",
       "      <td>0.1430</td>\n",
       "      <td>0.318182</td>\n",
       "      <td>12</td>\n",
       "      <td>True</td>\n",
       "    </tr>\n",
       "    <tr>\n",
       "      <th>10</th>\n",
       "      <td>538KWiWJHJ2FgJu0ndaANF</td>\n",
       "      <td>11</td>\n",
       "      <td>35</td>\n",
       "      <td>Lady Patra</td>\n",
       "      <td>3.940483</td>\n",
       "      <td>1.291967</td>\n",
       "      <td>4</td>\n",
       "      <td>8</td>\n",
       "      <td>0.562</td>\n",
       "      <td>1</td>\n",
       "      <td>0.02600</td>\n",
       "      <td>0.694</td>\n",
       "      <td>0.809</td>\n",
       "      <td>0.000000</td>\n",
       "      <td>0.3020</td>\n",
       "      <td>-0.5085</td>\n",
       "      <td>0.1780</td>\n",
       "      <td>0.409091</td>\n",
       "      <td>12</td>\n",
       "      <td>False</td>\n",
       "    </tr>\n",
       "    <tr>\n",
       "      <th>11</th>\n",
       "      <td>5lcqxNUw7TJE57tUedUHNR</td>\n",
       "      <td>12</td>\n",
       "      <td>46</td>\n",
       "      <td>Fuck Love</td>\n",
       "      <td>2.659817</td>\n",
       "      <td>1.866917</td>\n",
       "      <td>4</td>\n",
       "      <td>1</td>\n",
       "      <td>0.587</td>\n",
       "      <td>1</td>\n",
       "      <td>0.00453</td>\n",
       "      <td>0.829</td>\n",
       "      <td>0.949</td>\n",
       "      <td>0.000075</td>\n",
       "      <td>0.3250</td>\n",
       "      <td>-0.2627</td>\n",
       "      <td>0.0690</td>\n",
       "      <td>0.500000</td>\n",
       "      <td>12</td>\n",
       "      <td>False</td>\n",
       "    </tr>\n",
       "  </tbody>\n",
       "</table>\n",
       "</div>"
      ],
      "text/plain": [
       "                        id  track_number  popularity                   name  \\\n",
       "0   7rxxROM7x948jnVwD0ORVN             1          38          Walk The Line   \n",
       "1   4m2k8jQNbNsAINiip5qKSN             2          36       Don't Need Y'all   \n",
       "2   598B7nC3ukFWx5eqv1Ft6i             3          33                    100   \n",
       "3   4gbfxlzThi6Hi0KnV1wH4t             4          46       Change Your Life   \n",
       "4   3H9DlQEsjB0whMWy9g4MCX             5          43                  Fancy   \n",
       "5   5CRZfDIaFlVMW61WzW2qVu             6          41              New Bitch   \n",
       "6   3yx6eryOZgO54bt3B671cn             7          58                   Work   \n",
       "7   0wjP81vqcXgjkCZDdIdwoL             8          36  Impossible Is Nothing   \n",
       "8   7cwxv3nrySXbOoXr9Xl2F3             9          37                Goddess   \n",
       "9   7pNC5ZIKtwUK0ReSpM3P9f            10          66            Black Widow   \n",
       "10  538KWiWJHJ2FgJu0ndaANF            11          35             Lady Patra   \n",
       "11  5lcqxNUw7TJE57tUedUHNR            12          46              Fuck Love   \n",
       "\n",
       "    duration_ms     tempo  time_signature  key  valence  mode  acousticness  \\\n",
       "0      3.641350  1.247633               4    7    0.751     1       0.27000   \n",
       "1      3.550267  1.899200               4    4    0.429     0       0.56400   \n",
       "2      4.161933  2.499350               4    2    0.574     1       0.01100   \n",
       "3      3.679150  2.199633               4    6    0.688     0       0.02080   \n",
       "4      3.332300  1.582900               4   10    0.374     0       0.10700   \n",
       "5      3.630783  2.233050               4    8    0.358     1       0.02700   \n",
       "6      3.719950  2.333550               4    7    0.443     1       0.06040   \n",
       "7      3.175500  1.291100               4    9    0.382     1       0.15600   \n",
       "8      3.166950  2.289950               5    1    0.610     1       0.08170   \n",
       "9      3.490383  2.733183               4    3    0.527     0       0.18100   \n",
       "10     3.940483  1.291967               4    8    0.562     1       0.02600   \n",
       "11     2.659817  1.866917               4    1    0.587     1       0.00453   \n",
       "\n",
       "    danceability  energy  instrumentalness  liveness  loudness  speechiness  \\\n",
       "0          0.515   0.904          0.000000    0.2800   -0.6103       0.3020   \n",
       "1          0.798   0.678          0.000013    0.1450   -0.5341       0.2380   \n",
       "2          0.775   0.714          0.000002    0.0753   -0.5307       0.0566   \n",
       "3          0.678   0.763          0.000000    0.1170   -0.5590       0.2080   \n",
       "4          0.911   0.710          0.000000    0.0490   -0.4137       0.0697   \n",
       "5          0.583   0.742          0.000000    0.2320   -0.5711       0.1720   \n",
       "6          0.697   0.808          0.000000    0.4350   -0.4928       0.1550   \n",
       "7          0.665   0.602          0.000000    0.1110   -0.6656       0.0596   \n",
       "8          0.516   0.748          0.000003    0.1290   -0.4519       0.3090   \n",
       "9          0.741   0.726          0.000189    0.1110   -0.3770       0.1430   \n",
       "10         0.694   0.809          0.000000    0.3020   -0.5085       0.1780   \n",
       "11         0.829   0.949          0.000075    0.3250   -0.2627       0.0690   \n",
       "\n",
       "    ordering  total_tracks  label  \n",
       "0  -0.500000            12  False  \n",
       "1  -0.409091            12  False  \n",
       "2  -0.318182            12  False  \n",
       "3  -0.227273            12  False  \n",
       "4  -0.136364            12  False  \n",
       "5  -0.045455            12  False  \n",
       "6   0.045455            12  False  \n",
       "7   0.136364            12  False  \n",
       "8   0.227273            12  False  \n",
       "9   0.318182            12   True  \n",
       "10  0.409091            12  False  \n",
       "11  0.500000            12  False  "
      ]
     },
     "execution_count": 33,
     "metadata": {},
     "output_type": "execute_result"
    }
   ],
   "source": [
    "a.tracks_df"
   ]
  }
 ],
 "metadata": {
  "kernelspec": {
   "display_name": "Python 3",
   "language": "python",
   "name": "python3"
  },
  "language_info": {
   "codemirror_mode": {
    "name": "ipython",
    "version": 3
   },
   "file_extension": ".py",
   "mimetype": "text/x-python",
   "name": "python",
   "nbconvert_exporter": "python",
   "pygments_lexer": "ipython3",
   "version": "3.6.5"
  }
 },
 "nbformat": 4,
 "nbformat_minor": 2
}
