{
 "cells": [
  {
   "cell_type": "code",
   "execution_count": 5,
   "metadata": {},
   "outputs": [],
   "source": [
    "import dill\n",
    "import simplejson as json\n",
    "import pandas as pd\n",
    "import numpy as np\n",
    "from sklearn.model_selection import train_test_split\n",
    "from sklearn.metrics import precision_score"
   ]
  },
  {
   "cell_type": "code",
   "execution_count": 163,
   "metadata": {},
   "outputs": [],
   "source": [
    "grid_search = dill.load(open('modelnew.pkd', 'rb'))"
   ]
  },
  {
   "cell_type": "code",
   "execution_count": 7,
   "metadata": {},
   "outputs": [],
   "source": [
    "from sklearn.preprocessing import PolynomialFeatures, MinMaxScaler\n",
    "\n",
    "class Album(object):\n",
    "    def __init__(self, album_json):\n",
    "        self.id, self.name, self.genres, self.popularity, self.total_tracks, self.artists_list = [album_json[k] for k in ['id', 'name', 'genres', 'popularity', 'total_tracks', 'artists_list']]\n",
    "        self.tracks_df = pd.read_json(album_json['tracks_info'], orient='split')\n",
    "\n",
    "    def unit_transf(self):\n",
    "        self.tracks_df['tempo'] = self.tracks_df['tempo'] / 60\n",
    "        self.tracks_df['duration_ms'] = self.tracks_df['duration_ms'] / 1000 / 60\n",
    "        self.tracks_df['loudness'] = self.tracks_df['loudness'] / 10\n",
    "        self.tracks_df['ordering'] = MinMaxScaler().fit_transform(self.tracks_df['track_number'].values.reshape(-1,1)) - 0.5\n",
    "        self.tracks_df['total_tracks'] = self.total_tracks\n",
    "        \n",
    "    def classification_label(self):\n",
    "        self.tracks_df['label'] = self.tracks_df['popularity'] >= self.popularity\n",
    "        return self.tracks_df['label'].values\n",
    "        \n",
    "    def train_X_y(self):\n",
    "        self.unit_transf()        \n",
    "        X = self.tracks_df[['mode', 'tempo', 'duration_ms', 'ordering', 'acousticness', 'danceability', 'energy', 'liveness', 'speechiness','valence']].values\n",
    "        \n",
    "        poly = PolynomialFeatures(2, interaction_only=True)\n",
    "        X_order2 = poly.fit_transform(X)\n",
    "        self.features = poly.get_feature_names(input_features=['mode', 'tempo', 'duration_ms', 'ordering', 'acousticness', 'danceability', 'energy', 'liveness', 'speechiness','valence'])\n",
    "        \n",
    "        y = self.classification_label()\n",
    "#         return X, y\n",
    "        return X_order2, y"
   ]
  },
  {
   "cell_type": "code",
   "execution_count": 14,
   "metadata": {},
   "outputs": [],
   "source": [
    "def load_files(year):\n",
    "\n",
    "    with open(\"best_seller_albums_v3_year_\" + str(year)) as json_file:  \n",
    "        best_seller_albums_data = json.load(json_file)\n",
    "        best_seller_albums_albums = [Album(d) for d in best_seller_albums_data]\n",
    "\n",
    "    with open(\"top_songs_albums_v3_year_\" + str(year)) as json_file:  \n",
    "        top_songs_albums_data = json.load(json_file)\n",
    "        top_songs_albums_albums = [Album(d) for d in top_songs_albums_data]\n",
    "\n",
    "    return best_seller_albums_albums, top_songs_albums_albums\n"
   ]
  },
  {
   "cell_type": "code",
   "execution_count": 15,
   "metadata": {},
   "outputs": [],
   "source": [
    "train_list = []\n",
    "for year in range(14,19):    \n",
    "    album_list, song_list = load_files('20' + str(year))\n",
    "    train_list += (album_list + song_list)"
   ]
  },
  {
   "cell_type": "code",
   "execution_count": 16,
   "metadata": {},
   "outputs": [],
   "source": [
    "X_ls, y_ls = list(zip(*[a.train_X_y() for a in train_list]))\n",
    "X = np.vstack(X_ls)\n",
    "y = np.hstack(y_ls)\n",
    "X_train, X_test, y_train, y_test = train_test_split(X, y, test_size=0.33, random_state=42)"
   ]
  },
  {
   "cell_type": "code",
   "execution_count": 159,
   "metadata": {},
   "outputs": [
    {
     "name": "stdout",
     "output_type": "stream",
     "text": [
      "total number of data points in the training set: 5879\n",
      "the number points in the positive class: 518\n"
     ]
    }
   ],
   "source": [
    "print('total number of data points in the training set: {}'.format(len(y_train)))\n",
    "print('the number points in the positive class: {}'.format(np.count_nonzero(y_train)))"
   ]
  },
  {
   "cell_type": "code",
   "execution_count": 157,
   "metadata": {},
   "outputs": [],
   "source": [
    "positive_class_indices = list(np.arange(len(y_train))[y_train])\n",
    "negative_class_indices = list(np.arange(len(y_train))[y_train==False])\n",
    "\n",
    "a = train_list[0]\n",
    "ordering_index = a.features.index('ordering')\n",
    "ordering = X_train[:,ordering_index]"
   ]
  },
  {
   "cell_type": "code",
   "execution_count": 148,
   "metadata": {},
   "outputs": [
    {
     "data": {
      "image/png": "[encoded data removed]",
      "text/plain": [
       "<Figure size 864x288 with 2 Axes>"
      ]
     },
     "metadata": {
      "needs_background": "light"
     },
     "output_type": "display_data"
    }
   ],
   "source": [
    "import matplotlib.pyplot as plt\n",
    "\n",
    "plt.figure(figsize=(12,4))\n",
    "\n",
    "plt.subplot(121)\n",
    "p_n, p_bins, p_patches = plt.hist(ordering[positive_class_indices], 10)\n",
    "plt.xlabel('Ordering')\n",
    "plt.ylabel('Counts')\n",
    "plt.title('Positive Class')\n",
    "plt.grid(True)\n",
    "\n",
    "plt.subplot(122)\n",
    "n_n, n_bins, n_patches = plt.hist(ordering[negative_class_indices], 10)\n",
    "plt.xlabel('Ordering')\n",
    "plt.ylabel('Counts')\n",
    "plt.title('Negative Class')\n",
    "plt.grid(True)\n",
    "\n",
    "plt.show()"
   ]
  },
  {
   "cell_type": "code",
   "execution_count": 151,
   "metadata": {},
   "outputs": [
    {
     "data": {
      "image/png": "[encoded data removed]",
      "text/plain": [
       "<Figure size 432x288 with 1 Axes>"
      ]
     },
     "metadata": {
      "needs_background": "light"
     },
     "output_type": "display_data"
    }
   ],
   "source": [
    "ordering_numeric = [(p_bins[i] + p_bins[i+1])/2 for i in range(len(p_n))]\n",
    "plt.plot(ordering_numeric , p_n / (p_n + n_n), 'ro')\n",
    "plt.xlabel('Ordering')\n",
    "plt.ylabel('Probability')\n",
    "plt.title('Probability of being in the positive class for a given ordering (10 bins)')\n",
    "plt.show()"
   ]
  },
  {
   "cell_type": "code",
   "execution_count": 184,
   "metadata": {},
   "outputs": [
    {
     "name": "stdout",
     "output_type": "stream",
     "text": [
      "While the overall probability of being in the positive class is 0.08811022282701139, the first four ordering indices would all perform better than the average. Note that there are two local maxima, and it is interesting to note that the second local maximum, -0.24999999999999994, is close to the mean of the ordering of the positive cases.\n"
     ]
    }
   ],
   "source": [
    "print('While the overall probability of being in the positive class is {}, the first four ordering indices would all perform better than the average. '\\\n",
    "      'Note that there are two local maxima, and it is interesting to note that the second local maximum, {}, is close to the mean of the ordering of the positive cases.'\n",
    "      .format(np.count_nonzero(y_train)/len(y_train), ordering_numeric[2]))"
   ]
  },
  {
   "cell_type": "code",
   "execution_count": 164,
   "metadata": {},
   "outputs": [
    {
     "name": "stdout",
     "output_type": "stream",
     "text": [
      "mean of the ordering of the positive cases: -0.22157971324993633\n",
      "standard deviation: 0.27795704673183347\n"
     ]
    }
   ],
   "source": [
    "print('mean of the ordering of the positive cases: {}'.format(np.mean(ordering[positive_class_indices])))\n",
    "print('standard deviation: {}'.format(np.std(ordering[positive_class_indices])))"
   ]
  }
 ],
 "metadata": {
  "kernelspec": {
   "display_name": "Python 3",
   "language": "python",
   "name": "python3"
  },
  "language_info": {
   "codemirror_mode": {
    "name": "ipython",
    "version": 3
   },
   "file_extension": ".py",
   "mimetype": "text/x-python",
   "name": "python",
   "nbconvert_exporter": "python",
   "pygments_lexer": "ipython3",
   "version": "3.7.3"
  }
 },
 "nbformat": 4,
 "nbformat_minor": 2
}
