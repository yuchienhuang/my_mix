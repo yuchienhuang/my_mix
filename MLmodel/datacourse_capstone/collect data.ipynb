{
 "cells": [
  {
   "cell_type": "code",
   "execution_count": 1,
   "metadata": {},
   "outputs": [],
   "source": [
    "import simplejson as json\n",
    "import requests"
   ]
  },
  {
   "cell_type": "code",
   "execution_count": 2,
   "metadata": {},
   "outputs": [],
   "source": [
    "import sys"
   ]
  },
  {
   "cell_type": "code",
   "execution_count": 6,
   "metadata": {},
   "outputs": [],
   "source": [
    "import spotipy"
   ]
  },
  {
   "cell_type": "code",
   "execution_count": 7,
   "metadata": {},
   "outputs": [],
   "source": [
    "from spotipy.oauth2 import SpotifyClientCredentials"
   ]
  },
  {
   "cell_type": "code",
   "execution_count": 8,
   "metadata": {},
   "outputs": [],
   "source": [
    "client_credentials_manager = spotipy.oauth2.SpotifyClientCredentials('d6967ce2057448d4aab3ad9898119c97',  'ad7f82cc26a64f1595b6b3c4cd917243')\n",
    "spotify = spotipy.Spotify(client_credentials_manager=client_credentials_manager)"
   ]
  },
  {
   "cell_type": "code",
   "execution_count": 9,
   "metadata": {},
   "outputs": [],
   "source": [
    "import pandas as pd\n",
    "import numpy as np"
   ]
  },
  {
   "cell_type": "code",
   "execution_count": 819,
   "metadata": {},
   "outputs": [
    {
     "data": {
      "text/plain": [
       "[<td><a href=\"/charts/top-album-sales/2018-01-03\">January 3</a></td>,\n",
       " <td>Revival</td>,\n",
       " <td>Eminem</td>]"
      ]
     },
     "execution_count": 819,
     "metadata": {},
     "output_type": "execute_result"
    }
   ],
   "source": [
    "table[0].findAll('td')"
   ]
  },
  {
   "cell_type": "code",
   "execution_count": 814,
   "metadata": {},
   "outputs": [
    {
     "data": {
      "text/plain": [
       "[<td><a href=\"/charts/top-album-sales/2018-01-03\">January 3</a></td>,\n",
       " <td>Revival</td>,\n",
       " <td>Eminem</td>]"
      ]
     },
     "execution_count": 814,
     "metadata": {},
     "output_type": "execute_result"
    }
   ],
   "source": [
    "table.findAll(\"tr\")[1].findAll('td')"
   ]
  },
  {
   "cell_type": "code",
   "execution_count": 831,
   "metadata": {},
   "outputs": [],
   "source": [
    "response = requests.get(\"https://www.billboard.com/archive/charts/2018/top-album-sales\")\n",
    "soup = BeautifulSoup(response.text, \"lxml\")\n",
    "table = soup.find('table',attrs={'class':'archive-table'}).findAll('tr')[1:]\n",
    "\n",
    "rows=[]\n",
    "for tr in table:\n",
    "    td = tr.findAll('td')\n",
    "    try:\n",
    "        rows.append((td[-2].get_text(),td[-1].get_text()))\n",
    "    except:\n",
    "        pass\n",
    "\n",
    "#     rows.append((album.get_text(),artist.get_text()))\n",
    "    \n"
   ]
  },
  {
   "cell_type": "code",
   "execution_count": 93,
   "metadata": {},
   "outputs": [
    {
     "data": {
      "text/plain": [
       "12"
      ]
     },
     "execution_count": 93,
     "metadata": {},
     "output_type": "execute_result"
    }
   ],
   "source": [
    "spotify.album('1M4anG49aEs4YimBdj96Oy')['total_tracks']"
   ]
  },
  {
   "cell_type": "code",
   "execution_count": 107,
   "metadata": {},
   "outputs": [
    {
     "data": {
      "text/plain": [
       "dict_keys(['album', 'artists', 'available_markets', 'disc_number', 'duration_ms', 'explicit', 'external_ids', 'external_urls', 'href', 'id', 'is_local', 'name', 'popularity', 'preview_url', 'track_number', 'type', 'uri'])"
      ]
     },
     "execution_count": 107,
     "metadata": {},
     "output_type": "execute_result"
    }
   ],
   "source": [
    "spotify.track('21aMSP1Q1qKpixpgXaalAS').keys()"
   ]
  },
  {
   "cell_type": "code",
   "execution_count": 242,
   "metadata": {},
   "outputs": [
    {
     "data": {
      "text/plain": [
       "'÷ (Deluxe)'"
      ]
     },
     "execution_count": 242,
     "metadata": {},
     "output_type": "execute_result"
    }
   ],
   "source": [
    "spotify.search(r'shape of you')['tracks']['items'][0]['album']['name']"
   ]
  },
  {
   "cell_type": "code",
   "execution_count": 640,
   "metadata": {},
   "outputs": [
    {
     "data": {
      "text/plain": [
       "[(\"I'm The One\", 'DJ Khaled'),\n",
       " (\"There's Nothing Holdin' Me Back\", 'Shawn Mendes'),\n",
       " ('Bodak Yellow (Money Moves)', 'Cardi B'),\n",
       " (\"It Ain't Me\", 'Kygo x Selena Gomez'),\n",
       " ('Bad Things', 'Machine Gun Kelly x Camila Cabello'),\n",
       " (\"Can't Stop The Feeling!\", 'Justin Timberlake'),\n",
       " ('Broccoli', 'D.R.A.M.')]"
      ]
     },
     "execution_count": 640,
     "metadata": {},
     "output_type": "execute_result"
    }
   ],
   "source": [
    "invalid_q"
   ]
  },
  {
   "cell_type": "code",
   "execution_count": 670,
   "metadata": {},
   "outputs": [
    {
     "data": {
      "text/plain": [
       "'Bodak Yellow (Money Moves)'"
      ]
     },
     "execution_count": 670,
     "metadata": {},
     "output_type": "execute_result"
    }
   ],
   "source": [
    "spotify.search('Bodak Yellow (Money Moves) Cardi B')['tracks']['items'][0]['name']"
   ]
  },
  {
   "cell_type": "code",
   "execution_count": 616,
   "metadata": {},
   "outputs": [
    {
     "name": "stdout",
     "output_type": "stream",
     "text": [
      "Blitzy Cobain\n"
     ]
    }
   ],
   "source": [
    "for e in spotify.search('track:Bad And Boujee')['tracks']['items'][4]['artists']:\n",
    "    print(e['name'])"
   ]
  },
  {
   "cell_type": "code",
   "execution_count": 626,
   "metadata": {},
   "outputs": [
    {
     "name": "stdout",
     "output_type": "stream",
     "text": [
      "Luis Fonsi\n",
      "Daddy Yankee\n"
     ]
    }
   ],
   "source": [
    "for e in spotify.search('album:Despacito artist:Luis Fonsi & Daddy Yankee',type='album')['albums']['items'][0]['artists']:\n",
    "    print(e['name'])"
   ]
  },
  {
   "cell_type": "code",
   "execution_count": 391,
   "metadata": {},
   "outputs": [
    {
     "data": {
      "text/plain": [
       "1"
      ]
     },
     "execution_count": 391,
     "metadata": {},
     "output_type": "execute_result"
    }
   ],
   "source": [
    "len(spotify.search(r'album:arrival artist:abba',type='album')['albums']['items'])"
   ]
  },
  {
   "cell_type": "code",
   "execution_count": 681,
   "metadata": {},
   "outputs": [
    {
     "data": {
      "text/plain": [
       "'Kygo Selena Gomez'"
      ]
     },
     "execution_count": 681,
     "metadata": {},
     "output_type": "execute_result"
    }
   ],
   "source": [
    "' '.join('Kygo x Selena Gomez'.split(' x '))"
   ]
  },
  {
   "cell_type": "code",
   "execution_count": 347,
   "metadata": {},
   "outputs": [],
   "source": [
    "import requests\n",
    "import dill\n",
    "from bs4 import BeautifulSoup\n",
    "from datetime import datetime\n",
    "import simplejson as json\n",
    "import pandas as pd\n",
    "import numpy as np\n",
    "from urllib.parse import quote\n",
    "from urllib.request import urlopen"
   ]
  },
  {
   "cell_type": "code",
   "execution_count": 764,
   "metadata": {},
   "outputs": [],
   "source": [
    "def strip_Feat(artists):\n",
    "    pos = artists.find('Featuring')\n",
    "    if pos == -1:\n",
    "        return artists\n",
    "    else:\n",
    "        return artists[:pos].strip()\n",
    "    \n",
    "def get_track_artists(path, domain = 'https://www.billboard.com/'):\n",
    "    response = requests.get(domain + path)\n",
    "    soup = BeautifulSoup(response.text, \"lxml\")\n",
    "\n",
    "    parents = soup.findAll(class_=r'ye-chart-item__text')\n",
    "\n",
    "    track_artists = []\n",
    "    for parent in parents:\n",
    "        track = parent.find('div',attrs={'class':'ye-chart-item__title'}).get_text().strip()\n",
    "        artists = parent.find('div',attrs={'class':'ye-chart-item__artist'}).get_text().strip()\n",
    "        track_artists.append((track, artists))\n",
    "    return track_artists\n",
    "\n",
    "def get_album_id_from_track(track, artists):\n",
    "    try:\n",
    "        q = 'track:' + track + ' artist:' + artists\n",
    "        result = spotify.search(q)\n",
    "        the_first_album = result['tracks']['items'][0]['album']\n",
    "        album_id = the_first_album.get('id')\n",
    "        return album_id\n",
    "    except:\n",
    "        try:\n",
    "            artists = ' '.join(artists.split(' x '))\n",
    "            artists = ' '.join(artists.split(' X '))\n",
    "            q = track + ' ' + artists\n",
    "            result = spotify.search(q)\n",
    "            the_first_album = result['tracks']['items'][0]['album']\n",
    "            album_id = the_first_album.get('id')\n",
    "            return album_id\n",
    "        except:\n",
    "            return track, artists\n",
    "\n",
    "def get_album_id_from_album(album, artists):\n",
    "    try:\n",
    "        q = 'album:' + album + ' artist:' + artists\n",
    "        result = spotify.search(q, type='album')\n",
    "        the_first_album = result['albums']['items'][0]\n",
    "        album_id = the_first_album.get('id')\n",
    "        return album_id\n",
    "    except:\n",
    "        \n",
    "        print('no album id found')\n",
    "        return track, artists\n",
    "\n",
    "def get_albums_id_list_from_top100_songs(year):\n",
    "    url = 'charts/year-end/' + str(year) + '/hot-100-songs'\n",
    "    track_artists = get_track_artists(url)\n",
    "\n",
    "    albums_id = []\n",
    "    for track, artists in track_artists:\n",
    "        albums_id.append(get_album_id_from_track(track,strip_Feat(artists)))\n",
    "    return albums_id\n",
    "    "
   ]
  },
  {
   "cell_type": "code",
   "execution_count": 573,
   "metadata": {},
   "outputs": [
    {
     "data": {
      "text/plain": [
       "'3T4tUhGYeRNVUGevb0wThu'"
      ]
     },
     "execution_count": 573,
     "metadata": {},
     "output_type": "execute_result"
    }
   ],
   "source": [
    "get_album_id_from_track('Shape Of You','Ed Sheeran')"
   ]
  },
  {
   "cell_type": "code",
   "execution_count": 639,
   "metadata": {},
   "outputs": [],
   "source": [
    "invalid_q = [t for t in track_artists if type(t) == tuple]"
   ]
  },
  {
   "cell_type": "code",
   "execution_count": 702,
   "metadata": {},
   "outputs": [
    {
     "data": {
      "text/plain": [
       "[(\"I'm The One\", 'DJ Khaled'),\n",
       " (\"There's Nothing Holdin' Me Back\", 'Shawn Mendes'),\n",
       " ('Bodak Yellow (Money Moves)', 'Cardi B'),\n",
       " (\"It Ain't Me\", 'Kygo x Selena Gomez'),\n",
       " ('Bad Things', 'Machine Gun Kelly x Camila Cabello'),\n",
       " (\"Can't Stop The Feeling!\", 'Justin Timberlake'),\n",
       " ('Broccoli', 'D.R.A.M.')]"
      ]
     },
     "execution_count": 702,
     "metadata": {},
     "output_type": "execute_result"
    }
   ],
   "source": [
    "invalid_q"
   ]
  },
  {
   "cell_type": "code",
   "execution_count": 703,
   "metadata": {},
   "outputs": [
    {
     "data": {
      "text/plain": [
       "'3HhZbSJdhOqMSaRbEt3gtw'"
      ]
     },
     "execution_count": 703,
     "metadata": {},
     "output_type": "execute_result"
    }
   ],
   "source": [
    "get_album_id_from_track(\"I'm The One\", 'DJ Khaled')"
   ]
  },
  {
   "cell_type": "code",
   "execution_count": 733,
   "metadata": {},
   "outputs": [
    {
     "data": {
      "text/plain": [
       "{'id': '3HhZbSJdhOqMSaRbEt3gtw',\n",
       " 'name': 'Grateful',\n",
       " 'genres': [],\n",
       " 'popularity': 68,\n",
       " 'total_tracks': 23,\n",
       " 'artists_list': ['DJ Khaled'],\n",
       " 'tracks_info': '{\"columns\":[\"id\",\"track_number\",\"popularity\",\"name\",\"duration_ms\",\"tempo\",\"time_signature\",\"key\",\"valence\",\"mode\",\"acousticness\",\"danceability\",\"energy\",\"instrumentalness\",\"liveness\",\"loudness\",\"speechiness\"],\"index\":[0,1,2,3,4,5,6,7,8,9,10,11,12,13,14,15,16,17,18,19,20,21,22],\"data\":[[\"7jVCxMS6dYUagRMVYv9Dah\",1,33,\"(Intro) I\\'m so Grateful (feat. Sizzla)\",298653,161.985,4,6,0.314,0,0.456,0.355,0.869,0.0,0.257,-6.459,0.702],[\"7Fa5UNizycSms5jP3SQD3F\",2,59,\"Shining (feat. Beyonc\\\\u00e9 & Jay-Z)\",284000,112.001,4,2,0.575,0,0.053,0.768,0.807,0.00000299,0.214,-5.508,0.106],[\"2of5xn0GU0TdFneR1saRLH\",3,55,\"To the Max\",193902,159.869,4,10,0.72,0,0.0184,0.461,0.812,0.000375,0.21,-5.776,0.241],[\"45XhKYRRkyeqoW3teSOkCM\",4,71,\"Wild Thoughts (feat. Rihanna & Bryson Tiller)\",204664,97.621,4,8,0.619,1,0.0287,0.613,0.681,0.0,0.126,-3.089,0.0778],[\"1jYiIOC5d6soxkJP81fxq2\",5,74,\"I\\'m the One (feat. Justin Bieber, Quavo, Chance the Rapper & Lil Wayne)\",288877,80.984,4,7,0.817,1,0.0533,0.599,0.667,0.0,0.134,-4.267,0.0367],[\"7lxZbmtC6SkUc2yXBgDOdO\",6,47,\"On Everything (feat. Travis Scott, Rick Ross & Big Sean)\",233293,168.22,4,1,0.267,1,0.0232,0.542,0.755,0.0,0.225,-3.68,0.0614],[\"56uTIyBsxLQIYgF765A2aM\",7,41,\"It\\'s Secured (feat. Nas & Travis Scott)\",219093,162.038,4,5,0.601,0,0.0397,0.511,0.852,0.0,0.665,-2.886,0.301],[\"76orv33nqMD5Cw1jZfuvEl\",8,30,\"Interlude (Hallelujah)\",52000,86.764,4,9,0.701,1,0.769,0.552,0.356,0.0,0.263,-5.512,0.301],[\"3M2ONLc0fOcM7Y0SvRwTCL\",9,37,\"Nobody (feat. Alicia Keys & Nicki Minaj)\",271227,89.392,4,2,0.57,0,0.371,0.507,0.893,0.0,0.914,-3.611,0.3],[\"6DxqrwlrHERRkUw9yXIGjd\",10,40,\"I Love You so Much (feat. Chance the Rapper)\",290413,103.016,4,0,0.503,0,0.0209,0.381,0.894,0.0,0.214,-4.192,0.331],[\"6LOCAhFzZiavHcLJucLuDy\",11,53,\"Don\\'t Quit (feat. Travis Scott & Jeremih)\",229147,100.011,4,7,0.659,0,0.015,0.652,0.827,0.0,0.432,-3.98,0.0445],[\"2G60ShHRZZhqxSKbZTWdOh\",12,40,\"I Can\\'t Even Lie (feat. Future & Nicki Minaj)\",241613,120.079,4,2,0.226,1,0.0269,0.671,0.62,0.00000321,0.189,-6.092,0.0536],[\"6CwTHNCzgkq41m11iPpzsf\",13,41,\"Down for Life (feat. PARTYNEXTDOOR, Future, Travis Scott, Rick Ross & Kodak Black)\",300280,139.911,4,1,0.66,1,0.342,0.611,0.786,0.0,0.0877,-2.417,0.272],[\"5ndHl6BMrihdTqvT6Exhln\",14,42,\"Major Bag Alert (feat. Migos)\",297467,138.015,4,9,0.135,1,0.0165,0.804,0.667,0.0,0.215,-4.738,0.0372],[\"5DRgbbdTpvqOe9QwhpFV6S\",15,41,\"Good Man (feat. Pusha T & Jadakiss)\",218720,97.883,4,0,0.368,0,0.0168,0.479,0.785,0.000165,0.622,-7.169,0.421],[\"6AahQ5P0KbDLt702Fm1VHR\",16,33,\"Billy Ocean (feat. Fat Joe & Raekwon)\",191373,90.996,4,7,0.38,1,0.0406,0.684,0.793,0.0,0.315,-5.282,0.328],[\"49rmaKoHG4RbmX4bWBy1mS\",17,43,\"Pull a Caper (feat. Kodak Black, Gucci Mane & Rick Ross)\",246520,60.082,4,1,0.137,1,0.25,0.615,0.546,0.0,0.0939,-6.153,0.146],[\"6riQuAkwS7qaOLkcCnyiJ4\",18,40,\"That Range Rover Came With Steps (feat. Future & Yo Gotti)\",256520,83.267,4,1,0.268,0,0.0882,0.615,0.683,0.0,0.059,-5.328,0.279],[\"2ClE3QfsNx9p0zjPKxmUYq\",19,44,\"Iced Out My Arms (feat. Future, Migos, 21 Savage & T.I.)\",275533,140.04,4,11,0.323,1,0.022,0.854,0.609,0.0,0.134,-6.363,0.254],[\"1fkMGqxmsofVygRqah5OuK\",20,37,\"Whatever (feat. Future, Young Thug, Rick Ross & 2 Chainz)\",299613,130.101,4,6,0.489,0,0.0281,0.768,0.7,0.0,0.442,-3.395,0.306],[\"3kbfu7mnxlgRevIbRhwVKy\",21,34,\"Interlude\",138453,79.092,4,1,0.353,1,0.0962,0.672,0.871,0.0,0.283,-5.116,0.312],[\"5uAJd5tmB7fA7VL4cxdFPS\",22,32,\"Unchanging Love\",207147,77.534,4,0,0.371,1,0.331,0.582,0.637,0.0,0.155,-5.004,0.0521],[\"1MzPFGxfevuceGn4cHESQl\",23,0,\"Asahd Talk (Thank You Asahd)\",16013,64.146,1,6,0.0,1,0.729,0.667,0.23,0.0,0.798,-12.937,0.951]]}'}"
      ]
     },
     "execution_count": 733,
     "metadata": {},
     "output_type": "execute_result"
    }
   ],
   "source": [
    "album_json(spotify.album('3HhZbSJdhOqMSaRbEt3gtw'))\n"
   ]
  },
  {
   "cell_type": "code",
   "execution_count": 709,
   "metadata": {},
   "outputs": [
    {
     "data": {
      "text/plain": [
       "[{'external_urls': {'spotify': 'https://open.spotify.com/artist/0QHgL1lAIqAw0HtD7YldmP'},\n",
       "  'href': 'https://api.spotify.com/v1/artists/0QHgL1lAIqAw0HtD7YldmP',\n",
       "  'id': '0QHgL1lAIqAw0HtD7YldmP',\n",
       "  'name': 'DJ Khaled',\n",
       "  'type': 'artist',\n",
       "  'uri': 'spotify:artist:0QHgL1lAIqAw0HtD7YldmP'}]"
      ]
     },
     "execution_count": 709,
     "metadata": {},
     "output_type": "execute_result"
    }
   ],
   "source": [
    "artists"
   ]
  },
  {
   "cell_type": "code",
   "execution_count": 700,
   "metadata": {},
   "outputs": [],
   "source": [
    "albums_id_list = get_albums_id_list_from_top100_songs(2017)"
   ]
  },
  {
   "cell_type": "code",
   "execution_count": 701,
   "metadata": {},
   "outputs": [
    {
     "data": {
      "text/plain": [
       "['3T4tUhGYeRNVUGevb0wThu',\n",
       " '3Gq2Dme9nesdgoqNNlcN8O',\n",
       " '2x7pNYipWSrkKUnjzP9GhN',\n",
       " '4eLPsYPBmXABThSJ821sqY',\n",
       " '7IzpJkWQqgz1BTutQvSitX',\n",
       " '2AvupjUeMnSffKEV05x222',\n",
       " '0rSLgV8p5FzfnqlEk4GzxE',\n",
       " '2N7kidh1wA9EoLdf16QWrz',\n",
       " '33pt9HBdGlAbRGBHQgsZsU',\n",
       " '5s0rmjP8XOPhP6HhqOhuyC',\n",
       " '7oiJYvEJHsmYtrgviAVIBD',\n",
       " '3HhZbSJdhOqMSaRbEt3gtw',\n",
       " '733e1ZfktLSwj96X5rsMeE',\n",
       " '17FBoXK1NU2rvJBbzdzw0r',\n",
       " '4c2p3TdN7NcQfCXyueCNnC',\n",
       " '4PgleR09JVnm3zY1fW3XBA',\n",
       " '1I4W7JKzYbl8VKRfD61DIS',\n",
       " '3HhZbSJdhOqMSaRbEt3gtw',\n",
       " '5v6iBhIlflzR9rEd1LAMbd',\n",
       " '2ODvWsOgouMbaA5xf0RkJe',\n",
       " '6kf46HbnYCZzP6rjvQHYzg',\n",
       " '0mZIUXje90JtHxPNzWsJNR',\n",
       " '3wBabo4pmzsYjALMSKY7Iq',\n",
       " '4vqBWMIOx7gLfYKFSbl7XS',\n",
       " '4Carzsnpd6yvuHZ49I0oz8',\n",
       " '1MPAXuTVL2Ej5x0JHiSPq8',\n",
       " '4VNy5ifZtW3E9SgffbGEti',\n",
       " '15qLmAABocTCRBSbWWqL7K',\n",
       " '1qyjZGIeeLJlXbYWuoloWj',\n",
       " '3rDbA12I5duZnlwakqDdZa',\n",
       " '1HiN2YXZcc3EjmVZ4WjfBk',\n",
       " '7ahctQBwcSxDdP0fRAPo2p',\n",
       " '3Q149ZH46Z0f3oDR7vlDYV',\n",
       " '2ODvWsOgouMbaA5xf0RkJe',\n",
       " '0XAIjjN5qxViVS0Y5fYkar',\n",
       " '4PrFFsJ2WAD46IXNdfx2dx',\n",
       " '1lXY618HWkwYKJWBRYR4MK',\n",
       " '76VdNRQeuaEkFz5Sp160NV',\n",
       " '1Hrs3jLGexOvBoaPMoOQYJ',\n",
       " '3T4tUhGYeRNVUGevb0wThu',\n",
       " '3yWRq9Dd2UO5xyqxTjLDmp',\n",
       " '64vx3cUb97lQGlgt8zozWL',\n",
       " '3OZgEywV4krCZ814pTJWr7',\n",
       " '3meZFplbMmji648oWUNEfQ',\n",
       " '4VzzEviJGYUtAeSsJlI9QB',\n",
       " '02sEJTj1sye1JaqxqpcSCp',\n",
       " '1MI6gNg0plcEOgs8aezsjH',\n",
       " '4QUNWTw2FsIz722xjUjFJw',\n",
       " '65ayND23IInUPHJKsaAqe7',\n",
       " '1ZJtkYBzRb7drznu3UYb3k',\n",
       " '33pt9HBdGlAbRGBHQgsZsU',\n",
       " '2AvupjUeMnSffKEV05x222',\n",
       " '1tSsb3t0pqVVONvBJivoT9',\n",
       " '3wBabo4pmzsYjALMSKY7Iq',\n",
       " '5mG8oNkNKM2my7t9ywra96',\n",
       " '6trNtQUgC8cgbWcqoMYkOR',\n",
       " '6MTPPsqX8KnmDWmnQmbxJ5',\n",
       " '3J8W9AOjQhnBLCX33m3atT',\n",
       " '7GjG91tyHQNGEHzKJaqOi0',\n",
       " '3lajefIuUk4SfzqVBSJy8p',\n",
       " '1bHj528aZfYOKq0ve5AHMr',\n",
       " '4eLPsYPBmXABThSJ821sqY',\n",
       " '0ezkpFcE5jANBI2ZrmvhQY',\n",
       " '5v6iBhIlflzR9rEd1LAMbd',\n",
       " '1lXY618HWkwYKJWBRYR4MK',\n",
       " '4eLPsYPBmXABThSJ821sqY',\n",
       " '1IYVB8NfiRqhdZlTxjspNh',\n",
       " '42WVQWuf1teDysXiOupIZt',\n",
       " '3ThQ5dvf9wlqB0C7evh5nH',\n",
       " '10mgMqfneVjHxcPad0xs5z',\n",
       " '1UIlzhqJLiA3f6OVw7QKn6',\n",
       " '4hhvgHjPqUOAYkclDkhL2T',\n",
       " '0UlbGi4oAth8s6rwaGSU8Z',\n",
       " '2HaqChIDc5go3qxVunBDK0',\n",
       " '2jJReDZqTuAxr4R0ItimZc',\n",
       " '1lhNch5NkOONvFhRPh8qaj',\n",
       " '3XftSbguntyRTBQaGItmfK',\n",
       " '6kf46HbnYCZzP6rjvQHYzg',\n",
       " '4rJgzzfFHAVFhCSt2P4I3j',\n",
       " '76290XdXVF9rPzGdNRWdCh',\n",
       " '3HHp5I6Q6SEyU5bkvoCtnV',\n",
       " '18pR217SWwBjODSRWFBw0I',\n",
       " '4MoVPs5mVFmZ4N6RmNTFWB',\n",
       " '7hwhuEQT4Fp5bzwLlYZtiz',\n",
       " '2e5CxfyEwBW115beiwh7Mc',\n",
       " '2AvupjUeMnSffKEV05x222',\n",
       " '1FZKIm3JVDCxTchXDo5jOV',\n",
       " '0K4pIOOsfJ9lK8OjrZfXzd',\n",
       " '5xG9gJcs9ut3qDWezHUlsX',\n",
       " '5laClXclOn3sCQOWKqFohJ',\n",
       " '6h3fnzKZqjV0R5gP9iTUBh',\n",
       " '1ne2D0NxoGyZd31gAM4HNd',\n",
       " '2aTOwGU66ocsf8IQpOI0XZ',\n",
       " '23cuZhPWDfX1uKD4qwuv7t',\n",
       " '3rC6vGpgXntVIsIkrw1tol',\n",
       " '2vD3zSQr8hNlg0obNel4TE',\n",
       " '3ThQ5dvf9wlqB0C7evh5nH',\n",
       " '30QoUTsSdpQuZunPNFsLnm',\n",
       " '3cyyJALrHc8LawnQNFYRWL',\n",
       " '1IbfOjLqUSkhtXLpX31WZq']"
      ]
     },
     "execution_count": 701,
     "metadata": {},
     "output_type": "execute_result"
    }
   ],
   "source": [
    "track_artists"
   ]
  },
  {
   "cell_type": "code",
   "execution_count": 405,
   "metadata": {},
   "outputs": [
    {
     "data": {
      "text/plain": [
       "'3T4tUhGYeRNVUGevb0wThu'"
      ]
     },
     "execution_count": 405,
     "metadata": {},
     "output_type": "execute_result"
    }
   ],
   "source": [
    "get_album_id_from_track('shape of you','Ed Sheeran')"
   ]
  },
  {
   "cell_type": "code",
   "execution_count": 404,
   "metadata": {},
   "outputs": [
    {
     "data": {
      "text/plain": [
       "'1M4anG49aEs4YimBdj96Oy'"
      ]
     },
     "execution_count": 404,
     "metadata": {},
     "output_type": "execute_result"
    }
   ],
   "source": [
    "get_album_id_from_album('arrival','abba')"
   ]
  },
  {
   "cell_type": "code",
   "execution_count": 406,
   "metadata": {},
   "outputs": [],
   "source": [
    "data = spotify.album('3T4tUhGYeRNVUGevb0wThu')"
   ]
  },
  {
   "cell_type": "code",
   "execution_count": 766,
   "metadata": {},
   "outputs": [
    {
     "name": "stdout",
     "output_type": "stream",
     "text": [
      "retrying ...1secs\n",
      "retrying ...1secs\n"
     ]
    }
   ],
   "source": [
    "data = top_songs_albums_year(2018)"
   ]
  },
  {
   "cell_type": "code",
   "execution_count": 767,
   "metadata": {},
   "outputs": [],
   "source": [
    "with open('top_songs_albums_year_{}'.format(2018),'w') as outfile:\n",
    "    json.dump(data,outfile)"
   ]
  },
  {
   "cell_type": "code",
   "execution_count": null,
   "metadata": {},
   "outputs": [],
   "source": [
    "for year in reversed(range(2006,2018)):\n",
    "    data = top_songs_albums_year(year)\n",
    "    with open('top_songs_albums_year_{}'.format(i),'w') as outfile:\n",
    "        json.dump(data,outfile)"
   ]
  },
  {
   "cell_type": "code",
   "execution_count": 756,
   "metadata": {},
   "outputs": [
    {
     "name": "stdout",
     "output_type": "stream",
     "text": [
      "start waiting\n",
      "done waiting!\n"
     ]
    }
   ],
   "source": [
    "print(\"start waiting\")\n",
    "time.sleep(4)\n",
    "print(\"done waiting!\")"
   ]
  },
  {
   "cell_type": "code",
   "execution_count": 755,
   "metadata": {},
   "outputs": [],
   "source": [
    "import time"
   ]
  },
  {
   "cell_type": "code",
   "execution_count": 762,
   "metadata": {},
   "outputs": [],
   "source": [
    "def top_songs_albums_year(year):\n",
    "    json_list = []\n",
    "    albums_id_list = get_albums_id_list_from_top100_songs(year)\n",
    "    for album_id in albums_id_list:\n",
    "        try:\n",
    "            data = spotify.album(album_id)\n",
    "            time.sleep(1)\n",
    "            json_list.append(album_json(data))\n",
    "        except:\n",
    "            print(album_id)\n",
    "    return json_list\n",
    "        \n",
    "    "
   ]
  },
  {
   "cell_type": "code",
   "execution_count": 752,
   "metadata": {},
   "outputs": [
    {
     "data": {
      "text/plain": [
       "[2018, 2017, 2016, 2015, 2014, 2013, 2012, 2011, 2010, 2009, 2008, 2007, 2006]"
      ]
     },
     "execution_count": 752,
     "metadata": {},
     "output_type": "execute_result"
    }
   ],
   "source": [
    "list(reversed(range(2006,2019)))"
   ]
  },
  {
   "cell_type": "code",
   "execution_count": null,
   "metadata": {},
   "outputs": [],
   "source": [
    "top_songs_albums_year(2006)"
   ]
  },
  {
   "cell_type": "code",
   "execution_count": 749,
   "metadata": {},
   "outputs": [
    {
     "name": "stdout",
     "output_type": "stream",
     "text": [
      "top_songs_albums_year_2006\n",
      "top_songs_albums_year_2007\n",
      "top_songs_albums_year_2008\n",
      "top_songs_albums_year_2009\n",
      "top_songs_albums_year_2010\n",
      "top_songs_albums_year_2011\n",
      "top_songs_albums_year_2012\n",
      "top_songs_albums_year_2013\n",
      "top_songs_albums_year_2014\n",
      "top_songs_albums_year_2015\n",
      "top_songs_albums_year_2016\n",
      "top_songs_albums_year_2017\n",
      "top_songs_albums_year_2018\n"
     ]
    }
   ],
   "source": [
    "for i in range(2006,2019):\n",
    "    print('top_songs_albums_year_{}'.format(i))"
   ]
  },
  {
   "cell_type": "code",
   "execution_count": 421,
   "metadata": {},
   "outputs": [
    {
     "data": {
      "text/plain": [
       "dict_keys(['album_type', 'artists', 'available_markets', 'copyrights', 'external_ids', 'external_urls', 'genres', 'href', 'id', 'images', 'label', 'name', 'popularity', 'release_date', 'release_date_precision', 'total_tracks', 'tracks', 'type', 'uri'])"
      ]
     },
     "execution_count": 421,
     "metadata": {},
     "output_type": "execute_result"
    }
   ],
   "source": [
    "d = info\n",
    "d.keys()"
   ]
  },
  {
   "cell_type": "code",
   "execution_count": 732,
   "metadata": {},
   "outputs": [],
   "source": [
    "def album_json(d):\n",
    "    subkeys = ['id', 'name', 'genres',  'popularity', 'total_tracks']\n",
    "    \n",
    "    album_info = {k: d[k] for k in subkeys if k in d}\n",
    "    tracks = d['tracks']['items']\n",
    "    tracks_id = [t['id'] for t in tracks]\n",
    "    tracks_df_json = pd.DataFrame(audio_features(tracks_id),columns=['id',  'track_number', 'popularity','name', 'duration_ms', 'tempo','time_signature', 'key',\n",
    "       'valence', 'mode', 'acousticness', 'danceability', 'energy', \n",
    "       'instrumentalness',  'liveness', 'loudness', 'speechiness']).to_json(orient='split')\n",
    "    album_info.update({'artists_list': [a['name'] for a in d['artists']], 'tracks_info': tracks_df_json })\n",
    "    \n",
    "    return album_info\n",
    "\n",
    "def track_json(track_id):\n",
    "\n",
    "    d = spotify.track(track_id)\n",
    "    subkeys = ['id', 'popularity', 'name', 'track_number']\n",
    "    subdict = {k: d[k] for k in subkeys if k in d}\n",
    "    return subdict\n",
    "\n",
    "\n",
    "def audio_feature_decorator(spotify_audio_features_func):\n",
    "\n",
    "    def wrapper_func(track_id_list):\n",
    "        subkeys = ['danceability', 'energy', 'key', 'loudness', 'mode', 'speechiness', 'acousticness', 'instrumentalness', 'liveness', 'valence', 'tempo', 'duration_ms', 'time_signature']\n",
    "        \n",
    "        \n",
    "        features_list = spotify_audio_features_func(track_id_list)\n",
    "        \n",
    "        my_features_list = []\n",
    "        for i, features in enumerate(features_list):\n",
    "            \n",
    "            sub_features = {k: features[k] for k in subkeys if k in features}\n",
    "            other_info = track_json(track_id_list[i])\n",
    "            other_info.update(sub_features)\n",
    "            \n",
    "            my_features_list.append(other_info)\n",
    "            \n",
    "        return my_features_list\n",
    "    \n",
    "    return wrapper_func\n",
    "\n",
    "@audio_feature_decorator\n",
    "def audio_features(track_id_list):\n",
    "    return spotify.audio_features(track_id_list)\n"
   ]
  },
  {
   "cell_type": "code",
   "execution_count": 544,
   "metadata": {},
   "outputs": [
    {
     "data": {
      "text/plain": [
       "{'id': '3T4tUhGYeRNVUGevb0wThu',\n",
       " 'name': '÷ (Deluxe)',\n",
       " 'genres': [],\n",
       " 'popularity': 90,\n",
       " 'total_tracks': 16}"
      ]
     },
     "execution_count": 544,
     "metadata": {},
     "output_type": "execute_result"
    }
   ],
   "source": [
    "album_info , tracks_id = album_json(info)\n",
    "album_info"
   ]
  },
  {
   "cell_type": "code",
   "execution_count": 556,
   "metadata": {},
   "outputs": [
    {
     "data": {
      "text/plain": [
       "str"
      ]
     },
     "execution_count": 556,
     "metadata": {},
     "output_type": "execute_result"
    }
   ],
   "source": [
    "tracks_df_json = pd.DataFrame(audio_features(tracks_id)).to_json(orient='split')\n",
    "type(tracks_df_json)"
   ]
  },
  {
   "cell_type": "code",
   "execution_count": 558,
   "metadata": {},
   "outputs": [
    {
     "data": {
      "text/html": [
       "<div>\n",
       "<style scoped>\n",
       "    .dataframe tbody tr th:only-of-type {\n",
       "        vertical-align: middle;\n",
       "    }\n",
       "\n",
       "    .dataframe tbody tr th {\n",
       "        vertical-align: top;\n",
       "    }\n",
       "\n",
       "    .dataframe thead th {\n",
       "        text-align: right;\n",
       "    }\n",
       "</style>\n",
       "<table border=\"1\" class=\"dataframe\">\n",
       "  <thead>\n",
       "    <tr style=\"text-align: right;\">\n",
       "      <th></th>\n",
       "      <th>acousticness</th>\n",
       "      <th>danceability</th>\n",
       "      <th>duration_ms</th>\n",
       "      <th>energy</th>\n",
       "      <th>id</th>\n",
       "      <th>instrumentalness</th>\n",
       "      <th>key</th>\n",
       "      <th>liveness</th>\n",
       "      <th>loudness</th>\n",
       "      <th>mode</th>\n",
       "      <th>name</th>\n",
       "      <th>popularity</th>\n",
       "      <th>speechiness</th>\n",
       "      <th>tempo</th>\n",
       "      <th>time_signature</th>\n",
       "      <th>track_number</th>\n",
       "      <th>valence</th>\n",
       "    </tr>\n",
       "  </thead>\n",
       "  <tbody>\n",
       "    <tr>\n",
       "      <th>0</th>\n",
       "      <td>0.0860</td>\n",
       "      <td>0.640</td>\n",
       "      <td>227427</td>\n",
       "      <td>0.812</td>\n",
       "      <td>7oolFzHipTMg2nL7shhdz2</td>\n",
       "      <td>0.000000</td>\n",
       "      <td>8</td>\n",
       "      <td>0.0509</td>\n",
       "      <td>-5.647</td>\n",
       "      <td>0</td>\n",
       "      <td>Eraser</td>\n",
       "      <td>70</td>\n",
       "      <td>0.0834</td>\n",
       "      <td>86.013</td>\n",
       "      <td>4</td>\n",
       "      <td>1</td>\n",
       "      <td>0.914</td>\n",
       "    </tr>\n",
       "    <tr>\n",
       "      <th>1</th>\n",
       "      <td>0.0232</td>\n",
       "      <td>0.461</td>\n",
       "      <td>261154</td>\n",
       "      <td>0.834</td>\n",
       "      <td>6PCUP3dWmTjcTtXY02oFdT</td>\n",
       "      <td>0.000011</td>\n",
       "      <td>2</td>\n",
       "      <td>0.1400</td>\n",
       "      <td>-4.868</td>\n",
       "      <td>1</td>\n",
       "      <td>Castle on the Hill</td>\n",
       "      <td>82</td>\n",
       "      <td>0.0989</td>\n",
       "      <td>135.007</td>\n",
       "      <td>4</td>\n",
       "      <td>2</td>\n",
       "      <td>0.471</td>\n",
       "    </tr>\n",
       "    <tr>\n",
       "      <th>2</th>\n",
       "      <td>0.3550</td>\n",
       "      <td>0.761</td>\n",
       "      <td>238440</td>\n",
       "      <td>0.386</td>\n",
       "      <td>51ChrwmUPDJvedPQnIU8Ls</td>\n",
       "      <td>0.000000</td>\n",
       "      <td>4</td>\n",
       "      <td>0.0953</td>\n",
       "      <td>-6.158</td>\n",
       "      <td>1</td>\n",
       "      <td>Dive</td>\n",
       "      <td>80</td>\n",
       "      <td>0.0399</td>\n",
       "      <td>134.943</td>\n",
       "      <td>3</td>\n",
       "      <td>3</td>\n",
       "      <td>0.526</td>\n",
       "    </tr>\n",
       "    <tr>\n",
       "      <th>3</th>\n",
       "      <td>0.5810</td>\n",
       "      <td>0.825</td>\n",
       "      <td>233713</td>\n",
       "      <td>0.652</td>\n",
       "      <td>7qiZfU4dY1lWllzX7mPBI3</td>\n",
       "      <td>0.000000</td>\n",
       "      <td>1</td>\n",
       "      <td>0.0931</td>\n",
       "      <td>-3.183</td>\n",
       "      <td>0</td>\n",
       "      <td>Shape of You</td>\n",
       "      <td>88</td>\n",
       "      <td>0.0802</td>\n",
       "      <td>95.977</td>\n",
       "      <td>4</td>\n",
       "      <td>4</td>\n",
       "      <td>0.931</td>\n",
       "    </tr>\n",
       "    <tr>\n",
       "      <th>4</th>\n",
       "      <td>0.1630</td>\n",
       "      <td>0.599</td>\n",
       "      <td>263400</td>\n",
       "      <td>0.448</td>\n",
       "      <td>0tgVpDi06FyKpA1z0VMD4v</td>\n",
       "      <td>0.000000</td>\n",
       "      <td>8</td>\n",
       "      <td>0.1060</td>\n",
       "      <td>-6.312</td>\n",
       "      <td>1</td>\n",
       "      <td>Perfect</td>\n",
       "      <td>89</td>\n",
       "      <td>0.0232</td>\n",
       "      <td>95.050</td>\n",
       "      <td>3</td>\n",
       "      <td>5</td>\n",
       "      <td>0.168</td>\n",
       "    </tr>\n",
       "    <tr>\n",
       "      <th>5</th>\n",
       "      <td>0.0735</td>\n",
       "      <td>0.624</td>\n",
       "      <td>170827</td>\n",
       "      <td>0.876</td>\n",
       "      <td>0afhq8XCExXpqazXczTSve</td>\n",
       "      <td>0.000000</td>\n",
       "      <td>9</td>\n",
       "      <td>0.3270</td>\n",
       "      <td>-3.374</td>\n",
       "      <td>1</td>\n",
       "      <td>Galway Girl</td>\n",
       "      <td>83</td>\n",
       "      <td>0.1000</td>\n",
       "      <td>99.943</td>\n",
       "      <td>4</td>\n",
       "      <td>6</td>\n",
       "      <td>0.781</td>\n",
       "    </tr>\n",
       "    <tr>\n",
       "      <th>6</th>\n",
       "      <td>0.5360</td>\n",
       "      <td>0.522</td>\n",
       "      <td>207520</td>\n",
       "      <td>0.385</td>\n",
       "      <td>2RttW7RAu5nOAfq6YFvApB</td>\n",
       "      <td>0.000000</td>\n",
       "      <td>0</td>\n",
       "      <td>0.1350</td>\n",
       "      <td>-7.355</td>\n",
       "      <td>1</td>\n",
       "      <td>Happier</td>\n",
       "      <td>86</td>\n",
       "      <td>0.0288</td>\n",
       "      <td>89.792</td>\n",
       "      <td>4</td>\n",
       "      <td>7</td>\n",
       "      <td>0.236</td>\n",
       "    </tr>\n",
       "    <tr>\n",
       "      <th>7</th>\n",
       "      <td>0.0559</td>\n",
       "      <td>0.780</td>\n",
       "      <td>189280</td>\n",
       "      <td>0.745</td>\n",
       "      <td>5HDPtsnyb3maFmPL8LLUTG</td>\n",
       "      <td>0.000000</td>\n",
       "      <td>7</td>\n",
       "      <td>0.0595</td>\n",
       "      <td>-3.970</td>\n",
       "      <td>1</td>\n",
       "      <td>New Man</td>\n",
       "      <td>73</td>\n",
       "      <td>0.1450</td>\n",
       "      <td>94.026</td>\n",
       "      <td>4</td>\n",
       "      <td>8</td>\n",
       "      <td>0.862</td>\n",
       "    </tr>\n",
       "    <tr>\n",
       "      <th>8</th>\n",
       "      <td>0.7190</td>\n",
       "      <td>0.604</td>\n",
       "      <td>248413</td>\n",
       "      <td>0.366</td>\n",
       "      <td>2dfHh7ECGxfNqZTQno09Vk</td>\n",
       "      <td>0.000000</td>\n",
       "      <td>7</td>\n",
       "      <td>0.1620</td>\n",
       "      <td>-7.881</td>\n",
       "      <td>1</td>\n",
       "      <td>Hearts Don't Break Around Here</td>\n",
       "      <td>73</td>\n",
       "      <td>0.0267</td>\n",
       "      <td>105.177</td>\n",
       "      <td>3</td>\n",
       "      <td>9</td>\n",
       "      <td>0.181</td>\n",
       "    </tr>\n",
       "    <tr>\n",
       "      <th>9</th>\n",
       "      <td>0.2510</td>\n",
       "      <td>0.838</td>\n",
       "      <td>237333</td>\n",
       "      <td>0.492</td>\n",
       "      <td>2pJZ1v8HezrAoZ0Fhzby92</td>\n",
       "      <td>0.000000</td>\n",
       "      <td>1</td>\n",
       "      <td>0.2620</td>\n",
       "      <td>-5.690</td>\n",
       "      <td>0</td>\n",
       "      <td>What Do I Know?</td>\n",
       "      <td>75</td>\n",
       "      <td>0.0380</td>\n",
       "      <td>115.092</td>\n",
       "      <td>4</td>\n",
       "      <td>10</td>\n",
       "      <td>0.895</td>\n",
       "    </tr>\n",
       "    <tr>\n",
       "      <th>10</th>\n",
       "      <td>0.4240</td>\n",
       "      <td>0.617</td>\n",
       "      <td>280533</td>\n",
       "      <td>0.439</td>\n",
       "      <td>6PJ8FF6UR8FZXfEvpHkIVN</td>\n",
       "      <td>0.000000</td>\n",
       "      <td>9</td>\n",
       "      <td>0.1270</td>\n",
       "      <td>-5.630</td>\n",
       "      <td>1</td>\n",
       "      <td>How Would You Feel (Paean)</td>\n",
       "      <td>73</td>\n",
       "      <td>0.0269</td>\n",
       "      <td>139.979</td>\n",
       "      <td>4</td>\n",
       "      <td>11</td>\n",
       "      <td>0.242</td>\n",
       "    </tr>\n",
       "    <tr>\n",
       "      <th>11</th>\n",
       "      <td>0.9140</td>\n",
       "      <td>0.589</td>\n",
       "      <td>221107</td>\n",
       "      <td>0.242</td>\n",
       "      <td>4VuS959DSpr82t3qBqCrWG</td>\n",
       "      <td>0.000000</td>\n",
       "      <td>6</td>\n",
       "      <td>0.0887</td>\n",
       "      <td>-10.517</td>\n",
       "      <td>1</td>\n",
       "      <td>Supermarket Flowers</td>\n",
       "      <td>81</td>\n",
       "      <td>0.0442</td>\n",
       "      <td>89.749</td>\n",
       "      <td>4</td>\n",
       "      <td>12</td>\n",
       "      <td>0.257</td>\n",
       "    </tr>\n",
       "    <tr>\n",
       "      <th>12</th>\n",
       "      <td>0.4480</td>\n",
       "      <td>0.747</td>\n",
       "      <td>191147</td>\n",
       "      <td>0.760</td>\n",
       "      <td>3Lfiu5sZ4M4B6JaKMBc0FU</td>\n",
       "      <td>0.000000</td>\n",
       "      <td>1</td>\n",
       "      <td>0.1530</td>\n",
       "      <td>-4.294</td>\n",
       "      <td>1</td>\n",
       "      <td>Barcelona</td>\n",
       "      <td>73</td>\n",
       "      <td>0.1870</td>\n",
       "      <td>99.975</td>\n",
       "      <td>4</td>\n",
       "      <td>13</td>\n",
       "      <td>0.682</td>\n",
       "    </tr>\n",
       "    <tr>\n",
       "      <th>13</th>\n",
       "      <td>0.5200</td>\n",
       "      <td>0.738</td>\n",
       "      <td>176747</td>\n",
       "      <td>0.677</td>\n",
       "      <td>6SznMYPQJHzr3IwsAHLId2</td>\n",
       "      <td>0.000000</td>\n",
       "      <td>7</td>\n",
       "      <td>0.1330</td>\n",
       "      <td>-5.121</td>\n",
       "      <td>1</td>\n",
       "      <td>Bibia Be Ye Ye</td>\n",
       "      <td>71</td>\n",
       "      <td>0.0824</td>\n",
       "      <td>127.067</td>\n",
       "      <td>4</td>\n",
       "      <td>14</td>\n",
       "      <td>0.882</td>\n",
       "    </tr>\n",
       "    <tr>\n",
       "      <th>14</th>\n",
       "      <td>0.1170</td>\n",
       "      <td>0.680</td>\n",
       "      <td>179787</td>\n",
       "      <td>0.852</td>\n",
       "      <td>35QZaWQRkmnAVqBF1TLCxQ</td>\n",
       "      <td>0.000000</td>\n",
       "      <td>7</td>\n",
       "      <td>0.0866</td>\n",
       "      <td>-4.350</td>\n",
       "      <td>1</td>\n",
       "      <td>Nancy Mulligan</td>\n",
       "      <td>72</td>\n",
       "      <td>0.0349</td>\n",
       "      <td>101.993</td>\n",
       "      <td>4</td>\n",
       "      <td>15</td>\n",
       "      <td>0.858</td>\n",
       "    </tr>\n",
       "    <tr>\n",
       "      <th>15</th>\n",
       "      <td>0.8500</td>\n",
       "      <td>0.552</td>\n",
       "      <td>247107</td>\n",
       "      <td>0.290</td>\n",
       "      <td>6TIU9Ehmi6dMzZK73Ym4yj</td>\n",
       "      <td>0.000000</td>\n",
       "      <td>10</td>\n",
       "      <td>0.2270</td>\n",
       "      <td>-5.617</td>\n",
       "      <td>1</td>\n",
       "      <td>Save Myself</td>\n",
       "      <td>72</td>\n",
       "      <td>0.0448</td>\n",
       "      <td>78.842</td>\n",
       "      <td>4</td>\n",
       "      <td>16</td>\n",
       "      <td>0.481</td>\n",
       "    </tr>\n",
       "  </tbody>\n",
       "</table>\n",
       "</div>"
      ],
      "text/plain": [
       "    acousticness  danceability  duration_ms  energy                      id  \\\n",
       "0         0.0860         0.640       227427   0.812  7oolFzHipTMg2nL7shhdz2   \n",
       "1         0.0232         0.461       261154   0.834  6PCUP3dWmTjcTtXY02oFdT   \n",
       "2         0.3550         0.761       238440   0.386  51ChrwmUPDJvedPQnIU8Ls   \n",
       "3         0.5810         0.825       233713   0.652  7qiZfU4dY1lWllzX7mPBI3   \n",
       "4         0.1630         0.599       263400   0.448  0tgVpDi06FyKpA1z0VMD4v   \n",
       "5         0.0735         0.624       170827   0.876  0afhq8XCExXpqazXczTSve   \n",
       "6         0.5360         0.522       207520   0.385  2RttW7RAu5nOAfq6YFvApB   \n",
       "7         0.0559         0.780       189280   0.745  5HDPtsnyb3maFmPL8LLUTG   \n",
       "8         0.7190         0.604       248413   0.366  2dfHh7ECGxfNqZTQno09Vk   \n",
       "9         0.2510         0.838       237333   0.492  2pJZ1v8HezrAoZ0Fhzby92   \n",
       "10        0.4240         0.617       280533   0.439  6PJ8FF6UR8FZXfEvpHkIVN   \n",
       "11        0.9140         0.589       221107   0.242  4VuS959DSpr82t3qBqCrWG   \n",
       "12        0.4480         0.747       191147   0.760  3Lfiu5sZ4M4B6JaKMBc0FU   \n",
       "13        0.5200         0.738       176747   0.677  6SznMYPQJHzr3IwsAHLId2   \n",
       "14        0.1170         0.680       179787   0.852  35QZaWQRkmnAVqBF1TLCxQ   \n",
       "15        0.8500         0.552       247107   0.290  6TIU9Ehmi6dMzZK73Ym4yj   \n",
       "\n",
       "    instrumentalness  key  liveness  loudness  mode  \\\n",
       "0           0.000000    8    0.0509    -5.647     0   \n",
       "1           0.000011    2    0.1400    -4.868     1   \n",
       "2           0.000000    4    0.0953    -6.158     1   \n",
       "3           0.000000    1    0.0931    -3.183     0   \n",
       "4           0.000000    8    0.1060    -6.312     1   \n",
       "5           0.000000    9    0.3270    -3.374     1   \n",
       "6           0.000000    0    0.1350    -7.355     1   \n",
       "7           0.000000    7    0.0595    -3.970     1   \n",
       "8           0.000000    7    0.1620    -7.881     1   \n",
       "9           0.000000    1    0.2620    -5.690     0   \n",
       "10          0.000000    9    0.1270    -5.630     1   \n",
       "11          0.000000    6    0.0887   -10.517     1   \n",
       "12          0.000000    1    0.1530    -4.294     1   \n",
       "13          0.000000    7    0.1330    -5.121     1   \n",
       "14          0.000000    7    0.0866    -4.350     1   \n",
       "15          0.000000   10    0.2270    -5.617     1   \n",
       "\n",
       "                              name  popularity  speechiness    tempo  \\\n",
       "0                           Eraser          70       0.0834   86.013   \n",
       "1               Castle on the Hill          82       0.0989  135.007   \n",
       "2                             Dive          80       0.0399  134.943   \n",
       "3                     Shape of You          88       0.0802   95.977   \n",
       "4                          Perfect          89       0.0232   95.050   \n",
       "5                      Galway Girl          83       0.1000   99.943   \n",
       "6                          Happier          86       0.0288   89.792   \n",
       "7                          New Man          73       0.1450   94.026   \n",
       "8   Hearts Don't Break Around Here          73       0.0267  105.177   \n",
       "9                  What Do I Know?          75       0.0380  115.092   \n",
       "10      How Would You Feel (Paean)          73       0.0269  139.979   \n",
       "11             Supermarket Flowers          81       0.0442   89.749   \n",
       "12                       Barcelona          73       0.1870   99.975   \n",
       "13                  Bibia Be Ye Ye          71       0.0824  127.067   \n",
       "14                  Nancy Mulligan          72       0.0349  101.993   \n",
       "15                     Save Myself          72       0.0448   78.842   \n",
       "\n",
       "    time_signature  track_number  valence  \n",
       "0                4             1    0.914  \n",
       "1                4             2    0.471  \n",
       "2                3             3    0.526  \n",
       "3                4             4    0.931  \n",
       "4                3             5    0.168  \n",
       "5                4             6    0.781  \n",
       "6                4             7    0.236  \n",
       "7                4             8    0.862  \n",
       "8                3             9    0.181  \n",
       "9                4            10    0.895  \n",
       "10               4            11    0.242  \n",
       "11               4            12    0.257  \n",
       "12               4            13    0.682  \n",
       "13               4            14    0.882  \n",
       "14               4            15    0.858  \n",
       "15               4            16    0.481  "
      ]
     },
     "execution_count": 558,
     "metadata": {},
     "output_type": "execute_result"
    }
   ],
   "source": [
    "pd.read_json(tracks_df_json, orient='split')"
   ]
  },
  {
   "cell_type": "code",
   "execution_count": 559,
   "metadata": {},
   "outputs": [],
   "source": [
    "album_info.update({'tracks_info': tracks_df_json})"
   ]
  },
  {
   "cell_type": "code",
   "execution_count": 560,
   "metadata": {},
   "outputs": [
    {
     "data": {
      "text/plain": [
       "{'id': '3T4tUhGYeRNVUGevb0wThu',\n",
       " 'name': '÷ (Deluxe)',\n",
       " 'genres': [],\n",
       " 'popularity': 90,\n",
       " 'total_tracks': 16,\n",
       " 'tracks_info': '{\"columns\":[\"acousticness\",\"danceability\",\"duration_ms\",\"energy\",\"id\",\"instrumentalness\",\"key\",\"liveness\",\"loudness\",\"mode\",\"name\",\"popularity\",\"speechiness\",\"tempo\",\"time_signature\",\"track_number\",\"valence\"],\"index\":[0,1,2,3,4,5,6,7,8,9,10,11,12,13,14,15],\"data\":[[0.086,0.64,227427,0.812,\"7oolFzHipTMg2nL7shhdz2\",0.0,8,0.0509,-5.647,0,\"Eraser\",70,0.0834,86.013,4,1,0.914],[0.0232,0.461,261154,0.834,\"6PCUP3dWmTjcTtXY02oFdT\",0.0000114,2,0.14,-4.868,1,\"Castle on the Hill\",82,0.0989,135.007,4,2,0.471],[0.355,0.761,238440,0.386,\"51ChrwmUPDJvedPQnIU8Ls\",0.0,4,0.0953,-6.158,1,\"Dive\",80,0.0399,134.943,3,3,0.526],[0.581,0.825,233713,0.652,\"7qiZfU4dY1lWllzX7mPBI3\",0.0,1,0.0931,-3.183,0,\"Shape of You\",88,0.0802,95.977,4,4,0.931],[0.163,0.599,263400,0.448,\"0tgVpDi06FyKpA1z0VMD4v\",0.0,8,0.106,-6.312,1,\"Perfect\",89,0.0232,95.05,3,5,0.168],[0.0735,0.624,170827,0.876,\"0afhq8XCExXpqazXczTSve\",0.0,9,0.327,-3.374,1,\"Galway Girl\",83,0.1,99.943,4,6,0.781],[0.536,0.522,207520,0.385,\"2RttW7RAu5nOAfq6YFvApB\",0.0,0,0.135,-7.355,1,\"Happier\",86,0.0288,89.792,4,7,0.236],[0.0559,0.78,189280,0.745,\"5HDPtsnyb3maFmPL8LLUTG\",0.0,7,0.0595,-3.97,1,\"New Man\",73,0.145,94.026,4,8,0.862],[0.719,0.604,248413,0.366,\"2dfHh7ECGxfNqZTQno09Vk\",0.0,7,0.162,-7.881,1,\"Hearts Don\\'t Break Around Here\",73,0.0267,105.177,3,9,0.181],[0.251,0.838,237333,0.492,\"2pJZ1v8HezrAoZ0Fhzby92\",0.0,1,0.262,-5.69,0,\"What Do I Know?\",75,0.038,115.092,4,10,0.895],[0.424,0.617,280533,0.439,\"6PJ8FF6UR8FZXfEvpHkIVN\",0.0,9,0.127,-5.63,1,\"How Would You Feel (Paean)\",73,0.0269,139.979,4,11,0.242],[0.914,0.589,221107,0.242,\"4VuS959DSpr82t3qBqCrWG\",0.0,6,0.0887,-10.517,1,\"Supermarket Flowers\",81,0.0442,89.749,4,12,0.257],[0.448,0.747,191147,0.76,\"3Lfiu5sZ4M4B6JaKMBc0FU\",0.0,1,0.153,-4.294,1,\"Barcelona\",73,0.187,99.975,4,13,0.682],[0.52,0.738,176747,0.677,\"6SznMYPQJHzr3IwsAHLId2\",0.0,7,0.133,-5.121,1,\"Bibia Be Ye Ye\",71,0.0824,127.067,4,14,0.882],[0.117,0.68,179787,0.852,\"35QZaWQRkmnAVqBF1TLCxQ\",0.0,7,0.0866,-4.35,1,\"Nancy Mulligan\",72,0.0349,101.993,4,15,0.858],[0.85,0.552,247107,0.29,\"6TIU9Ehmi6dMzZK73Ym4yj\",0.0,10,0.227,-5.617,1,\"Save Myself\",72,0.0448,78.842,4,16,0.481]]}'}"
      ]
     },
     "execution_count": 560,
     "metadata": {},
     "output_type": "execute_result"
    }
   ],
   "source": [
    "album_info"
   ]
  },
  {
   "cell_type": "code",
   "execution_count": 730,
   "metadata": {},
   "outputs": [],
   "source": [
    "df = pd.DataFrame(audio_features(tracks_id),columns=['id',  'track_number', 'popularity','name', 'duration_ms', 'tempo','time_signature', 'key',\n",
    "       'valence', 'mode', 'acousticness', 'danceability', 'energy', \n",
    "       'instrumentalness',  'liveness', 'loudness', 'speechiness'])"
   ]
  },
  {
   "cell_type": "code",
   "execution_count": 731,
   "metadata": {},
   "outputs": [
    {
     "data": {
      "text/html": [
       "<div>\n",
       "<style scoped>\n",
       "    .dataframe tbody tr th:only-of-type {\n",
       "        vertical-align: middle;\n",
       "    }\n",
       "\n",
       "    .dataframe tbody tr th {\n",
       "        vertical-align: top;\n",
       "    }\n",
       "\n",
       "    .dataframe thead th {\n",
       "        text-align: right;\n",
       "    }\n",
       "</style>\n",
       "<table border=\"1\" class=\"dataframe\">\n",
       "  <thead>\n",
       "    <tr style=\"text-align: right;\">\n",
       "      <th></th>\n",
       "      <th>id</th>\n",
       "      <th>track_number</th>\n",
       "      <th>popularity</th>\n",
       "      <th>name</th>\n",
       "      <th>duration_ms</th>\n",
       "      <th>tempo</th>\n",
       "      <th>time_signature</th>\n",
       "      <th>key</th>\n",
       "      <th>valence</th>\n",
       "      <th>mode</th>\n",
       "      <th>acousticness</th>\n",
       "      <th>danceability</th>\n",
       "      <th>energy</th>\n",
       "      <th>instrumentalness</th>\n",
       "      <th>liveness</th>\n",
       "      <th>loudness</th>\n",
       "      <th>speechiness</th>\n",
       "    </tr>\n",
       "  </thead>\n",
       "  <tbody>\n",
       "    <tr>\n",
       "      <th>0</th>\n",
       "      <td>7oolFzHipTMg2nL7shhdz2</td>\n",
       "      <td>1</td>\n",
       "      <td>70</td>\n",
       "      <td>Eraser</td>\n",
       "      <td>227427</td>\n",
       "      <td>86.013</td>\n",
       "      <td>4</td>\n",
       "      <td>8</td>\n",
       "      <td>0.914</td>\n",
       "      <td>0</td>\n",
       "      <td>0.0860</td>\n",
       "      <td>0.640</td>\n",
       "      <td>0.812</td>\n",
       "      <td>0.000000</td>\n",
       "      <td>0.0509</td>\n",
       "      <td>-5.647</td>\n",
       "      <td>0.0834</td>\n",
       "    </tr>\n",
       "    <tr>\n",
       "      <th>1</th>\n",
       "      <td>6PCUP3dWmTjcTtXY02oFdT</td>\n",
       "      <td>2</td>\n",
       "      <td>82</td>\n",
       "      <td>Castle on the Hill</td>\n",
       "      <td>261154</td>\n",
       "      <td>135.007</td>\n",
       "      <td>4</td>\n",
       "      <td>2</td>\n",
       "      <td>0.471</td>\n",
       "      <td>1</td>\n",
       "      <td>0.0232</td>\n",
       "      <td>0.461</td>\n",
       "      <td>0.834</td>\n",
       "      <td>0.000011</td>\n",
       "      <td>0.1400</td>\n",
       "      <td>-4.868</td>\n",
       "      <td>0.0989</td>\n",
       "    </tr>\n",
       "    <tr>\n",
       "      <th>2</th>\n",
       "      <td>51ChrwmUPDJvedPQnIU8Ls</td>\n",
       "      <td>3</td>\n",
       "      <td>80</td>\n",
       "      <td>Dive</td>\n",
       "      <td>238440</td>\n",
       "      <td>134.943</td>\n",
       "      <td>3</td>\n",
       "      <td>4</td>\n",
       "      <td>0.526</td>\n",
       "      <td>1</td>\n",
       "      <td>0.3550</td>\n",
       "      <td>0.761</td>\n",
       "      <td>0.386</td>\n",
       "      <td>0.000000</td>\n",
       "      <td>0.0953</td>\n",
       "      <td>-6.158</td>\n",
       "      <td>0.0399</td>\n",
       "    </tr>\n",
       "    <tr>\n",
       "      <th>3</th>\n",
       "      <td>7qiZfU4dY1lWllzX7mPBI3</td>\n",
       "      <td>4</td>\n",
       "      <td>88</td>\n",
       "      <td>Shape of You</td>\n",
       "      <td>233713</td>\n",
       "      <td>95.977</td>\n",
       "      <td>4</td>\n",
       "      <td>1</td>\n",
       "      <td>0.931</td>\n",
       "      <td>0</td>\n",
       "      <td>0.5810</td>\n",
       "      <td>0.825</td>\n",
       "      <td>0.652</td>\n",
       "      <td>0.000000</td>\n",
       "      <td>0.0931</td>\n",
       "      <td>-3.183</td>\n",
       "      <td>0.0802</td>\n",
       "    </tr>\n",
       "    <tr>\n",
       "      <th>4</th>\n",
       "      <td>0tgVpDi06FyKpA1z0VMD4v</td>\n",
       "      <td>5</td>\n",
       "      <td>89</td>\n",
       "      <td>Perfect</td>\n",
       "      <td>263400</td>\n",
       "      <td>95.050</td>\n",
       "      <td>3</td>\n",
       "      <td>8</td>\n",
       "      <td>0.168</td>\n",
       "      <td>1</td>\n",
       "      <td>0.1630</td>\n",
       "      <td>0.599</td>\n",
       "      <td>0.448</td>\n",
       "      <td>0.000000</td>\n",
       "      <td>0.1060</td>\n",
       "      <td>-6.312</td>\n",
       "      <td>0.0232</td>\n",
       "    </tr>\n",
       "    <tr>\n",
       "      <th>5</th>\n",
       "      <td>0afhq8XCExXpqazXczTSve</td>\n",
       "      <td>6</td>\n",
       "      <td>83</td>\n",
       "      <td>Galway Girl</td>\n",
       "      <td>170827</td>\n",
       "      <td>99.943</td>\n",
       "      <td>4</td>\n",
       "      <td>9</td>\n",
       "      <td>0.781</td>\n",
       "      <td>1</td>\n",
       "      <td>0.0735</td>\n",
       "      <td>0.624</td>\n",
       "      <td>0.876</td>\n",
       "      <td>0.000000</td>\n",
       "      <td>0.3270</td>\n",
       "      <td>-3.374</td>\n",
       "      <td>0.1000</td>\n",
       "    </tr>\n",
       "    <tr>\n",
       "      <th>6</th>\n",
       "      <td>2RttW7RAu5nOAfq6YFvApB</td>\n",
       "      <td>7</td>\n",
       "      <td>86</td>\n",
       "      <td>Happier</td>\n",
       "      <td>207520</td>\n",
       "      <td>89.792</td>\n",
       "      <td>4</td>\n",
       "      <td>0</td>\n",
       "      <td>0.236</td>\n",
       "      <td>1</td>\n",
       "      <td>0.5360</td>\n",
       "      <td>0.522</td>\n",
       "      <td>0.385</td>\n",
       "      <td>0.000000</td>\n",
       "      <td>0.1350</td>\n",
       "      <td>-7.355</td>\n",
       "      <td>0.0288</td>\n",
       "    </tr>\n",
       "    <tr>\n",
       "      <th>7</th>\n",
       "      <td>5HDPtsnyb3maFmPL8LLUTG</td>\n",
       "      <td>8</td>\n",
       "      <td>73</td>\n",
       "      <td>New Man</td>\n",
       "      <td>189280</td>\n",
       "      <td>94.026</td>\n",
       "      <td>4</td>\n",
       "      <td>7</td>\n",
       "      <td>0.862</td>\n",
       "      <td>1</td>\n",
       "      <td>0.0559</td>\n",
       "      <td>0.780</td>\n",
       "      <td>0.745</td>\n",
       "      <td>0.000000</td>\n",
       "      <td>0.0595</td>\n",
       "      <td>-3.970</td>\n",
       "      <td>0.1450</td>\n",
       "    </tr>\n",
       "    <tr>\n",
       "      <th>8</th>\n",
       "      <td>2dfHh7ECGxfNqZTQno09Vk</td>\n",
       "      <td>9</td>\n",
       "      <td>73</td>\n",
       "      <td>Hearts Don't Break Around Here</td>\n",
       "      <td>248413</td>\n",
       "      <td>105.177</td>\n",
       "      <td>3</td>\n",
       "      <td>7</td>\n",
       "      <td>0.181</td>\n",
       "      <td>1</td>\n",
       "      <td>0.7190</td>\n",
       "      <td>0.604</td>\n",
       "      <td>0.366</td>\n",
       "      <td>0.000000</td>\n",
       "      <td>0.1620</td>\n",
       "      <td>-7.881</td>\n",
       "      <td>0.0267</td>\n",
       "    </tr>\n",
       "    <tr>\n",
       "      <th>9</th>\n",
       "      <td>2pJZ1v8HezrAoZ0Fhzby92</td>\n",
       "      <td>10</td>\n",
       "      <td>75</td>\n",
       "      <td>What Do I Know?</td>\n",
       "      <td>237333</td>\n",
       "      <td>115.092</td>\n",
       "      <td>4</td>\n",
       "      <td>1</td>\n",
       "      <td>0.895</td>\n",
       "      <td>0</td>\n",
       "      <td>0.2510</td>\n",
       "      <td>0.838</td>\n",
       "      <td>0.492</td>\n",
       "      <td>0.000000</td>\n",
       "      <td>0.2620</td>\n",
       "      <td>-5.690</td>\n",
       "      <td>0.0380</td>\n",
       "    </tr>\n",
       "    <tr>\n",
       "      <th>10</th>\n",
       "      <td>6PJ8FF6UR8FZXfEvpHkIVN</td>\n",
       "      <td>11</td>\n",
       "      <td>73</td>\n",
       "      <td>How Would You Feel (Paean)</td>\n",
       "      <td>280533</td>\n",
       "      <td>139.979</td>\n",
       "      <td>4</td>\n",
       "      <td>9</td>\n",
       "      <td>0.242</td>\n",
       "      <td>1</td>\n",
       "      <td>0.4240</td>\n",
       "      <td>0.617</td>\n",
       "      <td>0.439</td>\n",
       "      <td>0.000000</td>\n",
       "      <td>0.1270</td>\n",
       "      <td>-5.630</td>\n",
       "      <td>0.0269</td>\n",
       "    </tr>\n",
       "    <tr>\n",
       "      <th>11</th>\n",
       "      <td>4VuS959DSpr82t3qBqCrWG</td>\n",
       "      <td>12</td>\n",
       "      <td>81</td>\n",
       "      <td>Supermarket Flowers</td>\n",
       "      <td>221107</td>\n",
       "      <td>89.749</td>\n",
       "      <td>4</td>\n",
       "      <td>6</td>\n",
       "      <td>0.257</td>\n",
       "      <td>1</td>\n",
       "      <td>0.9140</td>\n",
       "      <td>0.589</td>\n",
       "      <td>0.242</td>\n",
       "      <td>0.000000</td>\n",
       "      <td>0.0887</td>\n",
       "      <td>-10.517</td>\n",
       "      <td>0.0442</td>\n",
       "    </tr>\n",
       "    <tr>\n",
       "      <th>12</th>\n",
       "      <td>3Lfiu5sZ4M4B6JaKMBc0FU</td>\n",
       "      <td>13</td>\n",
       "      <td>73</td>\n",
       "      <td>Barcelona</td>\n",
       "      <td>191147</td>\n",
       "      <td>99.975</td>\n",
       "      <td>4</td>\n",
       "      <td>1</td>\n",
       "      <td>0.682</td>\n",
       "      <td>1</td>\n",
       "      <td>0.4480</td>\n",
       "      <td>0.747</td>\n",
       "      <td>0.760</td>\n",
       "      <td>0.000000</td>\n",
       "      <td>0.1530</td>\n",
       "      <td>-4.294</td>\n",
       "      <td>0.1870</td>\n",
       "    </tr>\n",
       "    <tr>\n",
       "      <th>13</th>\n",
       "      <td>6SznMYPQJHzr3IwsAHLId2</td>\n",
       "      <td>14</td>\n",
       "      <td>71</td>\n",
       "      <td>Bibia Be Ye Ye</td>\n",
       "      <td>176747</td>\n",
       "      <td>127.067</td>\n",
       "      <td>4</td>\n",
       "      <td>7</td>\n",
       "      <td>0.882</td>\n",
       "      <td>1</td>\n",
       "      <td>0.5200</td>\n",
       "      <td>0.738</td>\n",
       "      <td>0.677</td>\n",
       "      <td>0.000000</td>\n",
       "      <td>0.1330</td>\n",
       "      <td>-5.121</td>\n",
       "      <td>0.0824</td>\n",
       "    </tr>\n",
       "    <tr>\n",
       "      <th>14</th>\n",
       "      <td>35QZaWQRkmnAVqBF1TLCxQ</td>\n",
       "      <td>15</td>\n",
       "      <td>72</td>\n",
       "      <td>Nancy Mulligan</td>\n",
       "      <td>179787</td>\n",
       "      <td>101.993</td>\n",
       "      <td>4</td>\n",
       "      <td>7</td>\n",
       "      <td>0.858</td>\n",
       "      <td>1</td>\n",
       "      <td>0.1170</td>\n",
       "      <td>0.680</td>\n",
       "      <td>0.852</td>\n",
       "      <td>0.000000</td>\n",
       "      <td>0.0866</td>\n",
       "      <td>-4.350</td>\n",
       "      <td>0.0349</td>\n",
       "    </tr>\n",
       "    <tr>\n",
       "      <th>15</th>\n",
       "      <td>6TIU9Ehmi6dMzZK73Ym4yj</td>\n",
       "      <td>16</td>\n",
       "      <td>72</td>\n",
       "      <td>Save Myself</td>\n",
       "      <td>247107</td>\n",
       "      <td>78.842</td>\n",
       "      <td>4</td>\n",
       "      <td>10</td>\n",
       "      <td>0.481</td>\n",
       "      <td>1</td>\n",
       "      <td>0.8500</td>\n",
       "      <td>0.552</td>\n",
       "      <td>0.290</td>\n",
       "      <td>0.000000</td>\n",
       "      <td>0.2270</td>\n",
       "      <td>-5.617</td>\n",
       "      <td>0.0448</td>\n",
       "    </tr>\n",
       "  </tbody>\n",
       "</table>\n",
       "</div>"
      ],
      "text/plain": [
       "                        id  track_number  popularity  \\\n",
       "0   7oolFzHipTMg2nL7shhdz2             1          70   \n",
       "1   6PCUP3dWmTjcTtXY02oFdT             2          82   \n",
       "2   51ChrwmUPDJvedPQnIU8Ls             3          80   \n",
       "3   7qiZfU4dY1lWllzX7mPBI3             4          88   \n",
       "4   0tgVpDi06FyKpA1z0VMD4v             5          89   \n",
       "5   0afhq8XCExXpqazXczTSve             6          83   \n",
       "6   2RttW7RAu5nOAfq6YFvApB             7          86   \n",
       "7   5HDPtsnyb3maFmPL8LLUTG             8          73   \n",
       "8   2dfHh7ECGxfNqZTQno09Vk             9          73   \n",
       "9   2pJZ1v8HezrAoZ0Fhzby92            10          75   \n",
       "10  6PJ8FF6UR8FZXfEvpHkIVN            11          73   \n",
       "11  4VuS959DSpr82t3qBqCrWG            12          81   \n",
       "12  3Lfiu5sZ4M4B6JaKMBc0FU            13          73   \n",
       "13  6SznMYPQJHzr3IwsAHLId2            14          71   \n",
       "14  35QZaWQRkmnAVqBF1TLCxQ            15          72   \n",
       "15  6TIU9Ehmi6dMzZK73Ym4yj            16          72   \n",
       "\n",
       "                              name  duration_ms    tempo  time_signature  key  \\\n",
       "0                           Eraser       227427   86.013               4    8   \n",
       "1               Castle on the Hill       261154  135.007               4    2   \n",
       "2                             Dive       238440  134.943               3    4   \n",
       "3                     Shape of You       233713   95.977               4    1   \n",
       "4                          Perfect       263400   95.050               3    8   \n",
       "5                      Galway Girl       170827   99.943               4    9   \n",
       "6                          Happier       207520   89.792               4    0   \n",
       "7                          New Man       189280   94.026               4    7   \n",
       "8   Hearts Don't Break Around Here       248413  105.177               3    7   \n",
       "9                  What Do I Know?       237333  115.092               4    1   \n",
       "10      How Would You Feel (Paean)       280533  139.979               4    9   \n",
       "11             Supermarket Flowers       221107   89.749               4    6   \n",
       "12                       Barcelona       191147   99.975               4    1   \n",
       "13                  Bibia Be Ye Ye       176747  127.067               4    7   \n",
       "14                  Nancy Mulligan       179787  101.993               4    7   \n",
       "15                     Save Myself       247107   78.842               4   10   \n",
       "\n",
       "    valence  mode  acousticness  danceability  energy  instrumentalness  \\\n",
       "0     0.914     0        0.0860         0.640   0.812          0.000000   \n",
       "1     0.471     1        0.0232         0.461   0.834          0.000011   \n",
       "2     0.526     1        0.3550         0.761   0.386          0.000000   \n",
       "3     0.931     0        0.5810         0.825   0.652          0.000000   \n",
       "4     0.168     1        0.1630         0.599   0.448          0.000000   \n",
       "5     0.781     1        0.0735         0.624   0.876          0.000000   \n",
       "6     0.236     1        0.5360         0.522   0.385          0.000000   \n",
       "7     0.862     1        0.0559         0.780   0.745          0.000000   \n",
       "8     0.181     1        0.7190         0.604   0.366          0.000000   \n",
       "9     0.895     0        0.2510         0.838   0.492          0.000000   \n",
       "10    0.242     1        0.4240         0.617   0.439          0.000000   \n",
       "11    0.257     1        0.9140         0.589   0.242          0.000000   \n",
       "12    0.682     1        0.4480         0.747   0.760          0.000000   \n",
       "13    0.882     1        0.5200         0.738   0.677          0.000000   \n",
       "14    0.858     1        0.1170         0.680   0.852          0.000000   \n",
       "15    0.481     1        0.8500         0.552   0.290          0.000000   \n",
       "\n",
       "    liveness  loudness  speechiness  \n",
       "0     0.0509    -5.647       0.0834  \n",
       "1     0.1400    -4.868       0.0989  \n",
       "2     0.0953    -6.158       0.0399  \n",
       "3     0.0931    -3.183       0.0802  \n",
       "4     0.1060    -6.312       0.0232  \n",
       "5     0.3270    -3.374       0.1000  \n",
       "6     0.1350    -7.355       0.0288  \n",
       "7     0.0595    -3.970       0.1450  \n",
       "8     0.1620    -7.881       0.0267  \n",
       "9     0.2620    -5.690       0.0380  \n",
       "10    0.1270    -5.630       0.0269  \n",
       "11    0.0887   -10.517       0.0442  \n",
       "12    0.1530    -4.294       0.1870  \n",
       "13    0.1330    -5.121       0.0824  \n",
       "14    0.0866    -4.350       0.0349  \n",
       "15    0.2270    -5.617       0.0448  "
      ]
     },
     "execution_count": 731,
     "metadata": {},
     "output_type": "execute_result"
    }
   ],
   "source": [
    "df"
   ]
  },
  {
   "cell_type": "code",
   "execution_count": null,
   "metadata": {},
   "outputs": [],
   "source": [
    "with open('data.txt') as json_file:  \n",
    "    data = json.load(json_file)\n",
    "    for p in data['people']:\n",
    "        print('Name: ' + p['name'])\n",
    "        print('Website: ' + p['website'])\n",
    "        print('From: ' + p['from'])\n",
    "        print('')"
   ]
  },
  {
   "cell_type": "code",
   "execution_count": 838,
   "metadata": {},
   "outputs": [],
   "source": [
    "class Album(object):\n",
    "    def __init__(self, album_json):\n",
    "        \n",
    "        self.id, self.name, self.genres, self.popularity, self.total_tracks, self.artists_list = [album_json[k] for k in ['id', 'name', 'genres', 'popularity', 'total_tracks', 'artists_list']]\n",
    "        \n",
    "        self.tracks_df = pd.read_json(album_json['tracks_info'], orient='split')\n"
   ]
  },
  {
   "cell_type": "code",
   "execution_count": 876,
   "metadata": {},
   "outputs": [],
   "source": [
    "def load_files(year):\n",
    "\n",
    "    with open(\"best_seller_albums_year_\" + str(year)) as json_file:  \n",
    "        best_seller_albums_data = json.load(json_file)\n",
    "        best_seller_albums_albums = [Album(d) for d in best_seller_albums_data]\n",
    "\n",
    "    with open(\"top_songs_albums_v2_year_\" + str(year)) as json_file:  \n",
    "        top_songs_albums_data = json.load(json_file)\n",
    "        top_songs_albums_albums = [Album(d) for d in top_songs_albums_data]\n",
    "\n",
    "    return best_seller_albums_albums, top_songs_albums_albums"
   ]
  },
  {
   "cell_type": "code",
   "execution_count": 877,
   "metadata": {},
   "outputs": [],
   "source": [
    "a1, a2 = load_files(2018)"
   ]
  },
  {
   "cell_type": "code",
   "execution_count": 881,
   "metadata": {},
   "outputs": [
    {
     "name": "stdout",
     "output_type": "stream",
     "text": [
      "first try: q= track:Meant To Be artist:Bebe Rexha, Florida Georgia Line\n"
     ]
    },
    {
     "data": {
      "text/plain": [
       "'6t5D6LEgHxqUVOxJItkzfb'"
      ]
     },
     "execution_count": 881,
     "metadata": {},
     "output_type": "execute_result"
    }
   ],
   "source": [
    "get_album_id_from_track('Meant To Be','Bebe Rexha, Florida Georgia Line')"
   ]
  },
  {
   "cell_type": "code",
   "execution_count": 879,
   "metadata": {},
   "outputs": [
    {
     "name": "stdout",
     "output_type": "stream",
     "text": [
      "Meant To Be (Originally performed by Bebe Rexha and Florida Georgia Line) ['2017 Dynamo Hitz']\n",
      "The Middle ['Zedd', 'Maren Morris', 'Grey']\n",
      "Girls Like You (feat. Cardi B) ['Maroon 5']\n",
      "Finesse (Remix) [Originally Performed by Bruno Mars & Cardi B] [Instrumental] ['Vox Freaks']\n",
      "Love Lies (Tribute to Khalid and Normani) ['Grant Richards']\n",
      "Look Alive (feat. Drake) ['BlocBoy JB', 'Drake']\n",
      "Yes Indeed (Originally Performed by Lil Baby and Drake) [Instrumental] ['3 Dope Brothas']\n",
      "FRIENDS ['Marshmello', 'Anne-Marie']\n",
      "Taste (feat. Offset) ['Tyga']\n",
      "No Limit ['G-Eazy']\n",
      "Tequila ['Dan + Shay']\n",
      "Motorsport (Originally Performed By Migos, Nicki Minaj & Cardi B) [Instrumental Version] ['i-genius']\n",
      "I Like Me Better ['Lauv']\n",
      "Back To You (From 13 Reasons Why – Season 2 Soundtrack) ['Selena Gomez']\n",
      "This Is America ['Childish Gambino']\n",
      "Bodak Yellow (Money Moves) [Originally performed by Cardi B] ['2017 Dynamo Hitz']\n",
      "Freaky Friday (feat. Chris Brown) ['Lil Dicky', 'Chris Brown']\n",
      "Wolves ['Selena Gomez', 'Marshmello']\n",
      "One Kiss (with Dua Lipa) ['Calvin Harris', 'Dua Lipa']\n",
      "You Make It Easy ['Jason Aldean']\n",
      "No Brainer ['DJ Khaled', 'Justin Bieber', 'Quavo']\n",
      "Eastside (with Halsey & Khalid) ['benny blanco', 'Halsey', 'Khalid']\n",
      "King's Dead (with Kendrick Lamar, Future & James Blake) ['Jay Rock', 'Kendrick Lamar', 'Future']\n",
      "Happier (Originally Performed by Marshmello and Bastille) [Instrumental] ['Vox Freaks']\n",
      "Te Bote (Remix) [Originally Performed by Nio Garcia, Casper Magico, Bad Bunny, Darell, Ozuna & Nicky Jam] [Instrumental] ['Vox Freaks']\n",
      "Say Something ['Justin Timberlake']\n",
      "X ['Nicky Jam', 'J Balvin']\n",
      "Dura ['Daddy Yankee']\n",
      "Mi Gente ['J Balvin', 'Willy William']\n"
     ]
    }
   ],
   "source": [
    "for a in a1:\n",
    "    if a.total_tracks < 3:\n",
    "        print(a.name, a.artists_list)"
   ]
  },
  {
   "cell_type": "code",
   "execution_count": 882,
   "metadata": {},
   "outputs": [
    {
     "name": "stdout",
     "output_type": "stream",
     "text": [
      "first try: q= track:Finesse artist:Bruno Mars, Cardi B\n"
     ]
    },
    {
     "data": {
      "text/plain": [
       "'3mumK2ar9b4JPhVOZR0V2p'"
      ]
     },
     "execution_count": 882,
     "metadata": {},
     "output_type": "execute_result"
    }
   ],
   "source": [
    "get_album_id_from_track('Finesse','Bruno Mars, Cardi B')"
   ]
  },
  {
   "cell_type": "code",
   "execution_count": 856,
   "metadata": {},
   "outputs": [],
   "source": [
    "def get_album_id_from_track(track, artists):\n",
    "    try:\n",
    "        q = 'track:' + track + ' artist:' + artists\n",
    "        result = spotify.search(q, limit=1)\n",
    "        the_first_album = result['tracks']['items'][0]['album']\n",
    "        album_id = the_first_album.get('id')\n",
    "        print('first try: q=', q)\n",
    "        return album_id\n",
    "    except:\n",
    "        try:\n",
    "            artists = ' '.join(artists.split(' x '))\n",
    "            artists = ' '.join(artists.split(' X '))\n",
    "            q = track + ' ' + artists\n",
    "            result = spotify.search(q, limit=1)\n",
    "            the_first_album = result['tracks']['items'][0]['album']\n",
    "            album_id = the_first_album.get('id')\n",
    "            print('second try: q=', q)\n",
    "            return album_id\n",
    "        except:\n",
    "            return track, artists"
   ]
  },
  {
   "cell_type": "code",
   "execution_count": 859,
   "metadata": {},
   "outputs": [
    {
     "data": {
      "text/plain": [
       "86"
      ]
     },
     "execution_count": 859,
     "metadata": {},
     "output_type": "execute_result"
    }
   ],
   "source": [
    "'4PgleR09JVnm3zY1fW3XBA'"
   ]
  },
  {
   "cell_type": "code",
   "execution_count": 862,
   "metadata": {},
   "outputs": [
    {
     "data": {
      "text/plain": [
       "'4KdtEKjY3Gi0mKiSdy96ML'"
      ]
     },
     "execution_count": 862,
     "metadata": {},
     "output_type": "execute_result"
    }
   ],
   "source": [
    "\n",
    "\n",
    "result = spotify.search('track:Bodak Yellow artist:Cardi B', limit=1)\n",
    "the_first_album = result['tracks']['items'][0]['album']\n",
    "the_first_album.get('id')\n"
   ]
  },
  {
   "cell_type": "code",
   "execution_count": null,
   "metadata": {},
   "outputs": [],
   "source": [
    "Finesse Bruno Mars & Cardi B"
   ]
  },
  {
   "cell_type": "code",
   "execution_count": 863,
   "metadata": {},
   "outputs": [],
   "source": [
    "from sklearn import base\n"
   ]
  },
  {
   "cell_type": "code",
   "execution_count": 864,
   "metadata": {},
   "outputs": [],
   "source": [
    "class ColumnSelectTransformer(base.BaseEstimator, base.TransformerMixin):\n",
    "    \n",
    "    def __init__(self, col_names):\n",
    "        self.col_names = col_names  # We will need these in transform()\n",
    "    \n",
    "    def fit(self, X, y=None):\n",
    "        # This transformer doesn't need to learn anything about the data,\n",
    "        # so it can just return self without any further processing\n",
    "        return self\n",
    "    \n",
    "    def transform(self, X):\n",
    "        df = pd.DataFrame(X)\n",
    "        return df[self.col_names].values.tolist()\n",
    "        # Return an array with the same number of rows as X and one\n",
    "        # column for each in self.col_names"
   ]
  },
  {
   "cell_type": "code",
   "execution_count": 868,
   "metadata": {},
   "outputs": [],
   "source": [
    "cst = ColumnSelectTransformer(['track_number','name'])"
   ]
  },
  {
   "cell_type": "code",
   "execution_count": 869,
   "metadata": {},
   "outputs": [
    {
     "data": {
      "text/plain": [
       "[[1, 'Next To Me'],\n",
       " [2, 'I Don’t Know Why'],\n",
       " [3, 'Whatever It Takes'],\n",
       " [4, 'Believer'],\n",
       " [5, 'Walking The Wire'],\n",
       " [6, 'Rise Up'],\n",
       " [7, 'I’ll Make It Up To You'],\n",
       " [8, 'Yesterday'],\n",
       " [9, 'Mouth Of The River'],\n",
       " [10, 'Thunder'],\n",
       " [11, 'Start Over'],\n",
       " [12, 'Dancing In The Dark']]"
      ]
     },
     "execution_count": 869,
     "metadata": {},
     "output_type": "execute_result"
    }
   ],
   "source": [
    "cst.transform(a.tracks_df)"
   ]
  },
  {
   "cell_type": "code",
   "execution_count": null,
   "metadata": {},
   "outputs": [],
   "source": [
    "[(2018,[(\"God's Plan\", 'Drake'), (\"Boo'd Up\", 'Ella Mai'), ('Bodak Yellow (Money Moves)', 'Cardi B'), (\"King's Dead\", 'Jay Rock, Kendrick Lamar, Future, James Blake'), ('Te Bote', 'Casper Magico, Nio Garcia, Darell, Nicky Jam, Ozuna, Bad Bunny'), ('Lemon', 'N*E*R*D, Rihanna'), (\"I'm Upset\", 'Drake')]),\n",
    "(2017, [(\"I'm The One\", 'DJ Khaled'), (\"There's Nothing Holdin' Me Back\", 'Shawn Mendes'), ('Bodak Yellow (Money Moves)', 'Cardi B'), (\"Can't Stop The Feeling!\", 'Justin Timberlake'), ('Broccoli', 'D.R.A.M.')]),\n",
    " (2016,[(\"Don't Let Me Down\", 'The Chainsmokers'), (\"Can't Stop The Feeling!\", 'Justin Timberlake'), ('Broccoli', 'D.R.A.M.'), (\"Don't\", 'Bryson Tiller'), (\"Don't Mind\", 'Kent Jones'), (\"Ex's & Oh's\", 'Elle King'), (\"Can't Feel My Face\", 'The Weeknd')]),\n",
    " (2015, [(\"Can't Feel My Face\", 'The Weeknd'), (\"I'm Not The Only One\", 'Sam Smith'), ('G.D.F.R.', 'Flo Rida'), ('B**** Better Have My Money', 'Rihanna'), (\"Ex's & Oh's\", 'Elle King'), ('Tuesday', 'I LOVE MAKONNEN'), (\"Don't\", 'Ed Sheeran')]),\n",
    " (2014,[(\"Don't Tell 'Em\", 'Jeremih'), (\"Ain't It Fun\", 'Paramore'), (\"Don't\", 'Ed Sheeran'), (\"Can't Remember To Forget You\", 'Shakira')]),\n",
    " (2013,[(\"Can't Hold Us\", 'Macklemore, Ryan Lewis'), ('Holy Grail', 'Jay Z'), (\"Don't You Worry Child\", 'Swedish House Mafia'), ('Die Young', 'Ke$ha'), (\"That's My Kind Of Night\", 'Luke Bryan'), (\"Mama's Broken Heart\", 'Miranda Lambert'), (\"I'm Different\", '2 Chainz')]),\n",
    " (2012,[(\"Don't Wake Me Up\", 'Chris Brown'), (\"Let's Go\", 'Calvin Harris'), ('Die Young', 'Ke$ha')]),\n",
    " (2011,[(\"What's My Name?\", 'Rihanna'), (\"I'm On One\", 'DJ Khaled'), (\"Don't You Wanna Stay\", 'Jason Aldean, Kelly Clarkson'), ('Remind Me', 'Brad Paisley Duet, Carrie Underwood'), (\"Don't Wanna Go Home\", 'Jason Derulo')]),\n",
    " (2010,[('TiK ToK', 'Ke$ha'), ('Empire State Of Mind', 'Jay-Z + Alicia Keys'), (\"Haven't Met You Yet\", 'Michael Buble'), ('Young Forever', 'Jay-Z + Mr. Hudson'), ('Blah Blah Blah', 'Ke$ha'), ('Eenie Meenie', 'Sean Kingston, Justin Bieber')]),\n",
    " (2009,[(\"Don't Trust Me\", '3OH!3'), ('Run This Town', 'Jay-Z, Rihanna, Kanye West'), ('Empire State Of Mind', 'Jay-Z + Alicia Keys'), ('Turn My Swag On', \"Soulja Boy Tell'em\"), ('People Are Crazy', 'Billy Currington')]),\n",
    " (2008,[(\"Don't Stop The Music\", 'Rihanna'), (\"Can't Believe It\", 'T-Pain'), (\"It's Not My Time\", '3 Doors Down'), ('Crank That (Soulja Boy)', \"Soulja Boy Tell'em\"), (\"Can't Help But Wait\", 'Trey Songz'), (\"You're Gonna Miss This\", 'Trace Adkins')]),\n",
    " (2007,[(\"Don't Matter\", 'Akon'), (\"It's Not Over\", 'Daughtry'), ('Crank That (Soulja Boy)', \"Soulja Boy Tell'em\"), (\"Cupid's Chokehold/Breakfast In America\", 'Gym Class Heroes'), (\"I'm A Flirt\", 'R. Kelly Or Bow Wow ('), ('Go Getta', 'Young Jeezy'), ('Same Girl', 'R. Kelly Duet, Usher')]),\n",
    " (2006,[(\"You're Beautiful\", 'James Blunt'), (\"It's Goin' Down\", 'Yung Joc'), ('Snap Yo Fingers', 'Lil Jon'), (\"Ain't No Other Man\", 'Christina Aguilera'), (\"I'm N Luv (Wit A Stripper)\", 'T-Pain'), (\"Where'd You Go\", 'Fort Minor'), (\"Don't Forget About Us\", 'Mariah Carey'), (\"What's Left Of Me\", 'Nick Lachey'), ('Soul Survivor', 'Young Jeezy'), (\"I'm Sprung\", 'T-Pain')])]"
   ]
  },
  {
   "cell_type": "code",
   "execution_count": 883,
   "metadata": {},
   "outputs": [
    {
     "name": "stdout",
     "output_type": "stream",
     "text": [
      "second try: q= God's Plan Drake\n"
     ]
    },
    {
     "data": {
      "text/plain": [
       "'1ATL5GLyefJaxhQzSPVrLX'"
      ]
     },
     "execution_count": 883,
     "metadata": {},
     "output_type": "execute_result"
    }
   ],
   "source": [
    "get_album_id_from_track(\"God's Plan\",'Drake')"
   ]
  },
  {
   "cell_type": "code",
   "execution_count": 10,
   "metadata": {},
   "outputs": [],
   "source": [
    "from sklearn.preprocessing import MinMaxScaler"
   ]
  },
  {
   "cell_type": "code",
   "execution_count": 12,
   "metadata": {},
   "outputs": [
    {
     "name": "stderr",
     "output_type": "stream",
     "text": [
      "/opt/conda/envs/data3/lib/python3.6/site-packages/sklearn/utils/validation.py:475: DataConversionWarning: Data with input dtype int64 was converted to float64 by MinMaxScaler.\n",
      "  warnings.warn(msg, DataConversionWarning)\n"
     ]
    },
    {
     "data": {
      "text/plain": [
       "array([[0.  ],\n",
       "       [0.25],\n",
       "       [0.5 ],\n",
       "       [0.75],\n",
       "       [1.  ]])"
      ]
     },
     "execution_count": 12,
     "metadata": {},
     "output_type": "execute_result"
    }
   ],
   "source": [
    "import numpy as np\n",
    "MinMaxScaler().fit_transform(np.array([1,2,3,4,5]).reshape(-1,1))"
   ]
  },
  {
   "cell_type": "code",
   "execution_count": null,
   "metadata": {},
   "outputs": [],
   "source": []
  }
 ],
 "metadata": {
  "kernelspec": {
   "display_name": "Python 3",
   "language": "python",
   "name": "python3"
  },
  "language_info": {
   "codemirror_mode": {
    "name": "ipython",
    "version": 3
   },
   "file_extension": ".py",
   "mimetype": "text/x-python",
   "name": "python",
   "nbconvert_exporter": "python",
   "pygments_lexer": "ipython3",
   "version": "3.6.2"
  }
 },
 "nbformat": 4,
 "nbformat_minor": 2
}
